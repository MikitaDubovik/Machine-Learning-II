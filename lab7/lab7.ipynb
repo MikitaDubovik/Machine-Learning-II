{
  "nbformat": 4,
  "nbformat_minor": 0,
  "metadata": {
    "colab": {
      "name": "lab7.ipynb",
      "provenance": [],
      "collapsed_sections": []
    },
    "kernelspec": {
      "name": "python3",
      "display_name": "Python 3"
    },
    "accelerator": "GPU",
    "widgets": {
      "application/vnd.jupyter.widget-state+json": {
        "6765e787f12442df90e5897cd4233d4d": {
          "model_module": "@jupyter-widgets/controls",
          "model_name": "HBoxModel",
          "state": {
            "_view_name": "HBoxView",
            "_dom_classes": [],
            "_model_name": "HBoxModel",
            "_view_module": "@jupyter-widgets/controls",
            "_model_module_version": "1.5.0",
            "_view_count": null,
            "_view_module_version": "1.5.0",
            "box_style": "",
            "layout": "IPY_MODEL_aeff275b0d864e469929fa8eb4cd502c",
            "_model_module": "@jupyter-widgets/controls",
            "children": [
              "IPY_MODEL_926c2ca8a8b84368abfda33d80e89fa4",
              "IPY_MODEL_3529c586d2fd46d083efef3f0a3749dd"
            ]
          }
        },
        "aeff275b0d864e469929fa8eb4cd502c": {
          "model_module": "@jupyter-widgets/base",
          "model_name": "LayoutModel",
          "state": {
            "_view_name": "LayoutView",
            "grid_template_rows": null,
            "right": null,
            "justify_content": null,
            "_view_module": "@jupyter-widgets/base",
            "overflow": null,
            "_model_module_version": "1.2.0",
            "_view_count": null,
            "flex_flow": null,
            "width": null,
            "min_width": null,
            "border": null,
            "align_items": null,
            "bottom": null,
            "_model_module": "@jupyter-widgets/base",
            "top": null,
            "grid_column": null,
            "overflow_y": null,
            "overflow_x": null,
            "grid_auto_flow": null,
            "grid_area": null,
            "grid_template_columns": null,
            "flex": null,
            "_model_name": "LayoutModel",
            "justify_items": null,
            "grid_row": null,
            "max_height": null,
            "align_content": null,
            "visibility": null,
            "align_self": null,
            "height": null,
            "min_height": null,
            "padding": null,
            "grid_auto_rows": null,
            "grid_gap": null,
            "max_width": null,
            "order": null,
            "_view_module_version": "1.2.0",
            "grid_template_areas": null,
            "object_position": null,
            "object_fit": null,
            "grid_auto_columns": null,
            "margin": null,
            "display": null,
            "left": null
          }
        },
        "926c2ca8a8b84368abfda33d80e89fa4": {
          "model_module": "@jupyter-widgets/controls",
          "model_name": "IntProgressModel",
          "state": {
            "_view_name": "ProgressView",
            "style": "IPY_MODEL_e63d225983de4311b70470ea3e67ab23",
            "_dom_classes": [],
            "description": "Dl Completed...: 100%",
            "_model_name": "IntProgressModel",
            "bar_style": "success",
            "max": 1,
            "_view_module": "@jupyter-widgets/controls",
            "_model_module_version": "1.5.0",
            "value": 1,
            "_view_count": null,
            "_view_module_version": "1.5.0",
            "orientation": "horizontal",
            "min": 0,
            "description_tooltip": null,
            "_model_module": "@jupyter-widgets/controls",
            "layout": "IPY_MODEL_78c59d8537204d3abf7d7ef1a97d31be"
          }
        },
        "3529c586d2fd46d083efef3f0a3749dd": {
          "model_module": "@jupyter-widgets/controls",
          "model_name": "HTMLModel",
          "state": {
            "_view_name": "HTMLView",
            "style": "IPY_MODEL_9f162c400aad435cb034ea3f86eb3ff0",
            "_dom_classes": [],
            "description": "",
            "_model_name": "HTMLModel",
            "placeholder": "​",
            "_view_module": "@jupyter-widgets/controls",
            "_model_module_version": "1.5.0",
            "value": " 1/1 [00:08&lt;00:00,  8.56s/ url]",
            "_view_count": null,
            "_view_module_version": "1.5.0",
            "description_tooltip": null,
            "_model_module": "@jupyter-widgets/controls",
            "layout": "IPY_MODEL_a1746f44289f429488ec52dd98b4b6e5"
          }
        },
        "e63d225983de4311b70470ea3e67ab23": {
          "model_module": "@jupyter-widgets/controls",
          "model_name": "ProgressStyleModel",
          "state": {
            "_view_name": "StyleView",
            "_model_name": "ProgressStyleModel",
            "description_width": "initial",
            "_view_module": "@jupyter-widgets/base",
            "_model_module_version": "1.5.0",
            "_view_count": null,
            "_view_module_version": "1.2.0",
            "bar_color": null,
            "_model_module": "@jupyter-widgets/controls"
          }
        },
        "78c59d8537204d3abf7d7ef1a97d31be": {
          "model_module": "@jupyter-widgets/base",
          "model_name": "LayoutModel",
          "state": {
            "_view_name": "LayoutView",
            "grid_template_rows": null,
            "right": null,
            "justify_content": null,
            "_view_module": "@jupyter-widgets/base",
            "overflow": null,
            "_model_module_version": "1.2.0",
            "_view_count": null,
            "flex_flow": null,
            "width": null,
            "min_width": null,
            "border": null,
            "align_items": null,
            "bottom": null,
            "_model_module": "@jupyter-widgets/base",
            "top": null,
            "grid_column": null,
            "overflow_y": null,
            "overflow_x": null,
            "grid_auto_flow": null,
            "grid_area": null,
            "grid_template_columns": null,
            "flex": null,
            "_model_name": "LayoutModel",
            "justify_items": null,
            "grid_row": null,
            "max_height": null,
            "align_content": null,
            "visibility": null,
            "align_self": null,
            "height": null,
            "min_height": null,
            "padding": null,
            "grid_auto_rows": null,
            "grid_gap": null,
            "max_width": null,
            "order": null,
            "_view_module_version": "1.2.0",
            "grid_template_areas": null,
            "object_position": null,
            "object_fit": null,
            "grid_auto_columns": null,
            "margin": null,
            "display": null,
            "left": null
          }
        },
        "9f162c400aad435cb034ea3f86eb3ff0": {
          "model_module": "@jupyter-widgets/controls",
          "model_name": "DescriptionStyleModel",
          "state": {
            "_view_name": "StyleView",
            "_model_name": "DescriptionStyleModel",
            "description_width": "",
            "_view_module": "@jupyter-widgets/base",
            "_model_module_version": "1.5.0",
            "_view_count": null,
            "_view_module_version": "1.2.0",
            "_model_module": "@jupyter-widgets/controls"
          }
        },
        "a1746f44289f429488ec52dd98b4b6e5": {
          "model_module": "@jupyter-widgets/base",
          "model_name": "LayoutModel",
          "state": {
            "_view_name": "LayoutView",
            "grid_template_rows": null,
            "right": null,
            "justify_content": null,
            "_view_module": "@jupyter-widgets/base",
            "overflow": null,
            "_model_module_version": "1.2.0",
            "_view_count": null,
            "flex_flow": null,
            "width": null,
            "min_width": null,
            "border": null,
            "align_items": null,
            "bottom": null,
            "_model_module": "@jupyter-widgets/base",
            "top": null,
            "grid_column": null,
            "overflow_y": null,
            "overflow_x": null,
            "grid_auto_flow": null,
            "grid_area": null,
            "grid_template_columns": null,
            "flex": null,
            "_model_name": "LayoutModel",
            "justify_items": null,
            "grid_row": null,
            "max_height": null,
            "align_content": null,
            "visibility": null,
            "align_self": null,
            "height": null,
            "min_height": null,
            "padding": null,
            "grid_auto_rows": null,
            "grid_gap": null,
            "max_width": null,
            "order": null,
            "_view_module_version": "1.2.0",
            "grid_template_areas": null,
            "object_position": null,
            "object_fit": null,
            "grid_auto_columns": null,
            "margin": null,
            "display": null,
            "left": null
          }
        },
        "5b3ee33dc6fc4ce3aecaf736c9712fb8": {
          "model_module": "@jupyter-widgets/controls",
          "model_name": "HBoxModel",
          "state": {
            "_view_name": "HBoxView",
            "_dom_classes": [],
            "_model_name": "HBoxModel",
            "_view_module": "@jupyter-widgets/controls",
            "_model_module_version": "1.5.0",
            "_view_count": null,
            "_view_module_version": "1.5.0",
            "box_style": "",
            "layout": "IPY_MODEL_5cbe7567706d46f9a73a13ac7adfac16",
            "_model_module": "@jupyter-widgets/controls",
            "children": [
              "IPY_MODEL_69d6e50601b6445a930075789f08e805",
              "IPY_MODEL_4e5065bb26444c3a82eea26b09da2e95"
            ]
          }
        },
        "5cbe7567706d46f9a73a13ac7adfac16": {
          "model_module": "@jupyter-widgets/base",
          "model_name": "LayoutModel",
          "state": {
            "_view_name": "LayoutView",
            "grid_template_rows": null,
            "right": null,
            "justify_content": null,
            "_view_module": "@jupyter-widgets/base",
            "overflow": null,
            "_model_module_version": "1.2.0",
            "_view_count": null,
            "flex_flow": null,
            "width": null,
            "min_width": null,
            "border": null,
            "align_items": null,
            "bottom": null,
            "_model_module": "@jupyter-widgets/base",
            "top": null,
            "grid_column": null,
            "overflow_y": null,
            "overflow_x": null,
            "grid_auto_flow": null,
            "grid_area": null,
            "grid_template_columns": null,
            "flex": null,
            "_model_name": "LayoutModel",
            "justify_items": null,
            "grid_row": null,
            "max_height": null,
            "align_content": null,
            "visibility": null,
            "align_self": null,
            "height": null,
            "min_height": null,
            "padding": null,
            "grid_auto_rows": null,
            "grid_gap": null,
            "max_width": null,
            "order": null,
            "_view_module_version": "1.2.0",
            "grid_template_areas": null,
            "object_position": null,
            "object_fit": null,
            "grid_auto_columns": null,
            "margin": null,
            "display": null,
            "left": null
          }
        },
        "69d6e50601b6445a930075789f08e805": {
          "model_module": "@jupyter-widgets/controls",
          "model_name": "IntProgressModel",
          "state": {
            "_view_name": "ProgressView",
            "style": "IPY_MODEL_c5ac1ea5f6e844c986c3f0a4747282cc",
            "_dom_classes": [],
            "description": "Dl Size...: 100%",
            "_model_name": "IntProgressModel",
            "bar_style": "success",
            "max": 1,
            "_view_module": "@jupyter-widgets/controls",
            "_model_module_version": "1.5.0",
            "value": 1,
            "_view_count": null,
            "_view_module_version": "1.5.0",
            "orientation": "horizontal",
            "min": 0,
            "description_tooltip": null,
            "_model_module": "@jupyter-widgets/controls",
            "layout": "IPY_MODEL_af0ea0da7cfd4df0b40aaa2f90812336"
          }
        },
        "4e5065bb26444c3a82eea26b09da2e95": {
          "model_module": "@jupyter-widgets/controls",
          "model_name": "HTMLModel",
          "state": {
            "_view_name": "HTMLView",
            "style": "IPY_MODEL_0c94b6a61fd345e08ec2d378a32d7d14",
            "_dom_classes": [],
            "description": "",
            "_model_name": "HTMLModel",
            "placeholder": "​",
            "_view_module": "@jupyter-widgets/controls",
            "_model_module_version": "1.5.0",
            "value": " 80/80 [00:08&lt;00:00,  9.38 MiB/s]",
            "_view_count": null,
            "_view_module_version": "1.5.0",
            "description_tooltip": null,
            "_model_module": "@jupyter-widgets/controls",
            "layout": "IPY_MODEL_b984cac44b4149ad96ba2d82c11bce54"
          }
        },
        "c5ac1ea5f6e844c986c3f0a4747282cc": {
          "model_module": "@jupyter-widgets/controls",
          "model_name": "ProgressStyleModel",
          "state": {
            "_view_name": "StyleView",
            "_model_name": "ProgressStyleModel",
            "description_width": "initial",
            "_view_module": "@jupyter-widgets/base",
            "_model_module_version": "1.5.0",
            "_view_count": null,
            "_view_module_version": "1.2.0",
            "bar_color": null,
            "_model_module": "@jupyter-widgets/controls"
          }
        },
        "af0ea0da7cfd4df0b40aaa2f90812336": {
          "model_module": "@jupyter-widgets/base",
          "model_name": "LayoutModel",
          "state": {
            "_view_name": "LayoutView",
            "grid_template_rows": null,
            "right": null,
            "justify_content": null,
            "_view_module": "@jupyter-widgets/base",
            "overflow": null,
            "_model_module_version": "1.2.0",
            "_view_count": null,
            "flex_flow": null,
            "width": null,
            "min_width": null,
            "border": null,
            "align_items": null,
            "bottom": null,
            "_model_module": "@jupyter-widgets/base",
            "top": null,
            "grid_column": null,
            "overflow_y": null,
            "overflow_x": null,
            "grid_auto_flow": null,
            "grid_area": null,
            "grid_template_columns": null,
            "flex": null,
            "_model_name": "LayoutModel",
            "justify_items": null,
            "grid_row": null,
            "max_height": null,
            "align_content": null,
            "visibility": null,
            "align_self": null,
            "height": null,
            "min_height": null,
            "padding": null,
            "grid_auto_rows": null,
            "grid_gap": null,
            "max_width": null,
            "order": null,
            "_view_module_version": "1.2.0",
            "grid_template_areas": null,
            "object_position": null,
            "object_fit": null,
            "grid_auto_columns": null,
            "margin": null,
            "display": null,
            "left": null
          }
        },
        "0c94b6a61fd345e08ec2d378a32d7d14": {
          "model_module": "@jupyter-widgets/controls",
          "model_name": "DescriptionStyleModel",
          "state": {
            "_view_name": "StyleView",
            "_model_name": "DescriptionStyleModel",
            "description_width": "",
            "_view_module": "@jupyter-widgets/base",
            "_model_module_version": "1.5.0",
            "_view_count": null,
            "_view_module_version": "1.2.0",
            "_model_module": "@jupyter-widgets/controls"
          }
        },
        "b984cac44b4149ad96ba2d82c11bce54": {
          "model_module": "@jupyter-widgets/base",
          "model_name": "LayoutModel",
          "state": {
            "_view_name": "LayoutView",
            "grid_template_rows": null,
            "right": null,
            "justify_content": null,
            "_view_module": "@jupyter-widgets/base",
            "overflow": null,
            "_model_module_version": "1.2.0",
            "_view_count": null,
            "flex_flow": null,
            "width": null,
            "min_width": null,
            "border": null,
            "align_items": null,
            "bottom": null,
            "_model_module": "@jupyter-widgets/base",
            "top": null,
            "grid_column": null,
            "overflow_y": null,
            "overflow_x": null,
            "grid_auto_flow": null,
            "grid_area": null,
            "grid_template_columns": null,
            "flex": null,
            "_model_name": "LayoutModel",
            "justify_items": null,
            "grid_row": null,
            "max_height": null,
            "align_content": null,
            "visibility": null,
            "align_self": null,
            "height": null,
            "min_height": null,
            "padding": null,
            "grid_auto_rows": null,
            "grid_gap": null,
            "max_width": null,
            "order": null,
            "_view_module_version": "1.2.0",
            "grid_template_areas": null,
            "object_position": null,
            "object_fit": null,
            "grid_auto_columns": null,
            "margin": null,
            "display": null,
            "left": null
          }
        },
        "0b3d5c3f8bee435a846f6e59d3500ebc": {
          "model_module": "@jupyter-widgets/controls",
          "model_name": "HBoxModel",
          "state": {
            "_view_name": "HBoxView",
            "_dom_classes": [],
            "_model_name": "HBoxModel",
            "_view_module": "@jupyter-widgets/controls",
            "_model_module_version": "1.5.0",
            "_view_count": null,
            "_view_module_version": "1.5.0",
            "box_style": "",
            "layout": "IPY_MODEL_a6998189e90c4ffe812f5e3ad8e8c7d2",
            "_model_module": "@jupyter-widgets/controls",
            "children": [
              "IPY_MODEL_75750782b93c499b81e420d831386526",
              "IPY_MODEL_eb3213ea703f41eb86bb8d7f1f0026f5"
            ]
          }
        },
        "a6998189e90c4ffe812f5e3ad8e8c7d2": {
          "model_module": "@jupyter-widgets/base",
          "model_name": "LayoutModel",
          "state": {
            "_view_name": "LayoutView",
            "grid_template_rows": null,
            "right": null,
            "justify_content": null,
            "_view_module": "@jupyter-widgets/base",
            "overflow": null,
            "_model_module_version": "1.2.0",
            "_view_count": null,
            "flex_flow": null,
            "width": null,
            "min_width": null,
            "border": null,
            "align_items": null,
            "bottom": null,
            "_model_module": "@jupyter-widgets/base",
            "top": null,
            "grid_column": null,
            "overflow_y": null,
            "overflow_x": null,
            "grid_auto_flow": null,
            "grid_area": null,
            "grid_template_columns": null,
            "flex": null,
            "_model_name": "LayoutModel",
            "justify_items": null,
            "grid_row": null,
            "max_height": null,
            "align_content": null,
            "visibility": null,
            "align_self": null,
            "height": null,
            "min_height": null,
            "padding": null,
            "grid_auto_rows": null,
            "grid_gap": null,
            "max_width": null,
            "order": null,
            "_view_module_version": "1.2.0",
            "grid_template_areas": null,
            "object_position": null,
            "object_fit": null,
            "grid_auto_columns": null,
            "margin": null,
            "display": null,
            "left": null
          }
        },
        "75750782b93c499b81e420d831386526": {
          "model_module": "@jupyter-widgets/controls",
          "model_name": "IntProgressModel",
          "state": {
            "_view_name": "ProgressView",
            "style": "IPY_MODEL_e9e9058358c046e498f09e4207e2f42a",
            "_dom_classes": [],
            "description": "",
            "_model_name": "IntProgressModel",
            "bar_style": "info",
            "max": 1,
            "_view_module": "@jupyter-widgets/controls",
            "_model_module_version": "1.5.0",
            "value": 1,
            "_view_count": null,
            "_view_module_version": "1.5.0",
            "orientation": "horizontal",
            "min": 0,
            "description_tooltip": null,
            "_model_module": "@jupyter-widgets/controls",
            "layout": "IPY_MODEL_ff5bbe14d18a4c05a1dffb5004ec0b87"
          }
        },
        "eb3213ea703f41eb86bb8d7f1f0026f5": {
          "model_module": "@jupyter-widgets/controls",
          "model_name": "HTMLModel",
          "state": {
            "_view_name": "HTMLView",
            "style": "IPY_MODEL_e683255c5a5a4ef0930815061eee15b9",
            "_dom_classes": [],
            "description": "",
            "_model_name": "HTMLModel",
            "placeholder": "​",
            "_view_module": "@jupyter-widgets/controls",
            "_model_module_version": "1.5.0",
            "value": " 25000/0 [00:30&lt;00:00, 982.87 examples/s]",
            "_view_count": null,
            "_view_module_version": "1.5.0",
            "description_tooltip": null,
            "_model_module": "@jupyter-widgets/controls",
            "layout": "IPY_MODEL_dc0dbe3fcfc244e4baf8bf84ff419a39"
          }
        },
        "e9e9058358c046e498f09e4207e2f42a": {
          "model_module": "@jupyter-widgets/controls",
          "model_name": "ProgressStyleModel",
          "state": {
            "_view_name": "StyleView",
            "_model_name": "ProgressStyleModel",
            "description_width": "initial",
            "_view_module": "@jupyter-widgets/base",
            "_model_module_version": "1.5.0",
            "_view_count": null,
            "_view_module_version": "1.2.0",
            "bar_color": null,
            "_model_module": "@jupyter-widgets/controls"
          }
        },
        "ff5bbe14d18a4c05a1dffb5004ec0b87": {
          "model_module": "@jupyter-widgets/base",
          "model_name": "LayoutModel",
          "state": {
            "_view_name": "LayoutView",
            "grid_template_rows": null,
            "right": null,
            "justify_content": null,
            "_view_module": "@jupyter-widgets/base",
            "overflow": null,
            "_model_module_version": "1.2.0",
            "_view_count": null,
            "flex_flow": null,
            "width": null,
            "min_width": null,
            "border": null,
            "align_items": null,
            "bottom": null,
            "_model_module": "@jupyter-widgets/base",
            "top": null,
            "grid_column": null,
            "overflow_y": null,
            "overflow_x": null,
            "grid_auto_flow": null,
            "grid_area": null,
            "grid_template_columns": null,
            "flex": null,
            "_model_name": "LayoutModel",
            "justify_items": null,
            "grid_row": null,
            "max_height": null,
            "align_content": null,
            "visibility": null,
            "align_self": null,
            "height": null,
            "min_height": null,
            "padding": null,
            "grid_auto_rows": null,
            "grid_gap": null,
            "max_width": null,
            "order": null,
            "_view_module_version": "1.2.0",
            "grid_template_areas": null,
            "object_position": null,
            "object_fit": null,
            "grid_auto_columns": null,
            "margin": null,
            "display": null,
            "left": null
          }
        },
        "e683255c5a5a4ef0930815061eee15b9": {
          "model_module": "@jupyter-widgets/controls",
          "model_name": "DescriptionStyleModel",
          "state": {
            "_view_name": "StyleView",
            "_model_name": "DescriptionStyleModel",
            "description_width": "",
            "_view_module": "@jupyter-widgets/base",
            "_model_module_version": "1.5.0",
            "_view_count": null,
            "_view_module_version": "1.2.0",
            "_model_module": "@jupyter-widgets/controls"
          }
        },
        "dc0dbe3fcfc244e4baf8bf84ff419a39": {
          "model_module": "@jupyter-widgets/base",
          "model_name": "LayoutModel",
          "state": {
            "_view_name": "LayoutView",
            "grid_template_rows": null,
            "right": null,
            "justify_content": null,
            "_view_module": "@jupyter-widgets/base",
            "overflow": null,
            "_model_module_version": "1.2.0",
            "_view_count": null,
            "flex_flow": null,
            "width": null,
            "min_width": null,
            "border": null,
            "align_items": null,
            "bottom": null,
            "_model_module": "@jupyter-widgets/base",
            "top": null,
            "grid_column": null,
            "overflow_y": null,
            "overflow_x": null,
            "grid_auto_flow": null,
            "grid_area": null,
            "grid_template_columns": null,
            "flex": null,
            "_model_name": "LayoutModel",
            "justify_items": null,
            "grid_row": null,
            "max_height": null,
            "align_content": null,
            "visibility": null,
            "align_self": null,
            "height": null,
            "min_height": null,
            "padding": null,
            "grid_auto_rows": null,
            "grid_gap": null,
            "max_width": null,
            "order": null,
            "_view_module_version": "1.2.0",
            "grid_template_areas": null,
            "object_position": null,
            "object_fit": null,
            "grid_auto_columns": null,
            "margin": null,
            "display": null,
            "left": null
          }
        },
        "c203753512a94ae58af586b13e8bb8f9": {
          "model_module": "@jupyter-widgets/controls",
          "model_name": "HBoxModel",
          "state": {
            "_view_name": "HBoxView",
            "_dom_classes": [],
            "_model_name": "HBoxModel",
            "_view_module": "@jupyter-widgets/controls",
            "_model_module_version": "1.5.0",
            "_view_count": null,
            "_view_module_version": "1.5.0",
            "box_style": "",
            "layout": "IPY_MODEL_e6d7a23fb0c743eb9109130690e38ba5",
            "_model_module": "@jupyter-widgets/controls",
            "children": [
              "IPY_MODEL_9f794549edfd4f12b8cca8eca0244f0d",
              "IPY_MODEL_bac4f1caf1024f18a4c85b61c6a28fb1"
            ]
          }
        },
        "e6d7a23fb0c743eb9109130690e38ba5": {
          "model_module": "@jupyter-widgets/base",
          "model_name": "LayoutModel",
          "state": {
            "_view_name": "LayoutView",
            "grid_template_rows": null,
            "right": null,
            "justify_content": null,
            "_view_module": "@jupyter-widgets/base",
            "overflow": null,
            "_model_module_version": "1.2.0",
            "_view_count": null,
            "flex_flow": null,
            "width": null,
            "min_width": null,
            "border": null,
            "align_items": null,
            "bottom": null,
            "_model_module": "@jupyter-widgets/base",
            "top": null,
            "grid_column": null,
            "overflow_y": null,
            "overflow_x": null,
            "grid_auto_flow": null,
            "grid_area": null,
            "grid_template_columns": null,
            "flex": null,
            "_model_name": "LayoutModel",
            "justify_items": null,
            "grid_row": null,
            "max_height": null,
            "align_content": null,
            "visibility": null,
            "align_self": null,
            "height": null,
            "min_height": null,
            "padding": null,
            "grid_auto_rows": null,
            "grid_gap": null,
            "max_width": null,
            "order": null,
            "_view_module_version": "1.2.0",
            "grid_template_areas": null,
            "object_position": null,
            "object_fit": null,
            "grid_auto_columns": null,
            "margin": null,
            "display": null,
            "left": null
          }
        },
        "9f794549edfd4f12b8cca8eca0244f0d": {
          "model_module": "@jupyter-widgets/controls",
          "model_name": "IntProgressModel",
          "state": {
            "_view_name": "ProgressView",
            "style": "IPY_MODEL_cd4aed1a4f1c40dd863a09b7f0378508",
            "_dom_classes": [],
            "description": " 79%",
            "_model_name": "IntProgressModel",
            "bar_style": "danger",
            "max": 25000,
            "_view_module": "@jupyter-widgets/controls",
            "_model_module_version": "1.5.0",
            "value": 19808,
            "_view_count": null,
            "_view_module_version": "1.5.0",
            "orientation": "horizontal",
            "min": 0,
            "description_tooltip": null,
            "_model_module": "@jupyter-widgets/controls",
            "layout": "IPY_MODEL_14d12d899d4a4663a920450b176243ea"
          }
        },
        "bac4f1caf1024f18a4c85b61c6a28fb1": {
          "model_module": "@jupyter-widgets/controls",
          "model_name": "HTMLModel",
          "state": {
            "_view_name": "HTMLView",
            "style": "IPY_MODEL_1605c25549e941c4975e69ffe4a28746",
            "_dom_classes": [],
            "description": "",
            "_model_name": "HTMLModel",
            "placeholder": "​",
            "_view_module": "@jupyter-widgets/controls",
            "_model_module_version": "1.5.0",
            "value": " 19808/25000 [00:00&lt;00:00, 198078.77 examples/s]",
            "_view_count": null,
            "_view_module_version": "1.5.0",
            "description_tooltip": null,
            "_model_module": "@jupyter-widgets/controls",
            "layout": "IPY_MODEL_f323b47e1c0f48d49752f03397c14611"
          }
        },
        "cd4aed1a4f1c40dd863a09b7f0378508": {
          "model_module": "@jupyter-widgets/controls",
          "model_name": "ProgressStyleModel",
          "state": {
            "_view_name": "StyleView",
            "_model_name": "ProgressStyleModel",
            "description_width": "initial",
            "_view_module": "@jupyter-widgets/base",
            "_model_module_version": "1.5.0",
            "_view_count": null,
            "_view_module_version": "1.2.0",
            "bar_color": null,
            "_model_module": "@jupyter-widgets/controls"
          }
        },
        "14d12d899d4a4663a920450b176243ea": {
          "model_module": "@jupyter-widgets/base",
          "model_name": "LayoutModel",
          "state": {
            "_view_name": "LayoutView",
            "grid_template_rows": null,
            "right": null,
            "justify_content": null,
            "_view_module": "@jupyter-widgets/base",
            "overflow": null,
            "_model_module_version": "1.2.0",
            "_view_count": null,
            "flex_flow": null,
            "width": null,
            "min_width": null,
            "border": null,
            "align_items": null,
            "bottom": null,
            "_model_module": "@jupyter-widgets/base",
            "top": null,
            "grid_column": null,
            "overflow_y": null,
            "overflow_x": null,
            "grid_auto_flow": null,
            "grid_area": null,
            "grid_template_columns": null,
            "flex": null,
            "_model_name": "LayoutModel",
            "justify_items": null,
            "grid_row": null,
            "max_height": null,
            "align_content": null,
            "visibility": null,
            "align_self": null,
            "height": null,
            "min_height": null,
            "padding": null,
            "grid_auto_rows": null,
            "grid_gap": null,
            "max_width": null,
            "order": null,
            "_view_module_version": "1.2.0",
            "grid_template_areas": null,
            "object_position": null,
            "object_fit": null,
            "grid_auto_columns": null,
            "margin": null,
            "display": null,
            "left": null
          }
        },
        "1605c25549e941c4975e69ffe4a28746": {
          "model_module": "@jupyter-widgets/controls",
          "model_name": "DescriptionStyleModel",
          "state": {
            "_view_name": "StyleView",
            "_model_name": "DescriptionStyleModel",
            "description_width": "",
            "_view_module": "@jupyter-widgets/base",
            "_model_module_version": "1.5.0",
            "_view_count": null,
            "_view_module_version": "1.2.0",
            "_model_module": "@jupyter-widgets/controls"
          }
        },
        "f323b47e1c0f48d49752f03397c14611": {
          "model_module": "@jupyter-widgets/base",
          "model_name": "LayoutModel",
          "state": {
            "_view_name": "LayoutView",
            "grid_template_rows": null,
            "right": null,
            "justify_content": null,
            "_view_module": "@jupyter-widgets/base",
            "overflow": null,
            "_model_module_version": "1.2.0",
            "_view_count": null,
            "flex_flow": null,
            "width": null,
            "min_width": null,
            "border": null,
            "align_items": null,
            "bottom": null,
            "_model_module": "@jupyter-widgets/base",
            "top": null,
            "grid_column": null,
            "overflow_y": null,
            "overflow_x": null,
            "grid_auto_flow": null,
            "grid_area": null,
            "grid_template_columns": null,
            "flex": null,
            "_model_name": "LayoutModel",
            "justify_items": null,
            "grid_row": null,
            "max_height": null,
            "align_content": null,
            "visibility": null,
            "align_self": null,
            "height": null,
            "min_height": null,
            "padding": null,
            "grid_auto_rows": null,
            "grid_gap": null,
            "max_width": null,
            "order": null,
            "_view_module_version": "1.2.0",
            "grid_template_areas": null,
            "object_position": null,
            "object_fit": null,
            "grid_auto_columns": null,
            "margin": null,
            "display": null,
            "left": null
          }
        },
        "601bf0289678413ab96f05b2843404f6": {
          "model_module": "@jupyter-widgets/controls",
          "model_name": "HBoxModel",
          "state": {
            "_view_name": "HBoxView",
            "_dom_classes": [],
            "_model_name": "HBoxModel",
            "_view_module": "@jupyter-widgets/controls",
            "_model_module_version": "1.5.0",
            "_view_count": null,
            "_view_module_version": "1.5.0",
            "box_style": "",
            "layout": "IPY_MODEL_181772f5c5894703a8d13ce56d5eb148",
            "_model_module": "@jupyter-widgets/controls",
            "children": [
              "IPY_MODEL_7a0f65fe3867495a9746d64b697832d8",
              "IPY_MODEL_21d1fa827a1e43d5b30a8d3b0a32ba2c"
            ]
          }
        },
        "181772f5c5894703a8d13ce56d5eb148": {
          "model_module": "@jupyter-widgets/base",
          "model_name": "LayoutModel",
          "state": {
            "_view_name": "LayoutView",
            "grid_template_rows": null,
            "right": null,
            "justify_content": null,
            "_view_module": "@jupyter-widgets/base",
            "overflow": null,
            "_model_module_version": "1.2.0",
            "_view_count": null,
            "flex_flow": null,
            "width": null,
            "min_width": null,
            "border": null,
            "align_items": null,
            "bottom": null,
            "_model_module": "@jupyter-widgets/base",
            "top": null,
            "grid_column": null,
            "overflow_y": null,
            "overflow_x": null,
            "grid_auto_flow": null,
            "grid_area": null,
            "grid_template_columns": null,
            "flex": null,
            "_model_name": "LayoutModel",
            "justify_items": null,
            "grid_row": null,
            "max_height": null,
            "align_content": null,
            "visibility": null,
            "align_self": null,
            "height": null,
            "min_height": null,
            "padding": null,
            "grid_auto_rows": null,
            "grid_gap": null,
            "max_width": null,
            "order": null,
            "_view_module_version": "1.2.0",
            "grid_template_areas": null,
            "object_position": null,
            "object_fit": null,
            "grid_auto_columns": null,
            "margin": null,
            "display": null,
            "left": null
          }
        },
        "7a0f65fe3867495a9746d64b697832d8": {
          "model_module": "@jupyter-widgets/controls",
          "model_name": "IntProgressModel",
          "state": {
            "_view_name": "ProgressView",
            "style": "IPY_MODEL_cea6a8a816cb4bf0a5e995189284ff48",
            "_dom_classes": [],
            "description": "",
            "_model_name": "IntProgressModel",
            "bar_style": "info",
            "max": 1,
            "_view_module": "@jupyter-widgets/controls",
            "_model_module_version": "1.5.0",
            "value": 1,
            "_view_count": null,
            "_view_module_version": "1.5.0",
            "orientation": "horizontal",
            "min": 0,
            "description_tooltip": null,
            "_model_module": "@jupyter-widgets/controls",
            "layout": "IPY_MODEL_db29bfd293f54da6a13ef7d0e8461bc4"
          }
        },
        "21d1fa827a1e43d5b30a8d3b0a32ba2c": {
          "model_module": "@jupyter-widgets/controls",
          "model_name": "HTMLModel",
          "state": {
            "_view_name": "HTMLView",
            "style": "IPY_MODEL_7e4fe36677174cb6b0b9508f34eca99e",
            "_dom_classes": [],
            "description": "",
            "_model_name": "HTMLModel",
            "placeholder": "​",
            "_view_module": "@jupyter-widgets/controls",
            "_model_module_version": "1.5.0",
            "value": " 25000/0 [00:29&lt;00:00, 1060.84 examples/s]",
            "_view_count": null,
            "_view_module_version": "1.5.0",
            "description_tooltip": null,
            "_model_module": "@jupyter-widgets/controls",
            "layout": "IPY_MODEL_e12a4e8e51dd42c5994f3e0f8d02d611"
          }
        },
        "cea6a8a816cb4bf0a5e995189284ff48": {
          "model_module": "@jupyter-widgets/controls",
          "model_name": "ProgressStyleModel",
          "state": {
            "_view_name": "StyleView",
            "_model_name": "ProgressStyleModel",
            "description_width": "initial",
            "_view_module": "@jupyter-widgets/base",
            "_model_module_version": "1.5.0",
            "_view_count": null,
            "_view_module_version": "1.2.0",
            "bar_color": null,
            "_model_module": "@jupyter-widgets/controls"
          }
        },
        "db29bfd293f54da6a13ef7d0e8461bc4": {
          "model_module": "@jupyter-widgets/base",
          "model_name": "LayoutModel",
          "state": {
            "_view_name": "LayoutView",
            "grid_template_rows": null,
            "right": null,
            "justify_content": null,
            "_view_module": "@jupyter-widgets/base",
            "overflow": null,
            "_model_module_version": "1.2.0",
            "_view_count": null,
            "flex_flow": null,
            "width": null,
            "min_width": null,
            "border": null,
            "align_items": null,
            "bottom": null,
            "_model_module": "@jupyter-widgets/base",
            "top": null,
            "grid_column": null,
            "overflow_y": null,
            "overflow_x": null,
            "grid_auto_flow": null,
            "grid_area": null,
            "grid_template_columns": null,
            "flex": null,
            "_model_name": "LayoutModel",
            "justify_items": null,
            "grid_row": null,
            "max_height": null,
            "align_content": null,
            "visibility": null,
            "align_self": null,
            "height": null,
            "min_height": null,
            "padding": null,
            "grid_auto_rows": null,
            "grid_gap": null,
            "max_width": null,
            "order": null,
            "_view_module_version": "1.2.0",
            "grid_template_areas": null,
            "object_position": null,
            "object_fit": null,
            "grid_auto_columns": null,
            "margin": null,
            "display": null,
            "left": null
          }
        },
        "7e4fe36677174cb6b0b9508f34eca99e": {
          "model_module": "@jupyter-widgets/controls",
          "model_name": "DescriptionStyleModel",
          "state": {
            "_view_name": "StyleView",
            "_model_name": "DescriptionStyleModel",
            "description_width": "",
            "_view_module": "@jupyter-widgets/base",
            "_model_module_version": "1.5.0",
            "_view_count": null,
            "_view_module_version": "1.2.0",
            "_model_module": "@jupyter-widgets/controls"
          }
        },
        "e12a4e8e51dd42c5994f3e0f8d02d611": {
          "model_module": "@jupyter-widgets/base",
          "model_name": "LayoutModel",
          "state": {
            "_view_name": "LayoutView",
            "grid_template_rows": null,
            "right": null,
            "justify_content": null,
            "_view_module": "@jupyter-widgets/base",
            "overflow": null,
            "_model_module_version": "1.2.0",
            "_view_count": null,
            "flex_flow": null,
            "width": null,
            "min_width": null,
            "border": null,
            "align_items": null,
            "bottom": null,
            "_model_module": "@jupyter-widgets/base",
            "top": null,
            "grid_column": null,
            "overflow_y": null,
            "overflow_x": null,
            "grid_auto_flow": null,
            "grid_area": null,
            "grid_template_columns": null,
            "flex": null,
            "_model_name": "LayoutModel",
            "justify_items": null,
            "grid_row": null,
            "max_height": null,
            "align_content": null,
            "visibility": null,
            "align_self": null,
            "height": null,
            "min_height": null,
            "padding": null,
            "grid_auto_rows": null,
            "grid_gap": null,
            "max_width": null,
            "order": null,
            "_view_module_version": "1.2.0",
            "grid_template_areas": null,
            "object_position": null,
            "object_fit": null,
            "grid_auto_columns": null,
            "margin": null,
            "display": null,
            "left": null
          }
        },
        "58c2623ac4724f7aa5e7834362927804": {
          "model_module": "@jupyter-widgets/controls",
          "model_name": "HBoxModel",
          "state": {
            "_view_name": "HBoxView",
            "_dom_classes": [],
            "_model_name": "HBoxModel",
            "_view_module": "@jupyter-widgets/controls",
            "_model_module_version": "1.5.0",
            "_view_count": null,
            "_view_module_version": "1.5.0",
            "box_style": "",
            "layout": "IPY_MODEL_40f3cfc815b0419f8e8dd13c12d84490",
            "_model_module": "@jupyter-widgets/controls",
            "children": [
              "IPY_MODEL_34ed9d5e8efa452788638cb5e8b34360",
              "IPY_MODEL_ec8835d4450c495fbee565a07df38732"
            ]
          }
        },
        "40f3cfc815b0419f8e8dd13c12d84490": {
          "model_module": "@jupyter-widgets/base",
          "model_name": "LayoutModel",
          "state": {
            "_view_name": "LayoutView",
            "grid_template_rows": null,
            "right": null,
            "justify_content": null,
            "_view_module": "@jupyter-widgets/base",
            "overflow": null,
            "_model_module_version": "1.2.0",
            "_view_count": null,
            "flex_flow": null,
            "width": null,
            "min_width": null,
            "border": null,
            "align_items": null,
            "bottom": null,
            "_model_module": "@jupyter-widgets/base",
            "top": null,
            "grid_column": null,
            "overflow_y": null,
            "overflow_x": null,
            "grid_auto_flow": null,
            "grid_area": null,
            "grid_template_columns": null,
            "flex": null,
            "_model_name": "LayoutModel",
            "justify_items": null,
            "grid_row": null,
            "max_height": null,
            "align_content": null,
            "visibility": null,
            "align_self": null,
            "height": null,
            "min_height": null,
            "padding": null,
            "grid_auto_rows": null,
            "grid_gap": null,
            "max_width": null,
            "order": null,
            "_view_module_version": "1.2.0",
            "grid_template_areas": null,
            "object_position": null,
            "object_fit": null,
            "grid_auto_columns": null,
            "margin": null,
            "display": null,
            "left": null
          }
        },
        "34ed9d5e8efa452788638cb5e8b34360": {
          "model_module": "@jupyter-widgets/controls",
          "model_name": "IntProgressModel",
          "state": {
            "_view_name": "ProgressView",
            "style": "IPY_MODEL_57a98761b2ea48bcb71b9702042a9852",
            "_dom_classes": [],
            "description": " 66%",
            "_model_name": "IntProgressModel",
            "bar_style": "danger",
            "max": 25000,
            "_view_module": "@jupyter-widgets/controls",
            "_model_module_version": "1.5.0",
            "value": 16512,
            "_view_count": null,
            "_view_module_version": "1.5.0",
            "orientation": "horizontal",
            "min": 0,
            "description_tooltip": null,
            "_model_module": "@jupyter-widgets/controls",
            "layout": "IPY_MODEL_cf38ddcff64a4e5aaf3b1f1cf123f02d"
          }
        },
        "ec8835d4450c495fbee565a07df38732": {
          "model_module": "@jupyter-widgets/controls",
          "model_name": "HTMLModel",
          "state": {
            "_view_name": "HTMLView",
            "style": "IPY_MODEL_e49922518dd8491bbeeb0d9b66c6a1a2",
            "_dom_classes": [],
            "description": "",
            "_model_name": "HTMLModel",
            "placeholder": "​",
            "_view_module": "@jupyter-widgets/controls",
            "_model_module_version": "1.5.0",
            "value": " 16512/25000 [00:00&lt;00:00, 165119.37 examples/s]",
            "_view_count": null,
            "_view_module_version": "1.5.0",
            "description_tooltip": null,
            "_model_module": "@jupyter-widgets/controls",
            "layout": "IPY_MODEL_3241dd9e51d14bea80a025775b3afed6"
          }
        },
        "57a98761b2ea48bcb71b9702042a9852": {
          "model_module": "@jupyter-widgets/controls",
          "model_name": "ProgressStyleModel",
          "state": {
            "_view_name": "StyleView",
            "_model_name": "ProgressStyleModel",
            "description_width": "initial",
            "_view_module": "@jupyter-widgets/base",
            "_model_module_version": "1.5.0",
            "_view_count": null,
            "_view_module_version": "1.2.0",
            "bar_color": null,
            "_model_module": "@jupyter-widgets/controls"
          }
        },
        "cf38ddcff64a4e5aaf3b1f1cf123f02d": {
          "model_module": "@jupyter-widgets/base",
          "model_name": "LayoutModel",
          "state": {
            "_view_name": "LayoutView",
            "grid_template_rows": null,
            "right": null,
            "justify_content": null,
            "_view_module": "@jupyter-widgets/base",
            "overflow": null,
            "_model_module_version": "1.2.0",
            "_view_count": null,
            "flex_flow": null,
            "width": null,
            "min_width": null,
            "border": null,
            "align_items": null,
            "bottom": null,
            "_model_module": "@jupyter-widgets/base",
            "top": null,
            "grid_column": null,
            "overflow_y": null,
            "overflow_x": null,
            "grid_auto_flow": null,
            "grid_area": null,
            "grid_template_columns": null,
            "flex": null,
            "_model_name": "LayoutModel",
            "justify_items": null,
            "grid_row": null,
            "max_height": null,
            "align_content": null,
            "visibility": null,
            "align_self": null,
            "height": null,
            "min_height": null,
            "padding": null,
            "grid_auto_rows": null,
            "grid_gap": null,
            "max_width": null,
            "order": null,
            "_view_module_version": "1.2.0",
            "grid_template_areas": null,
            "object_position": null,
            "object_fit": null,
            "grid_auto_columns": null,
            "margin": null,
            "display": null,
            "left": null
          }
        },
        "e49922518dd8491bbeeb0d9b66c6a1a2": {
          "model_module": "@jupyter-widgets/controls",
          "model_name": "DescriptionStyleModel",
          "state": {
            "_view_name": "StyleView",
            "_model_name": "DescriptionStyleModel",
            "description_width": "",
            "_view_module": "@jupyter-widgets/base",
            "_model_module_version": "1.5.0",
            "_view_count": null,
            "_view_module_version": "1.2.0",
            "_model_module": "@jupyter-widgets/controls"
          }
        },
        "3241dd9e51d14bea80a025775b3afed6": {
          "model_module": "@jupyter-widgets/base",
          "model_name": "LayoutModel",
          "state": {
            "_view_name": "LayoutView",
            "grid_template_rows": null,
            "right": null,
            "justify_content": null,
            "_view_module": "@jupyter-widgets/base",
            "overflow": null,
            "_model_module_version": "1.2.0",
            "_view_count": null,
            "flex_flow": null,
            "width": null,
            "min_width": null,
            "border": null,
            "align_items": null,
            "bottom": null,
            "_model_module": "@jupyter-widgets/base",
            "top": null,
            "grid_column": null,
            "overflow_y": null,
            "overflow_x": null,
            "grid_auto_flow": null,
            "grid_area": null,
            "grid_template_columns": null,
            "flex": null,
            "_model_name": "LayoutModel",
            "justify_items": null,
            "grid_row": null,
            "max_height": null,
            "align_content": null,
            "visibility": null,
            "align_self": null,
            "height": null,
            "min_height": null,
            "padding": null,
            "grid_auto_rows": null,
            "grid_gap": null,
            "max_width": null,
            "order": null,
            "_view_module_version": "1.2.0",
            "grid_template_areas": null,
            "object_position": null,
            "object_fit": null,
            "grid_auto_columns": null,
            "margin": null,
            "display": null,
            "left": null
          }
        },
        "7f4ee31eaa5441bf9adff6c710bfde88": {
          "model_module": "@jupyter-widgets/controls",
          "model_name": "HBoxModel",
          "state": {
            "_view_name": "HBoxView",
            "_dom_classes": [],
            "_model_name": "HBoxModel",
            "_view_module": "@jupyter-widgets/controls",
            "_model_module_version": "1.5.0",
            "_view_count": null,
            "_view_module_version": "1.5.0",
            "box_style": "",
            "layout": "IPY_MODEL_8103b99ed3a54969b0a36b6e9332608f",
            "_model_module": "@jupyter-widgets/controls",
            "children": [
              "IPY_MODEL_3c7e44e4b32d4776beed94c11720c855",
              "IPY_MODEL_976b57218a324cf88953ab96926bac30"
            ]
          }
        },
        "8103b99ed3a54969b0a36b6e9332608f": {
          "model_module": "@jupyter-widgets/base",
          "model_name": "LayoutModel",
          "state": {
            "_view_name": "LayoutView",
            "grid_template_rows": null,
            "right": null,
            "justify_content": null,
            "_view_module": "@jupyter-widgets/base",
            "overflow": null,
            "_model_module_version": "1.2.0",
            "_view_count": null,
            "flex_flow": null,
            "width": null,
            "min_width": null,
            "border": null,
            "align_items": null,
            "bottom": null,
            "_model_module": "@jupyter-widgets/base",
            "top": null,
            "grid_column": null,
            "overflow_y": null,
            "overflow_x": null,
            "grid_auto_flow": null,
            "grid_area": null,
            "grid_template_columns": null,
            "flex": null,
            "_model_name": "LayoutModel",
            "justify_items": null,
            "grid_row": null,
            "max_height": null,
            "align_content": null,
            "visibility": null,
            "align_self": null,
            "height": null,
            "min_height": null,
            "padding": null,
            "grid_auto_rows": null,
            "grid_gap": null,
            "max_width": null,
            "order": null,
            "_view_module_version": "1.2.0",
            "grid_template_areas": null,
            "object_position": null,
            "object_fit": null,
            "grid_auto_columns": null,
            "margin": null,
            "display": null,
            "left": null
          }
        },
        "3c7e44e4b32d4776beed94c11720c855": {
          "model_module": "@jupyter-widgets/controls",
          "model_name": "IntProgressModel",
          "state": {
            "_view_name": "ProgressView",
            "style": "IPY_MODEL_34cf8a319c6d454f8d3b859ec3b17fe3",
            "_dom_classes": [],
            "description": "",
            "_model_name": "IntProgressModel",
            "bar_style": "info",
            "max": 1,
            "_view_module": "@jupyter-widgets/controls",
            "_model_module_version": "1.5.0",
            "value": 1,
            "_view_count": null,
            "_view_module_version": "1.5.0",
            "orientation": "horizontal",
            "min": 0,
            "description_tooltip": null,
            "_model_module": "@jupyter-widgets/controls",
            "layout": "IPY_MODEL_9f2adc063ca14466a7b06d9de944111e"
          }
        },
        "976b57218a324cf88953ab96926bac30": {
          "model_module": "@jupyter-widgets/controls",
          "model_name": "HTMLModel",
          "state": {
            "_view_name": "HTMLView",
            "style": "IPY_MODEL_fd282816c13d464e8b11691113dbdf4b",
            "_dom_classes": [],
            "description": "",
            "_model_name": "HTMLModel",
            "placeholder": "​",
            "_view_module": "@jupyter-widgets/controls",
            "_model_module_version": "1.5.0",
            "value": " 50000/0 [00:53&lt;00:00, 1021.80 examples/s]",
            "_view_count": null,
            "_view_module_version": "1.5.0",
            "description_tooltip": null,
            "_model_module": "@jupyter-widgets/controls",
            "layout": "IPY_MODEL_db982b09c14249b4b2e411442efb25dc"
          }
        },
        "34cf8a319c6d454f8d3b859ec3b17fe3": {
          "model_module": "@jupyter-widgets/controls",
          "model_name": "ProgressStyleModel",
          "state": {
            "_view_name": "StyleView",
            "_model_name": "ProgressStyleModel",
            "description_width": "initial",
            "_view_module": "@jupyter-widgets/base",
            "_model_module_version": "1.5.0",
            "_view_count": null,
            "_view_module_version": "1.2.0",
            "bar_color": null,
            "_model_module": "@jupyter-widgets/controls"
          }
        },
        "9f2adc063ca14466a7b06d9de944111e": {
          "model_module": "@jupyter-widgets/base",
          "model_name": "LayoutModel",
          "state": {
            "_view_name": "LayoutView",
            "grid_template_rows": null,
            "right": null,
            "justify_content": null,
            "_view_module": "@jupyter-widgets/base",
            "overflow": null,
            "_model_module_version": "1.2.0",
            "_view_count": null,
            "flex_flow": null,
            "width": null,
            "min_width": null,
            "border": null,
            "align_items": null,
            "bottom": null,
            "_model_module": "@jupyter-widgets/base",
            "top": null,
            "grid_column": null,
            "overflow_y": null,
            "overflow_x": null,
            "grid_auto_flow": null,
            "grid_area": null,
            "grid_template_columns": null,
            "flex": null,
            "_model_name": "LayoutModel",
            "justify_items": null,
            "grid_row": null,
            "max_height": null,
            "align_content": null,
            "visibility": null,
            "align_self": null,
            "height": null,
            "min_height": null,
            "padding": null,
            "grid_auto_rows": null,
            "grid_gap": null,
            "max_width": null,
            "order": null,
            "_view_module_version": "1.2.0",
            "grid_template_areas": null,
            "object_position": null,
            "object_fit": null,
            "grid_auto_columns": null,
            "margin": null,
            "display": null,
            "left": null
          }
        },
        "fd282816c13d464e8b11691113dbdf4b": {
          "model_module": "@jupyter-widgets/controls",
          "model_name": "DescriptionStyleModel",
          "state": {
            "_view_name": "StyleView",
            "_model_name": "DescriptionStyleModel",
            "description_width": "",
            "_view_module": "@jupyter-widgets/base",
            "_model_module_version": "1.5.0",
            "_view_count": null,
            "_view_module_version": "1.2.0",
            "_model_module": "@jupyter-widgets/controls"
          }
        },
        "db982b09c14249b4b2e411442efb25dc": {
          "model_module": "@jupyter-widgets/base",
          "model_name": "LayoutModel",
          "state": {
            "_view_name": "LayoutView",
            "grid_template_rows": null,
            "right": null,
            "justify_content": null,
            "_view_module": "@jupyter-widgets/base",
            "overflow": null,
            "_model_module_version": "1.2.0",
            "_view_count": null,
            "flex_flow": null,
            "width": null,
            "min_width": null,
            "border": null,
            "align_items": null,
            "bottom": null,
            "_model_module": "@jupyter-widgets/base",
            "top": null,
            "grid_column": null,
            "overflow_y": null,
            "overflow_x": null,
            "grid_auto_flow": null,
            "grid_area": null,
            "grid_template_columns": null,
            "flex": null,
            "_model_name": "LayoutModel",
            "justify_items": null,
            "grid_row": null,
            "max_height": null,
            "align_content": null,
            "visibility": null,
            "align_self": null,
            "height": null,
            "min_height": null,
            "padding": null,
            "grid_auto_rows": null,
            "grid_gap": null,
            "max_width": null,
            "order": null,
            "_view_module_version": "1.2.0",
            "grid_template_areas": null,
            "object_position": null,
            "object_fit": null,
            "grid_auto_columns": null,
            "margin": null,
            "display": null,
            "left": null
          }
        },
        "5baabdac18664c9cb248c84dd5b68dad": {
          "model_module": "@jupyter-widgets/controls",
          "model_name": "HBoxModel",
          "state": {
            "_view_name": "HBoxView",
            "_dom_classes": [],
            "_model_name": "HBoxModel",
            "_view_module": "@jupyter-widgets/controls",
            "_model_module_version": "1.5.0",
            "_view_count": null,
            "_view_module_version": "1.5.0",
            "box_style": "",
            "layout": "IPY_MODEL_9990a64ad9b247fd9e3b1c20187b0c14",
            "_model_module": "@jupyter-widgets/controls",
            "children": [
              "IPY_MODEL_1d34b073192048d69cd0def2cdf33e88",
              "IPY_MODEL_59f221e103274181bfa997982d995fbd"
            ]
          }
        },
        "9990a64ad9b247fd9e3b1c20187b0c14": {
          "model_module": "@jupyter-widgets/base",
          "model_name": "LayoutModel",
          "state": {
            "_view_name": "LayoutView",
            "grid_template_rows": null,
            "right": null,
            "justify_content": null,
            "_view_module": "@jupyter-widgets/base",
            "overflow": null,
            "_model_module_version": "1.2.0",
            "_view_count": null,
            "flex_flow": null,
            "width": null,
            "min_width": null,
            "border": null,
            "align_items": null,
            "bottom": null,
            "_model_module": "@jupyter-widgets/base",
            "top": null,
            "grid_column": null,
            "overflow_y": null,
            "overflow_x": null,
            "grid_auto_flow": null,
            "grid_area": null,
            "grid_template_columns": null,
            "flex": null,
            "_model_name": "LayoutModel",
            "justify_items": null,
            "grid_row": null,
            "max_height": null,
            "align_content": null,
            "visibility": null,
            "align_self": null,
            "height": null,
            "min_height": null,
            "padding": null,
            "grid_auto_rows": null,
            "grid_gap": null,
            "max_width": null,
            "order": null,
            "_view_module_version": "1.2.0",
            "grid_template_areas": null,
            "object_position": null,
            "object_fit": null,
            "grid_auto_columns": null,
            "margin": null,
            "display": null,
            "left": null
          }
        },
        "1d34b073192048d69cd0def2cdf33e88": {
          "model_module": "@jupyter-widgets/controls",
          "model_name": "IntProgressModel",
          "state": {
            "_view_name": "ProgressView",
            "style": "IPY_MODEL_d6083bfc89dd4c4c83310eb20732eb66",
            "_dom_classes": [],
            "description": " 95%",
            "_model_name": "IntProgressModel",
            "bar_style": "danger",
            "max": 50000,
            "_view_module": "@jupyter-widgets/controls",
            "_model_module_version": "1.5.0",
            "value": 47605,
            "_view_count": null,
            "_view_module_version": "1.5.0",
            "orientation": "horizontal",
            "min": 0,
            "description_tooltip": null,
            "_model_module": "@jupyter-widgets/controls",
            "layout": "IPY_MODEL_c254be45ecc743aa8e106d6886dcd8a1"
          }
        },
        "59f221e103274181bfa997982d995fbd": {
          "model_module": "@jupyter-widgets/controls",
          "model_name": "HTMLModel",
          "state": {
            "_view_name": "HTMLView",
            "style": "IPY_MODEL_92fdaff66c324828898a6a4cfff0b087",
            "_dom_classes": [],
            "description": "",
            "_model_name": "HTMLModel",
            "placeholder": "​",
            "_view_module": "@jupyter-widgets/controls",
            "_model_module_version": "1.5.0",
            "value": " 47605/50000 [00:08&lt;00:00, 119545.83 examples/s]",
            "_view_count": null,
            "_view_module_version": "1.5.0",
            "description_tooltip": null,
            "_model_module": "@jupyter-widgets/controls",
            "layout": "IPY_MODEL_d3662b89342645b4b09fe9f6116ff744"
          }
        },
        "d6083bfc89dd4c4c83310eb20732eb66": {
          "model_module": "@jupyter-widgets/controls",
          "model_name": "ProgressStyleModel",
          "state": {
            "_view_name": "StyleView",
            "_model_name": "ProgressStyleModel",
            "description_width": "initial",
            "_view_module": "@jupyter-widgets/base",
            "_model_module_version": "1.5.0",
            "_view_count": null,
            "_view_module_version": "1.2.0",
            "bar_color": null,
            "_model_module": "@jupyter-widgets/controls"
          }
        },
        "c254be45ecc743aa8e106d6886dcd8a1": {
          "model_module": "@jupyter-widgets/base",
          "model_name": "LayoutModel",
          "state": {
            "_view_name": "LayoutView",
            "grid_template_rows": null,
            "right": null,
            "justify_content": null,
            "_view_module": "@jupyter-widgets/base",
            "overflow": null,
            "_model_module_version": "1.2.0",
            "_view_count": null,
            "flex_flow": null,
            "width": null,
            "min_width": null,
            "border": null,
            "align_items": null,
            "bottom": null,
            "_model_module": "@jupyter-widgets/base",
            "top": null,
            "grid_column": null,
            "overflow_y": null,
            "overflow_x": null,
            "grid_auto_flow": null,
            "grid_area": null,
            "grid_template_columns": null,
            "flex": null,
            "_model_name": "LayoutModel",
            "justify_items": null,
            "grid_row": null,
            "max_height": null,
            "align_content": null,
            "visibility": null,
            "align_self": null,
            "height": null,
            "min_height": null,
            "padding": null,
            "grid_auto_rows": null,
            "grid_gap": null,
            "max_width": null,
            "order": null,
            "_view_module_version": "1.2.0",
            "grid_template_areas": null,
            "object_position": null,
            "object_fit": null,
            "grid_auto_columns": null,
            "margin": null,
            "display": null,
            "left": null
          }
        },
        "92fdaff66c324828898a6a4cfff0b087": {
          "model_module": "@jupyter-widgets/controls",
          "model_name": "DescriptionStyleModel",
          "state": {
            "_view_name": "StyleView",
            "_model_name": "DescriptionStyleModel",
            "description_width": "",
            "_view_module": "@jupyter-widgets/base",
            "_model_module_version": "1.5.0",
            "_view_count": null,
            "_view_module_version": "1.2.0",
            "_model_module": "@jupyter-widgets/controls"
          }
        },
        "d3662b89342645b4b09fe9f6116ff744": {
          "model_module": "@jupyter-widgets/base",
          "model_name": "LayoutModel",
          "state": {
            "_view_name": "LayoutView",
            "grid_template_rows": null,
            "right": null,
            "justify_content": null,
            "_view_module": "@jupyter-widgets/base",
            "overflow": null,
            "_model_module_version": "1.2.0",
            "_view_count": null,
            "flex_flow": null,
            "width": null,
            "min_width": null,
            "border": null,
            "align_items": null,
            "bottom": null,
            "_model_module": "@jupyter-widgets/base",
            "top": null,
            "grid_column": null,
            "overflow_y": null,
            "overflow_x": null,
            "grid_auto_flow": null,
            "grid_area": null,
            "grid_template_columns": null,
            "flex": null,
            "_model_name": "LayoutModel",
            "justify_items": null,
            "grid_row": null,
            "max_height": null,
            "align_content": null,
            "visibility": null,
            "align_self": null,
            "height": null,
            "min_height": null,
            "padding": null,
            "grid_auto_rows": null,
            "grid_gap": null,
            "max_width": null,
            "order": null,
            "_view_module_version": "1.2.0",
            "grid_template_areas": null,
            "object_position": null,
            "object_fit": null,
            "grid_auto_columns": null,
            "margin": null,
            "display": null,
            "left": null
          }
        }
      }
    }
  },
  "cells": [
    {
      "cell_type": "code",
      "metadata": {
        "id": "YVu7rW91tNUb",
        "colab_type": "code",
        "colab": {}
      },
      "source": [
        "%tensorflow_version 2.x\n",
        "import tensorflow as tf\n",
        "import tensorflow_datasets as tfds"
      ],
      "execution_count": 0,
      "outputs": []
    },
    {
      "cell_type": "code",
      "metadata": {
        "id": "8q-syIRXr9jc",
        "colab_type": "code",
        "colab": {}
      },
      "source": [
        "BATCH_SIZE=64"
      ],
      "execution_count": 0,
      "outputs": []
    },
    {
      "cell_type": "code",
      "metadata": {
        "id": "vLwyf6NBg-qF",
        "colab_type": "code",
        "outputId": "7b87f0b6-08e9-47cf-e43e-dee6860f9db0",
        "colab": {
          "base_uri": "https://localhost:8080/",
          "height": 330,
          "referenced_widgets": [
            "6765e787f12442df90e5897cd4233d4d",
            "aeff275b0d864e469929fa8eb4cd502c",
            "926c2ca8a8b84368abfda33d80e89fa4",
            "3529c586d2fd46d083efef3f0a3749dd",
            "e63d225983de4311b70470ea3e67ab23",
            "78c59d8537204d3abf7d7ef1a97d31be",
            "9f162c400aad435cb034ea3f86eb3ff0",
            "a1746f44289f429488ec52dd98b4b6e5",
            "5b3ee33dc6fc4ce3aecaf736c9712fb8",
            "5cbe7567706d46f9a73a13ac7adfac16",
            "69d6e50601b6445a930075789f08e805",
            "4e5065bb26444c3a82eea26b09da2e95",
            "c5ac1ea5f6e844c986c3f0a4747282cc",
            "af0ea0da7cfd4df0b40aaa2f90812336",
            "0c94b6a61fd345e08ec2d378a32d7d14",
            "b984cac44b4149ad96ba2d82c11bce54",
            "0b3d5c3f8bee435a846f6e59d3500ebc",
            "a6998189e90c4ffe812f5e3ad8e8c7d2",
            "75750782b93c499b81e420d831386526",
            "eb3213ea703f41eb86bb8d7f1f0026f5",
            "e9e9058358c046e498f09e4207e2f42a",
            "ff5bbe14d18a4c05a1dffb5004ec0b87",
            "e683255c5a5a4ef0930815061eee15b9",
            "dc0dbe3fcfc244e4baf8bf84ff419a39",
            "c203753512a94ae58af586b13e8bb8f9",
            "e6d7a23fb0c743eb9109130690e38ba5",
            "9f794549edfd4f12b8cca8eca0244f0d",
            "bac4f1caf1024f18a4c85b61c6a28fb1",
            "cd4aed1a4f1c40dd863a09b7f0378508",
            "14d12d899d4a4663a920450b176243ea",
            "1605c25549e941c4975e69ffe4a28746",
            "f323b47e1c0f48d49752f03397c14611",
            "601bf0289678413ab96f05b2843404f6",
            "181772f5c5894703a8d13ce56d5eb148",
            "7a0f65fe3867495a9746d64b697832d8",
            "21d1fa827a1e43d5b30a8d3b0a32ba2c",
            "cea6a8a816cb4bf0a5e995189284ff48",
            "db29bfd293f54da6a13ef7d0e8461bc4",
            "7e4fe36677174cb6b0b9508f34eca99e",
            "e12a4e8e51dd42c5994f3e0f8d02d611",
            "58c2623ac4724f7aa5e7834362927804",
            "40f3cfc815b0419f8e8dd13c12d84490",
            "34ed9d5e8efa452788638cb5e8b34360",
            "ec8835d4450c495fbee565a07df38732",
            "57a98761b2ea48bcb71b9702042a9852",
            "cf38ddcff64a4e5aaf3b1f1cf123f02d",
            "e49922518dd8491bbeeb0d9b66c6a1a2",
            "3241dd9e51d14bea80a025775b3afed6",
            "7f4ee31eaa5441bf9adff6c710bfde88",
            "8103b99ed3a54969b0a36b6e9332608f",
            "3c7e44e4b32d4776beed94c11720c855",
            "976b57218a324cf88953ab96926bac30",
            "34cf8a319c6d454f8d3b859ec3b17fe3",
            "9f2adc063ca14466a7b06d9de944111e",
            "fd282816c13d464e8b11691113dbdf4b",
            "db982b09c14249b4b2e411442efb25dc",
            "5baabdac18664c9cb248c84dd5b68dad",
            "9990a64ad9b247fd9e3b1c20187b0c14",
            "1d34b073192048d69cd0def2cdf33e88",
            "59f221e103274181bfa997982d995fbd",
            "d6083bfc89dd4c4c83310eb20732eb66",
            "c254be45ecc743aa8e106d6886dcd8a1",
            "92fdaff66c324828898a6a4cfff0b087",
            "d3662b89342645b4b09fe9f6116ff744"
          ]
        }
      },
      "source": [
        "dataset, info = tfds.load('imdb_reviews/subwords8k', with_info=True,\n",
        "                          as_supervised=True)\n",
        "train_dataset, test_dataset = dataset['train'], dataset['test']\n",
        "encoder = info.features['text'].encoder"
      ],
      "execution_count": 3,
      "outputs": [
        {
          "output_type": "stream",
          "text": [
            "\u001b[1mDownloading and preparing dataset imdb_reviews/subwords8k/1.0.0 (download: 80.23 MiB, generated: Unknown size, total: 80.23 MiB) to /root/tensorflow_datasets/imdb_reviews/subwords8k/1.0.0...\u001b[0m\n"
          ],
          "name": "stdout"
        },
        {
          "output_type": "display_data",
          "data": {
            "application/vnd.jupyter.widget-view+json": {
              "model_id": "6765e787f12442df90e5897cd4233d4d",
              "version_minor": 0,
              "version_major": 2
            },
            "text/plain": [
              "HBox(children=(IntProgress(value=1, bar_style='info', description='Dl Completed...', max=1, style=ProgressStyl…"
            ]
          },
          "metadata": {
            "tags": []
          }
        },
        {
          "output_type": "display_data",
          "data": {
            "application/vnd.jupyter.widget-view+json": {
              "model_id": "5b3ee33dc6fc4ce3aecaf736c9712fb8",
              "version_minor": 0,
              "version_major": 2
            },
            "text/plain": [
              "HBox(children=(IntProgress(value=1, bar_style='info', description='Dl Size...', max=1, style=ProgressStyle(des…"
            ]
          },
          "metadata": {
            "tags": []
          }
        },
        {
          "output_type": "stream",
          "text": [
            "\n",
            "\n",
            "\n",
            "\n"
          ],
          "name": "stdout"
        },
        {
          "output_type": "display_data",
          "data": {
            "application/vnd.jupyter.widget-view+json": {
              "model_id": "0b3d5c3f8bee435a846f6e59d3500ebc",
              "version_minor": 0,
              "version_major": 2
            },
            "text/plain": [
              "HBox(children=(IntProgress(value=1, bar_style='info', max=1), HTML(value='')))"
            ]
          },
          "metadata": {
            "tags": []
          }
        },
        {
          "output_type": "stream",
          "text": [
            "\rShuffling and writing examples to /root/tensorflow_datasets/imdb_reviews/subwords8k/1.0.0.incomplete781N9V/imdb_reviews-train.tfrecord\n"
          ],
          "name": "stdout"
        },
        {
          "output_type": "display_data",
          "data": {
            "application/vnd.jupyter.widget-view+json": {
              "model_id": "c203753512a94ae58af586b13e8bb8f9",
              "version_minor": 0,
              "version_major": 2
            },
            "text/plain": [
              "HBox(children=(IntProgress(value=0, max=25000), HTML(value='')))"
            ]
          },
          "metadata": {
            "tags": []
          }
        },
        {
          "output_type": "stream",
          "text": [
            "\r"
          ],
          "name": "stdout"
        },
        {
          "output_type": "display_data",
          "data": {
            "application/vnd.jupyter.widget-view+json": {
              "model_id": "601bf0289678413ab96f05b2843404f6",
              "version_minor": 0,
              "version_major": 2
            },
            "text/plain": [
              "HBox(children=(IntProgress(value=1, bar_style='info', max=1), HTML(value='')))"
            ]
          },
          "metadata": {
            "tags": []
          }
        },
        {
          "output_type": "stream",
          "text": [
            "\rShuffling and writing examples to /root/tensorflow_datasets/imdb_reviews/subwords8k/1.0.0.incomplete781N9V/imdb_reviews-test.tfrecord\n"
          ],
          "name": "stdout"
        },
        {
          "output_type": "display_data",
          "data": {
            "application/vnd.jupyter.widget-view+json": {
              "model_id": "58c2623ac4724f7aa5e7834362927804",
              "version_minor": 0,
              "version_major": 2
            },
            "text/plain": [
              "HBox(children=(IntProgress(value=0, max=25000), HTML(value='')))"
            ]
          },
          "metadata": {
            "tags": []
          }
        },
        {
          "output_type": "stream",
          "text": [
            "\r"
          ],
          "name": "stdout"
        },
        {
          "output_type": "display_data",
          "data": {
            "application/vnd.jupyter.widget-view+json": {
              "model_id": "7f4ee31eaa5441bf9adff6c710bfde88",
              "version_minor": 0,
              "version_major": 2
            },
            "text/plain": [
              "HBox(children=(IntProgress(value=1, bar_style='info', max=1), HTML(value='')))"
            ]
          },
          "metadata": {
            "tags": []
          }
        },
        {
          "output_type": "stream",
          "text": [
            "\rShuffling and writing examples to /root/tensorflow_datasets/imdb_reviews/subwords8k/1.0.0.incomplete781N9V/imdb_reviews-unsupervised.tfrecord\n"
          ],
          "name": "stdout"
        },
        {
          "output_type": "display_data",
          "data": {
            "application/vnd.jupyter.widget-view+json": {
              "model_id": "5baabdac18664c9cb248c84dd5b68dad",
              "version_minor": 0,
              "version_major": 2
            },
            "text/plain": [
              "HBox(children=(IntProgress(value=0, max=50000), HTML(value='')))"
            ]
          },
          "metadata": {
            "tags": []
          }
        },
        {
          "output_type": "stream",
          "text": [
            "\u001b[1mDataset imdb_reviews downloaded and prepared to /root/tensorflow_datasets/imdb_reviews/subwords8k/1.0.0. Subsequent calls will reuse this data.\u001b[0m\n",
            "\r"
          ],
          "name": "stdout"
        }
      ]
    },
    {
      "cell_type": "code",
      "metadata": {
        "id": "CevQlSw5vJtN",
        "colab_type": "code",
        "colab": {}
      },
      "source": [
        "train_dataset = train_dataset.shuffle(1000).padded_batch(BATCH_SIZE, padded_shapes=((None,), ()))\n",
        "test_dataset = test_dataset.padded_batch(BATCH_SIZE, padded_shapes=((None,), ()))"
      ],
      "execution_count": 0,
      "outputs": []
    },
    {
      "cell_type": "code",
      "metadata": {
        "id": "jVEV_2XFt9p6",
        "colab_type": "code",
        "colab": {}
      },
      "source": [
        "model_1 = tf.keras.Sequential([\n",
        "    tf.keras.layers.Embedding(encoder.vocab_size, 100),\n",
        "    tf.keras.layers.Bidirectional(tf.keras.layers.LSTM(64)),\n",
        "    tf.keras.layers.Dense(1,activation='sigmoid')\n",
        "])\n",
        "\n",
        "model_2 = tf.keras.Sequential([\n",
        "    tf.keras.layers.Embedding(encoder.vocab_size, 100),\n",
        "    tf.keras.layers.Bidirectional(tf.keras.layers.LSTM(64,return_sequences=True)),\n",
        "    tf.keras.layers.Bidirectional(tf.keras.layers.LSTM(32)),\n",
        "    tf.keras.layers.Dense(64, activation='relu'),\n",
        "    tf.keras.layers.Dropout(0.5),\n",
        "    tf.keras.layers.Dense(1,activation='sigmoid')\n",
        "])"
      ],
      "execution_count": 0,
      "outputs": []
    },
    {
      "cell_type": "code",
      "metadata": {
        "id": "BvuJxRRmubck",
        "colab_type": "code",
        "colab": {}
      },
      "source": [
        "model_1.compile(optimizer='adam',\n",
        "    loss='binary_crossentropy',\n",
        "    metrics=['accuracy'])\n",
        "\n",
        "model_2.compile(optimizer='adam',\n",
        "    loss='binary_crossentropy',\n",
        "    metrics=['accuracy'])"
      ],
      "execution_count": 0,
      "outputs": []
    },
    {
      "cell_type": "code",
      "metadata": {
        "id": "jDOLa5aJhiRW",
        "colab_type": "code",
        "colab": {}
      },
      "source": [
        "model_1_cp_callback = tf.keras.callbacks.ModelCheckpoint(\n",
        "    filepath=\"/content/drive/My Drive/Colab Notebooks/lab7_results/model_1.ckpt\",\n",
        "    save_weights_only=True,\n",
        "    verbose=1\n",
        "    )"
      ],
      "execution_count": 0,
      "outputs": []
    },
    {
      "cell_type": "code",
      "metadata": {
        "id": "O6XlHi3PvbYs",
        "colab_type": "code",
        "outputId": "1e527d22-73e1-40fd-f33d-1c1ab8a8f407",
        "colab": {
          "base_uri": "https://localhost:8080/",
          "height": 1000
        }
      },
      "source": [
        "model_1.fit(train_dataset, \n",
        "    epochs=20,\n",
        "    validation_data=test_dataset,\n",
        "    validation_steps=30,\n",
        "    callbacks=[model_1_cp_callback])"
      ],
      "execution_count": 8,
      "outputs": [
        {
          "output_type": "stream",
          "text": [
            "Epoch 1/20\n",
            "391/391 [==============================] - ETA: 0s - loss: 0.5885 - accuracy: 0.6755\n",
            "Epoch 00001: saving model to /content/drive/My Drive/Colab Notebooks/lab7_results/model_1.ckpt\n",
            "391/391 [==============================] - 51s 129ms/step - loss: 0.5885 - accuracy: 0.6755 - val_loss: 0.5437 - val_accuracy: 0.7292\n",
            "Epoch 2/20\n",
            "391/391 [==============================] - ETA: 0s - loss: 0.4053 - accuracy: 0.8288\n",
            "Epoch 00002: saving model to /content/drive/My Drive/Colab Notebooks/lab7_results/model_1.ckpt\n",
            "391/391 [==============================] - 49s 127ms/step - loss: 0.4053 - accuracy: 0.8288 - val_loss: 0.4479 - val_accuracy: 0.8036\n",
            "Epoch 3/20\n",
            "391/391 [==============================] - ETA: 0s - loss: 0.3849 - accuracy: 0.8308\n",
            "Epoch 00003: saving model to /content/drive/My Drive/Colab Notebooks/lab7_results/model_1.ckpt\n",
            "391/391 [==============================] - 50s 127ms/step - loss: 0.3849 - accuracy: 0.8308 - val_loss: 0.5026 - val_accuracy: 0.7682\n",
            "Epoch 4/20\n",
            "391/391 [==============================] - ETA: 0s - loss: 0.3974 - accuracy: 0.8266\n",
            "Epoch 00004: saving model to /content/drive/My Drive/Colab Notebooks/lab7_results/model_1.ckpt\n",
            "391/391 [==============================] - 50s 128ms/step - loss: 0.3974 - accuracy: 0.8266 - val_loss: 0.4214 - val_accuracy: 0.8323\n",
            "Epoch 5/20\n",
            "391/391 [==============================] - ETA: 0s - loss: 0.5497 - accuracy: 0.7241\n",
            "Epoch 00005: saving model to /content/drive/My Drive/Colab Notebooks/lab7_results/model_1.ckpt\n",
            "391/391 [==============================] - 50s 128ms/step - loss: 0.5497 - accuracy: 0.7241 - val_loss: 0.6652 - val_accuracy: 0.5807\n",
            "Epoch 6/20\n",
            "391/391 [==============================] - ETA: 0s - loss: 0.5104 - accuracy: 0.7485\n",
            "Epoch 00006: saving model to /content/drive/My Drive/Colab Notebooks/lab7_results/model_1.ckpt\n",
            "391/391 [==============================] - 50s 128ms/step - loss: 0.5104 - accuracy: 0.7485 - val_loss: 0.4824 - val_accuracy: 0.7854\n",
            "Epoch 7/20\n",
            "391/391 [==============================] - ETA: 0s - loss: 0.5494 - accuracy: 0.7192\n",
            "Epoch 00007: saving model to /content/drive/My Drive/Colab Notebooks/lab7_results/model_1.ckpt\n",
            "391/391 [==============================] - 50s 128ms/step - loss: 0.5494 - accuracy: 0.7192 - val_loss: 0.6190 - val_accuracy: 0.6724\n",
            "Epoch 8/20\n",
            "391/391 [==============================] - ETA: 0s - loss: 0.3756 - accuracy: 0.8648\n",
            "Epoch 00008: saving model to /content/drive/My Drive/Colab Notebooks/lab7_results/model_1.ckpt\n",
            "391/391 [==============================] - 50s 129ms/step - loss: 0.3756 - accuracy: 0.8648 - val_loss: 0.3955 - val_accuracy: 0.8385\n",
            "Epoch 9/20\n",
            "391/391 [==============================] - ETA: 0s - loss: 0.2610 - accuracy: 0.9058\n",
            "Epoch 00009: saving model to /content/drive/My Drive/Colab Notebooks/lab7_results/model_1.ckpt\n",
            "391/391 [==============================] - 50s 129ms/step - loss: 0.2610 - accuracy: 0.9058 - val_loss: 0.3556 - val_accuracy: 0.8562\n",
            "Epoch 10/20\n",
            "391/391 [==============================] - ETA: 0s - loss: 0.2024 - accuracy: 0.9306\n",
            "Epoch 00010: saving model to /content/drive/My Drive/Colab Notebooks/lab7_results/model_1.ckpt\n",
            "391/391 [==============================] - 50s 128ms/step - loss: 0.2024 - accuracy: 0.9306 - val_loss: 0.3811 - val_accuracy: 0.8521\n",
            "Epoch 11/20\n",
            "391/391 [==============================] - ETA: 0s - loss: 0.1652 - accuracy: 0.9468\n",
            "Epoch 00011: saving model to /content/drive/My Drive/Colab Notebooks/lab7_results/model_1.ckpt\n",
            "391/391 [==============================] - 51s 130ms/step - loss: 0.1652 - accuracy: 0.9468 - val_loss: 0.3864 - val_accuracy: 0.8589\n",
            "Epoch 12/20\n",
            "391/391 [==============================] - ETA: 0s - loss: 0.1351 - accuracy: 0.9586\n",
            "Epoch 00012: saving model to /content/drive/My Drive/Colab Notebooks/lab7_results/model_1.ckpt\n",
            "391/391 [==============================] - 51s 129ms/step - loss: 0.1351 - accuracy: 0.9586 - val_loss: 0.4304 - val_accuracy: 0.8609\n",
            "Epoch 13/20\n",
            "391/391 [==============================] - ETA: 0s - loss: 0.1083 - accuracy: 0.9691\n",
            "Epoch 00013: saving model to /content/drive/My Drive/Colab Notebooks/lab7_results/model_1.ckpt\n",
            "391/391 [==============================] - 50s 128ms/step - loss: 0.1083 - accuracy: 0.9691 - val_loss: 0.4644 - val_accuracy: 0.8562\n",
            "Epoch 14/20\n",
            "391/391 [==============================] - ETA: 0s - loss: 0.0863 - accuracy: 0.9774\n",
            "Epoch 00014: saving model to /content/drive/My Drive/Colab Notebooks/lab7_results/model_1.ckpt\n",
            "391/391 [==============================] - 50s 129ms/step - loss: 0.0863 - accuracy: 0.9774 - val_loss: 0.5101 - val_accuracy: 0.8552\n",
            "Epoch 15/20\n",
            "391/391 [==============================] - ETA: 0s - loss: 0.0713 - accuracy: 0.9825\n",
            "Epoch 00015: saving model to /content/drive/My Drive/Colab Notebooks/lab7_results/model_1.ckpt\n",
            "391/391 [==============================] - 50s 129ms/step - loss: 0.0713 - accuracy: 0.9825 - val_loss: 0.5446 - val_accuracy: 0.8521\n",
            "Epoch 16/20\n",
            "391/391 [==============================] - ETA: 0s - loss: 0.0620 - accuracy: 0.9848\n",
            "Epoch 00016: saving model to /content/drive/My Drive/Colab Notebooks/lab7_results/model_1.ckpt\n",
            "391/391 [==============================] - 50s 128ms/step - loss: 0.0620 - accuracy: 0.9848 - val_loss: 0.5919 - val_accuracy: 0.8495\n",
            "Epoch 17/20\n",
            "391/391 [==============================] - ETA: 0s - loss: 0.0519 - accuracy: 0.9884\n",
            "Epoch 00017: saving model to /content/drive/My Drive/Colab Notebooks/lab7_results/model_1.ckpt\n",
            "391/391 [==============================] - 50s 128ms/step - loss: 0.0519 - accuracy: 0.9884 - val_loss: 0.6036 - val_accuracy: 0.8562\n",
            "Epoch 18/20\n",
            "391/391 [==============================] - ETA: 0s - loss: 0.0450 - accuracy: 0.9899\n",
            "Epoch 00018: saving model to /content/drive/My Drive/Colab Notebooks/lab7_results/model_1.ckpt\n",
            "391/391 [==============================] - 50s 128ms/step - loss: 0.0450 - accuracy: 0.9899 - val_loss: 0.5985 - val_accuracy: 0.8516\n",
            "Epoch 19/20\n",
            "391/391 [==============================] - ETA: 0s - loss: 0.0461 - accuracy: 0.9890\n",
            "Epoch 00019: saving model to /content/drive/My Drive/Colab Notebooks/lab7_results/model_1.ckpt\n",
            "391/391 [==============================] - 50s 127ms/step - loss: 0.0461 - accuracy: 0.9890 - val_loss: 0.6236 - val_accuracy: 0.8484\n",
            "Epoch 20/20\n",
            "391/391 [==============================] - ETA: 0s - loss: 0.0434 - accuracy: 0.9898\n",
            "Epoch 00020: saving model to /content/drive/My Drive/Colab Notebooks/lab7_results/model_1.ckpt\n",
            "391/391 [==============================] - 50s 127ms/step - loss: 0.0434 - accuracy: 0.9898 - val_loss: 0.6539 - val_accuracy: 0.8453\n"
          ],
          "name": "stdout"
        },
        {
          "output_type": "execute_result",
          "data": {
            "text/plain": [
              "<tensorflow.python.keras.callbacks.History at 0x7ff072020b00>"
            ]
          },
          "metadata": {
            "tags": []
          },
          "execution_count": 8
        }
      ]
    },
    {
      "cell_type": "code",
      "metadata": {
        "id": "NydoDtHuh1O7",
        "colab_type": "code",
        "colab": {}
      },
      "source": [
        "model_2_cp_callback = tf.keras.callbacks.ModelCheckpoint(\n",
        "    filepath=\"/content/drive/My Drive/Colab Notebooks/lab7_results/model_2.ckpt\",\n",
        "    save_weights_only=True,\n",
        "    verbose=1\n",
        "    )"
      ],
      "execution_count": 0,
      "outputs": []
    },
    {
      "cell_type": "code",
      "metadata": {
        "id": "Jm6YCqrVE_NK",
        "colab_type": "code",
        "outputId": "2ecfc635-514d-4fb2-c2e0-325239b5510f",
        "colab": {
          "base_uri": "https://localhost:8080/",
          "height": 1000
        }
      },
      "source": [
        "model_2.fit(train_dataset, \n",
        "    epochs=20,\n",
        "    validation_data=test_dataset,\n",
        "    validation_steps=30,\n",
        "    callbacks=[model_2_cp_callback])"
      ],
      "execution_count": 10,
      "outputs": [
        {
          "output_type": "stream",
          "text": [
            "Epoch 1/20\n",
            "391/391 [==============================] - ETA: 0s - loss: 0.5622 - accuracy: 0.7108\n",
            "Epoch 00001: saving model to /content/drive/My Drive/Colab Notebooks/lab7_results/model_2.ckpt\n",
            "391/391 [==============================] - 83s 213ms/step - loss: 0.5622 - accuracy: 0.7108 - val_loss: 0.5095 - val_accuracy: 0.7547\n",
            "Epoch 2/20\n",
            "391/391 [==============================] - ETA: 0s - loss: 0.4748 - accuracy: 0.7919\n",
            "Epoch 00002: saving model to /content/drive/My Drive/Colab Notebooks/lab7_results/model_2.ckpt\n",
            "391/391 [==============================] - 82s 211ms/step - loss: 0.4748 - accuracy: 0.7919 - val_loss: 0.4994 - val_accuracy: 0.7776\n",
            "Epoch 3/20\n",
            "391/391 [==============================] - ETA: 0s - loss: 0.4130 - accuracy: 0.8270\n",
            "Epoch 00003: saving model to /content/drive/My Drive/Colab Notebooks/lab7_results/model_2.ckpt\n",
            "391/391 [==============================] - 82s 210ms/step - loss: 0.4130 - accuracy: 0.8270 - val_loss: 0.3593 - val_accuracy: 0.8349\n",
            "Epoch 4/20\n",
            "391/391 [==============================] - ETA: 0s - loss: 0.2856 - accuracy: 0.8914\n",
            "Epoch 00004: saving model to /content/drive/My Drive/Colab Notebooks/lab7_results/model_2.ckpt\n",
            "391/391 [==============================] - 83s 211ms/step - loss: 0.2856 - accuracy: 0.8914 - val_loss: 0.3298 - val_accuracy: 0.8573\n",
            "Epoch 5/20\n",
            "391/391 [==============================] - ETA: 0s - loss: 0.2135 - accuracy: 0.9227\n",
            "Epoch 00005: saving model to /content/drive/My Drive/Colab Notebooks/lab7_results/model_2.ckpt\n",
            "391/391 [==============================] - 83s 212ms/step - loss: 0.2135 - accuracy: 0.9227 - val_loss: 0.3197 - val_accuracy: 0.8813\n",
            "Epoch 6/20\n",
            "391/391 [==============================] - ETA: 0s - loss: 0.1552 - accuracy: 0.9476\n",
            "Epoch 00006: saving model to /content/drive/My Drive/Colab Notebooks/lab7_results/model_2.ckpt\n",
            "391/391 [==============================] - 82s 210ms/step - loss: 0.1552 - accuracy: 0.9476 - val_loss: 0.4034 - val_accuracy: 0.8682\n",
            "Epoch 7/20\n",
            "391/391 [==============================] - ETA: 0s - loss: 0.1122 - accuracy: 0.9648\n",
            "Epoch 00007: saving model to /content/drive/My Drive/Colab Notebooks/lab7_results/model_2.ckpt\n",
            "391/391 [==============================] - 83s 212ms/step - loss: 0.1122 - accuracy: 0.9648 - val_loss: 0.4061 - val_accuracy: 0.8719\n",
            "Epoch 8/20\n",
            "391/391 [==============================] - ETA: 0s - loss: 0.0839 - accuracy: 0.9754\n",
            "Epoch 00008: saving model to /content/drive/My Drive/Colab Notebooks/lab7_results/model_2.ckpt\n",
            "391/391 [==============================] - 83s 213ms/step - loss: 0.0839 - accuracy: 0.9754 - val_loss: 0.4312 - val_accuracy: 0.8766\n",
            "Epoch 9/20\n",
            "391/391 [==============================] - ETA: 0s - loss: 0.0630 - accuracy: 0.9832\n",
            "Epoch 00009: saving model to /content/drive/My Drive/Colab Notebooks/lab7_results/model_2.ckpt\n",
            "391/391 [==============================] - 83s 213ms/step - loss: 0.0630 - accuracy: 0.9832 - val_loss: 0.5306 - val_accuracy: 0.8651\n",
            "Epoch 10/20\n",
            "391/391 [==============================] - ETA: 0s - loss: 0.0554 - accuracy: 0.9840\n",
            "Epoch 00010: saving model to /content/drive/My Drive/Colab Notebooks/lab7_results/model_2.ckpt\n",
            "391/391 [==============================] - 83s 212ms/step - loss: 0.0554 - accuracy: 0.9840 - val_loss: 0.5178 - val_accuracy: 0.8719\n",
            "Epoch 11/20\n",
            "391/391 [==============================] - ETA: 0s - loss: 0.0481 - accuracy: 0.9868\n",
            "Epoch 00011: saving model to /content/drive/My Drive/Colab Notebooks/lab7_results/model_2.ckpt\n",
            "391/391 [==============================] - 83s 211ms/step - loss: 0.0481 - accuracy: 0.9868 - val_loss: 0.6226 - val_accuracy: 0.8516\n",
            "Epoch 12/20\n",
            "391/391 [==============================] - ETA: 0s - loss: 0.0414 - accuracy: 0.9886\n",
            "Epoch 00012: saving model to /content/drive/My Drive/Colab Notebooks/lab7_results/model_2.ckpt\n",
            "391/391 [==============================] - 84s 214ms/step - loss: 0.0414 - accuracy: 0.9886 - val_loss: 0.5957 - val_accuracy: 0.8776\n",
            "Epoch 13/20\n",
            "391/391 [==============================] - ETA: 0s - loss: 0.0424 - accuracy: 0.9873\n",
            "Epoch 00013: saving model to /content/drive/My Drive/Colab Notebooks/lab7_results/model_2.ckpt\n",
            "391/391 [==============================] - 83s 211ms/step - loss: 0.0424 - accuracy: 0.9873 - val_loss: 0.5629 - val_accuracy: 0.8724\n",
            "Epoch 14/20\n",
            "391/391 [==============================] - ETA: 0s - loss: 0.0322 - accuracy: 0.9917\n",
            "Epoch 00014: saving model to /content/drive/My Drive/Colab Notebooks/lab7_results/model_2.ckpt\n",
            "391/391 [==============================] - 83s 212ms/step - loss: 0.0322 - accuracy: 0.9917 - val_loss: 0.6083 - val_accuracy: 0.8698\n",
            "Epoch 15/20\n",
            "391/391 [==============================] - ETA: 0s - loss: 0.0279 - accuracy: 0.9930\n",
            "Epoch 00015: saving model to /content/drive/My Drive/Colab Notebooks/lab7_results/model_2.ckpt\n",
            "391/391 [==============================] - 82s 210ms/step - loss: 0.0279 - accuracy: 0.9930 - val_loss: 0.6699 - val_accuracy: 0.8724\n",
            "Epoch 16/20\n",
            "391/391 [==============================] - ETA: 0s - loss: 0.0274 - accuracy: 0.9929\n",
            "Epoch 00016: saving model to /content/drive/My Drive/Colab Notebooks/lab7_results/model_2.ckpt\n",
            "391/391 [==============================] - 83s 213ms/step - loss: 0.0274 - accuracy: 0.9929 - val_loss: 0.6714 - val_accuracy: 0.8641\n",
            "Epoch 17/20\n",
            "391/391 [==============================] - ETA: 0s - loss: 0.0272 - accuracy: 0.9928\n",
            "Epoch 00017: saving model to /content/drive/My Drive/Colab Notebooks/lab7_results/model_2.ckpt\n",
            "391/391 [==============================] - 83s 213ms/step - loss: 0.0272 - accuracy: 0.9928 - val_loss: 0.7010 - val_accuracy: 0.8552\n",
            "Epoch 18/20\n",
            "391/391 [==============================] - ETA: 0s - loss: 0.0249 - accuracy: 0.9931\n",
            "Epoch 00018: saving model to /content/drive/My Drive/Colab Notebooks/lab7_results/model_2.ckpt\n",
            "391/391 [==============================] - 84s 215ms/step - loss: 0.0249 - accuracy: 0.9931 - val_loss: 0.6589 - val_accuracy: 0.8693\n",
            "Epoch 19/20\n",
            "391/391 [==============================] - ETA: 0s - loss: 0.0166 - accuracy: 0.9959\n",
            "Epoch 00019: saving model to /content/drive/My Drive/Colab Notebooks/lab7_results/model_2.ckpt\n",
            "391/391 [==============================] - 83s 213ms/step - loss: 0.0166 - accuracy: 0.9959 - val_loss: 0.7274 - val_accuracy: 0.8661\n",
            "Epoch 20/20\n",
            "391/391 [==============================] - ETA: 0s - loss: 0.0190 - accuracy: 0.9948\n",
            "Epoch 00020: saving model to /content/drive/My Drive/Colab Notebooks/lab7_results/model_2.ckpt\n",
            "391/391 [==============================] - 83s 212ms/step - loss: 0.0190 - accuracy: 0.9948 - val_loss: 0.7820 - val_accuracy: 0.8609\n"
          ],
          "name": "stdout"
        },
        {
          "output_type": "execute_result",
          "data": {
            "text/plain": [
              "<tensorflow.python.keras.callbacks.History at 0x7ff06a5a5a58>"
            ]
          },
          "metadata": {
            "tags": []
          },
          "execution_count": 10
        }
      ]
    },
    {
      "cell_type": "code",
      "metadata": {
        "id": "f_lJhgRJyeu0",
        "colab_type": "code",
        "outputId": "2d0b8268-fca5-4946-dca1-d7eb08705174",
        "colab": {
          "base_uri": "https://localhost:8080/",
          "height": 51
        }
      },
      "source": [
        "model_1.evaluate(test_dataset)"
      ],
      "execution_count": 11,
      "outputs": [
        {
          "output_type": "stream",
          "text": [
            "391/391 [==============================] - 20s 52ms/step - loss: 0.6690 - accuracy: 0.8403\n"
          ],
          "name": "stdout"
        },
        {
          "output_type": "execute_result",
          "data": {
            "text/plain": [
              "[0.6690437197685242, 0.8403199911117554]"
            ]
          },
          "metadata": {
            "tags": []
          },
          "execution_count": 11
        }
      ]
    },
    {
      "cell_type": "code",
      "metadata": {
        "id": "2HKIIisMFHHo",
        "colab_type": "code",
        "outputId": "294a0a37-126e-4767-d19a-b8f711db1064",
        "colab": {
          "base_uri": "https://localhost:8080/",
          "height": 51
        }
      },
      "source": [
        "model_2.evaluate(test_dataset)"
      ],
      "execution_count": 12,
      "outputs": [
        {
          "output_type": "stream",
          "text": [
            "391/391 [==============================] - 36s 92ms/step - loss: 0.7929 - accuracy: 0.8578\n"
          ],
          "name": "stdout"
        },
        {
          "output_type": "execute_result",
          "data": {
            "text/plain": [
              "[0.7929192781448364, 0.8578400015830994]"
            ]
          },
          "metadata": {
            "tags": []
          },
          "execution_count": 12
        }
      ]
    }
  ]
}