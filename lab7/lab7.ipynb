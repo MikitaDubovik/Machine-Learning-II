{
  "nbformat": 4,
  "nbformat_minor": 0,
  "metadata": {
    "colab": {
      "name": "lab7 (1).ipynb",
      "provenance": [],
      "collapsed_sections": []
    },
    "kernelspec": {
      "name": "python3",
      "display_name": "Python 3"
    },
    "accelerator": "GPU",
    "widgets": {
      "application/vnd.jupyter.widget-state+json": {
        "b2be013a89b049488cc219755a5fc2c8": {
          "model_module": "@jupyter-widgets/controls",
          "model_name": "HBoxModel",
          "state": {
            "_view_name": "HBoxView",
            "_dom_classes": [],
            "_model_name": "HBoxModel",
            "_view_module": "@jupyter-widgets/controls",
            "_model_module_version": "1.5.0",
            "_view_count": null,
            "_view_module_version": "1.5.0",
            "box_style": "",
            "layout": "IPY_MODEL_64f535c9d58a4512905a671e5483c685",
            "_model_module": "@jupyter-widgets/controls",
            "children": [
              "IPY_MODEL_82c59660f5734d3b8f81f668d3291971",
              "IPY_MODEL_4822dd7076db48049c2b1c26855c46cb"
            ]
          }
        },
        "64f535c9d58a4512905a671e5483c685": {
          "model_module": "@jupyter-widgets/base",
          "model_name": "LayoutModel",
          "state": {
            "_view_name": "LayoutView",
            "grid_template_rows": null,
            "right": null,
            "justify_content": null,
            "_view_module": "@jupyter-widgets/base",
            "overflow": null,
            "_model_module_version": "1.2.0",
            "_view_count": null,
            "flex_flow": null,
            "width": null,
            "min_width": null,
            "border": null,
            "align_items": null,
            "bottom": null,
            "_model_module": "@jupyter-widgets/base",
            "top": null,
            "grid_column": null,
            "overflow_y": null,
            "overflow_x": null,
            "grid_auto_flow": null,
            "grid_area": null,
            "grid_template_columns": null,
            "flex": null,
            "_model_name": "LayoutModel",
            "justify_items": null,
            "grid_row": null,
            "max_height": null,
            "align_content": null,
            "visibility": null,
            "align_self": null,
            "height": null,
            "min_height": null,
            "padding": null,
            "grid_auto_rows": null,
            "grid_gap": null,
            "max_width": null,
            "order": null,
            "_view_module_version": "1.2.0",
            "grid_template_areas": null,
            "object_position": null,
            "object_fit": null,
            "grid_auto_columns": null,
            "margin": null,
            "display": null,
            "left": null
          }
        },
        "82c59660f5734d3b8f81f668d3291971": {
          "model_module": "@jupyter-widgets/controls",
          "model_name": "IntProgressModel",
          "state": {
            "_view_name": "ProgressView",
            "style": "IPY_MODEL_82b4035e5bb4440493f8a19db7c3c7cc",
            "_dom_classes": [],
            "description": "Dl Completed...: 100%",
            "_model_name": "IntProgressModel",
            "bar_style": "success",
            "max": 1,
            "_view_module": "@jupyter-widgets/controls",
            "_model_module_version": "1.5.0",
            "value": 1,
            "_view_count": null,
            "_view_module_version": "1.5.0",
            "orientation": "horizontal",
            "min": 0,
            "description_tooltip": null,
            "_model_module": "@jupyter-widgets/controls",
            "layout": "IPY_MODEL_b9a9e059c6fb45f6b8cd4b038f04e0f8"
          }
        },
        "4822dd7076db48049c2b1c26855c46cb": {
          "model_module": "@jupyter-widgets/controls",
          "model_name": "HTMLModel",
          "state": {
            "_view_name": "HTMLView",
            "style": "IPY_MODEL_c35c71d4df9a4ac5a9faf274a61d6c55",
            "_dom_classes": [],
            "description": "",
            "_model_name": "HTMLModel",
            "placeholder": "​",
            "_view_module": "@jupyter-widgets/controls",
            "_model_module_version": "1.5.0",
            "value": " 1/1 [00:02&lt;00:00,  2.26s/ url]",
            "_view_count": null,
            "_view_module_version": "1.5.0",
            "description_tooltip": null,
            "_model_module": "@jupyter-widgets/controls",
            "layout": "IPY_MODEL_a0a25f7e7ad54168a4f54762d3dac945"
          }
        },
        "82b4035e5bb4440493f8a19db7c3c7cc": {
          "model_module": "@jupyter-widgets/controls",
          "model_name": "ProgressStyleModel",
          "state": {
            "_view_name": "StyleView",
            "_model_name": "ProgressStyleModel",
            "description_width": "initial",
            "_view_module": "@jupyter-widgets/base",
            "_model_module_version": "1.5.0",
            "_view_count": null,
            "_view_module_version": "1.2.0",
            "bar_color": null,
            "_model_module": "@jupyter-widgets/controls"
          }
        },
        "b9a9e059c6fb45f6b8cd4b038f04e0f8": {
          "model_module": "@jupyter-widgets/base",
          "model_name": "LayoutModel",
          "state": {
            "_view_name": "LayoutView",
            "grid_template_rows": null,
            "right": null,
            "justify_content": null,
            "_view_module": "@jupyter-widgets/base",
            "overflow": null,
            "_model_module_version": "1.2.0",
            "_view_count": null,
            "flex_flow": null,
            "width": null,
            "min_width": null,
            "border": null,
            "align_items": null,
            "bottom": null,
            "_model_module": "@jupyter-widgets/base",
            "top": null,
            "grid_column": null,
            "overflow_y": null,
            "overflow_x": null,
            "grid_auto_flow": null,
            "grid_area": null,
            "grid_template_columns": null,
            "flex": null,
            "_model_name": "LayoutModel",
            "justify_items": null,
            "grid_row": null,
            "max_height": null,
            "align_content": null,
            "visibility": null,
            "align_self": null,
            "height": null,
            "min_height": null,
            "padding": null,
            "grid_auto_rows": null,
            "grid_gap": null,
            "max_width": null,
            "order": null,
            "_view_module_version": "1.2.0",
            "grid_template_areas": null,
            "object_position": null,
            "object_fit": null,
            "grid_auto_columns": null,
            "margin": null,
            "display": null,
            "left": null
          }
        },
        "c35c71d4df9a4ac5a9faf274a61d6c55": {
          "model_module": "@jupyter-widgets/controls",
          "model_name": "DescriptionStyleModel",
          "state": {
            "_view_name": "StyleView",
            "_model_name": "DescriptionStyleModel",
            "description_width": "",
            "_view_module": "@jupyter-widgets/base",
            "_model_module_version": "1.5.0",
            "_view_count": null,
            "_view_module_version": "1.2.0",
            "_model_module": "@jupyter-widgets/controls"
          }
        },
        "a0a25f7e7ad54168a4f54762d3dac945": {
          "model_module": "@jupyter-widgets/base",
          "model_name": "LayoutModel",
          "state": {
            "_view_name": "LayoutView",
            "grid_template_rows": null,
            "right": null,
            "justify_content": null,
            "_view_module": "@jupyter-widgets/base",
            "overflow": null,
            "_model_module_version": "1.2.0",
            "_view_count": null,
            "flex_flow": null,
            "width": null,
            "min_width": null,
            "border": null,
            "align_items": null,
            "bottom": null,
            "_model_module": "@jupyter-widgets/base",
            "top": null,
            "grid_column": null,
            "overflow_y": null,
            "overflow_x": null,
            "grid_auto_flow": null,
            "grid_area": null,
            "grid_template_columns": null,
            "flex": null,
            "_model_name": "LayoutModel",
            "justify_items": null,
            "grid_row": null,
            "max_height": null,
            "align_content": null,
            "visibility": null,
            "align_self": null,
            "height": null,
            "min_height": null,
            "padding": null,
            "grid_auto_rows": null,
            "grid_gap": null,
            "max_width": null,
            "order": null,
            "_view_module_version": "1.2.0",
            "grid_template_areas": null,
            "object_position": null,
            "object_fit": null,
            "grid_auto_columns": null,
            "margin": null,
            "display": null,
            "left": null
          }
        },
        "3cb54b6a9c9f4a2fbba6f690431487e6": {
          "model_module": "@jupyter-widgets/controls",
          "model_name": "HBoxModel",
          "state": {
            "_view_name": "HBoxView",
            "_dom_classes": [],
            "_model_name": "HBoxModel",
            "_view_module": "@jupyter-widgets/controls",
            "_model_module_version": "1.5.0",
            "_view_count": null,
            "_view_module_version": "1.5.0",
            "box_style": "",
            "layout": "IPY_MODEL_4ff5d8682c4044c595543ebab5f66040",
            "_model_module": "@jupyter-widgets/controls",
            "children": [
              "IPY_MODEL_88b4ad6572bd4a9c956204e0e3ef5593",
              "IPY_MODEL_64c55a8ec5d24c01b2d5b9547e188ec0"
            ]
          }
        },
        "4ff5d8682c4044c595543ebab5f66040": {
          "model_module": "@jupyter-widgets/base",
          "model_name": "LayoutModel",
          "state": {
            "_view_name": "LayoutView",
            "grid_template_rows": null,
            "right": null,
            "justify_content": null,
            "_view_module": "@jupyter-widgets/base",
            "overflow": null,
            "_model_module_version": "1.2.0",
            "_view_count": null,
            "flex_flow": null,
            "width": null,
            "min_width": null,
            "border": null,
            "align_items": null,
            "bottom": null,
            "_model_module": "@jupyter-widgets/base",
            "top": null,
            "grid_column": null,
            "overflow_y": null,
            "overflow_x": null,
            "grid_auto_flow": null,
            "grid_area": null,
            "grid_template_columns": null,
            "flex": null,
            "_model_name": "LayoutModel",
            "justify_items": null,
            "grid_row": null,
            "max_height": null,
            "align_content": null,
            "visibility": null,
            "align_self": null,
            "height": null,
            "min_height": null,
            "padding": null,
            "grid_auto_rows": null,
            "grid_gap": null,
            "max_width": null,
            "order": null,
            "_view_module_version": "1.2.0",
            "grid_template_areas": null,
            "object_position": null,
            "object_fit": null,
            "grid_auto_columns": null,
            "margin": null,
            "display": null,
            "left": null
          }
        },
        "88b4ad6572bd4a9c956204e0e3ef5593": {
          "model_module": "@jupyter-widgets/controls",
          "model_name": "IntProgressModel",
          "state": {
            "_view_name": "ProgressView",
            "style": "IPY_MODEL_d90f79067855445ca0fa520186f8c30a",
            "_dom_classes": [],
            "description": "Dl Size...: 100%",
            "_model_name": "IntProgressModel",
            "bar_style": "success",
            "max": 1,
            "_view_module": "@jupyter-widgets/controls",
            "_model_module_version": "1.5.0",
            "value": 1,
            "_view_count": null,
            "_view_module_version": "1.5.0",
            "orientation": "horizontal",
            "min": 0,
            "description_tooltip": null,
            "_model_module": "@jupyter-widgets/controls",
            "layout": "IPY_MODEL_cee6e247d8ba43f5af0054fee0e888ab"
          }
        },
        "64c55a8ec5d24c01b2d5b9547e188ec0": {
          "model_module": "@jupyter-widgets/controls",
          "model_name": "HTMLModel",
          "state": {
            "_view_name": "HTMLView",
            "style": "IPY_MODEL_9b902a42f73346c58178265f77e520a0",
            "_dom_classes": [],
            "description": "",
            "_model_name": "HTMLModel",
            "placeholder": "​",
            "_view_module": "@jupyter-widgets/controls",
            "_model_module_version": "1.5.0",
            "value": " 80/80 [00:02&lt;00:00, 35.78 MiB/s]",
            "_view_count": null,
            "_view_module_version": "1.5.0",
            "description_tooltip": null,
            "_model_module": "@jupyter-widgets/controls",
            "layout": "IPY_MODEL_1210b87b45454f31a4a04c9ffdd44506"
          }
        },
        "d90f79067855445ca0fa520186f8c30a": {
          "model_module": "@jupyter-widgets/controls",
          "model_name": "ProgressStyleModel",
          "state": {
            "_view_name": "StyleView",
            "_model_name": "ProgressStyleModel",
            "description_width": "initial",
            "_view_module": "@jupyter-widgets/base",
            "_model_module_version": "1.5.0",
            "_view_count": null,
            "_view_module_version": "1.2.0",
            "bar_color": null,
            "_model_module": "@jupyter-widgets/controls"
          }
        },
        "cee6e247d8ba43f5af0054fee0e888ab": {
          "model_module": "@jupyter-widgets/base",
          "model_name": "LayoutModel",
          "state": {
            "_view_name": "LayoutView",
            "grid_template_rows": null,
            "right": null,
            "justify_content": null,
            "_view_module": "@jupyter-widgets/base",
            "overflow": null,
            "_model_module_version": "1.2.0",
            "_view_count": null,
            "flex_flow": null,
            "width": null,
            "min_width": null,
            "border": null,
            "align_items": null,
            "bottom": null,
            "_model_module": "@jupyter-widgets/base",
            "top": null,
            "grid_column": null,
            "overflow_y": null,
            "overflow_x": null,
            "grid_auto_flow": null,
            "grid_area": null,
            "grid_template_columns": null,
            "flex": null,
            "_model_name": "LayoutModel",
            "justify_items": null,
            "grid_row": null,
            "max_height": null,
            "align_content": null,
            "visibility": null,
            "align_self": null,
            "height": null,
            "min_height": null,
            "padding": null,
            "grid_auto_rows": null,
            "grid_gap": null,
            "max_width": null,
            "order": null,
            "_view_module_version": "1.2.0",
            "grid_template_areas": null,
            "object_position": null,
            "object_fit": null,
            "grid_auto_columns": null,
            "margin": null,
            "display": null,
            "left": null
          }
        },
        "9b902a42f73346c58178265f77e520a0": {
          "model_module": "@jupyter-widgets/controls",
          "model_name": "DescriptionStyleModel",
          "state": {
            "_view_name": "StyleView",
            "_model_name": "DescriptionStyleModel",
            "description_width": "",
            "_view_module": "@jupyter-widgets/base",
            "_model_module_version": "1.5.0",
            "_view_count": null,
            "_view_module_version": "1.2.0",
            "_model_module": "@jupyter-widgets/controls"
          }
        },
        "1210b87b45454f31a4a04c9ffdd44506": {
          "model_module": "@jupyter-widgets/base",
          "model_name": "LayoutModel",
          "state": {
            "_view_name": "LayoutView",
            "grid_template_rows": null,
            "right": null,
            "justify_content": null,
            "_view_module": "@jupyter-widgets/base",
            "overflow": null,
            "_model_module_version": "1.2.0",
            "_view_count": null,
            "flex_flow": null,
            "width": null,
            "min_width": null,
            "border": null,
            "align_items": null,
            "bottom": null,
            "_model_module": "@jupyter-widgets/base",
            "top": null,
            "grid_column": null,
            "overflow_y": null,
            "overflow_x": null,
            "grid_auto_flow": null,
            "grid_area": null,
            "grid_template_columns": null,
            "flex": null,
            "_model_name": "LayoutModel",
            "justify_items": null,
            "grid_row": null,
            "max_height": null,
            "align_content": null,
            "visibility": null,
            "align_self": null,
            "height": null,
            "min_height": null,
            "padding": null,
            "grid_auto_rows": null,
            "grid_gap": null,
            "max_width": null,
            "order": null,
            "_view_module_version": "1.2.0",
            "grid_template_areas": null,
            "object_position": null,
            "object_fit": null,
            "grid_auto_columns": null,
            "margin": null,
            "display": null,
            "left": null
          }
        },
        "e99ee2f39f0641649841174607ca5e3a": {
          "model_module": "@jupyter-widgets/controls",
          "model_name": "HBoxModel",
          "state": {
            "_view_name": "HBoxView",
            "_dom_classes": [],
            "_model_name": "HBoxModel",
            "_view_module": "@jupyter-widgets/controls",
            "_model_module_version": "1.5.0",
            "_view_count": null,
            "_view_module_version": "1.5.0",
            "box_style": "",
            "layout": "IPY_MODEL_a542ebe8970340c6b16f924656c610c7",
            "_model_module": "@jupyter-widgets/controls",
            "children": [
              "IPY_MODEL_ce3e9c23c84a4315a01ea3897f0c2ab4",
              "IPY_MODEL_3de6945d4e1e4cea876a820ea4aac931"
            ]
          }
        },
        "a542ebe8970340c6b16f924656c610c7": {
          "model_module": "@jupyter-widgets/base",
          "model_name": "LayoutModel",
          "state": {
            "_view_name": "LayoutView",
            "grid_template_rows": null,
            "right": null,
            "justify_content": null,
            "_view_module": "@jupyter-widgets/base",
            "overflow": null,
            "_model_module_version": "1.2.0",
            "_view_count": null,
            "flex_flow": null,
            "width": null,
            "min_width": null,
            "border": null,
            "align_items": null,
            "bottom": null,
            "_model_module": "@jupyter-widgets/base",
            "top": null,
            "grid_column": null,
            "overflow_y": null,
            "overflow_x": null,
            "grid_auto_flow": null,
            "grid_area": null,
            "grid_template_columns": null,
            "flex": null,
            "_model_name": "LayoutModel",
            "justify_items": null,
            "grid_row": null,
            "max_height": null,
            "align_content": null,
            "visibility": null,
            "align_self": null,
            "height": null,
            "min_height": null,
            "padding": null,
            "grid_auto_rows": null,
            "grid_gap": null,
            "max_width": null,
            "order": null,
            "_view_module_version": "1.2.0",
            "grid_template_areas": null,
            "object_position": null,
            "object_fit": null,
            "grid_auto_columns": null,
            "margin": null,
            "display": null,
            "left": null
          }
        },
        "ce3e9c23c84a4315a01ea3897f0c2ab4": {
          "model_module": "@jupyter-widgets/controls",
          "model_name": "IntProgressModel",
          "state": {
            "_view_name": "ProgressView",
            "style": "IPY_MODEL_ad7cde8c1632483581cd749d25f80154",
            "_dom_classes": [],
            "description": "",
            "_model_name": "IntProgressModel",
            "bar_style": "info",
            "max": 1,
            "_view_module": "@jupyter-widgets/controls",
            "_model_module_version": "1.5.0",
            "value": 1,
            "_view_count": null,
            "_view_module_version": "1.5.0",
            "orientation": "horizontal",
            "min": 0,
            "description_tooltip": null,
            "_model_module": "@jupyter-widgets/controls",
            "layout": "IPY_MODEL_62bca9d7fe53440da372a7c6a7c0b85c"
          }
        },
        "3de6945d4e1e4cea876a820ea4aac931": {
          "model_module": "@jupyter-widgets/controls",
          "model_name": "HTMLModel",
          "state": {
            "_view_name": "HTMLView",
            "style": "IPY_MODEL_be2d200fea7244ec88f43f54f0d253c8",
            "_dom_classes": [],
            "description": "",
            "_model_name": "HTMLModel",
            "placeholder": "​",
            "_view_module": "@jupyter-widgets/controls",
            "_model_module_version": "1.5.0",
            "value": " 25000/0 [00:37&lt;00:00, 838.67 examples/s]",
            "_view_count": null,
            "_view_module_version": "1.5.0",
            "description_tooltip": null,
            "_model_module": "@jupyter-widgets/controls",
            "layout": "IPY_MODEL_6e840d5c786249afa56a1f027d271fd3"
          }
        },
        "ad7cde8c1632483581cd749d25f80154": {
          "model_module": "@jupyter-widgets/controls",
          "model_name": "ProgressStyleModel",
          "state": {
            "_view_name": "StyleView",
            "_model_name": "ProgressStyleModel",
            "description_width": "initial",
            "_view_module": "@jupyter-widgets/base",
            "_model_module_version": "1.5.0",
            "_view_count": null,
            "_view_module_version": "1.2.0",
            "bar_color": null,
            "_model_module": "@jupyter-widgets/controls"
          }
        },
        "62bca9d7fe53440da372a7c6a7c0b85c": {
          "model_module": "@jupyter-widgets/base",
          "model_name": "LayoutModel",
          "state": {
            "_view_name": "LayoutView",
            "grid_template_rows": null,
            "right": null,
            "justify_content": null,
            "_view_module": "@jupyter-widgets/base",
            "overflow": null,
            "_model_module_version": "1.2.0",
            "_view_count": null,
            "flex_flow": null,
            "width": null,
            "min_width": null,
            "border": null,
            "align_items": null,
            "bottom": null,
            "_model_module": "@jupyter-widgets/base",
            "top": null,
            "grid_column": null,
            "overflow_y": null,
            "overflow_x": null,
            "grid_auto_flow": null,
            "grid_area": null,
            "grid_template_columns": null,
            "flex": null,
            "_model_name": "LayoutModel",
            "justify_items": null,
            "grid_row": null,
            "max_height": null,
            "align_content": null,
            "visibility": null,
            "align_self": null,
            "height": null,
            "min_height": null,
            "padding": null,
            "grid_auto_rows": null,
            "grid_gap": null,
            "max_width": null,
            "order": null,
            "_view_module_version": "1.2.0",
            "grid_template_areas": null,
            "object_position": null,
            "object_fit": null,
            "grid_auto_columns": null,
            "margin": null,
            "display": null,
            "left": null
          }
        },
        "be2d200fea7244ec88f43f54f0d253c8": {
          "model_module": "@jupyter-widgets/controls",
          "model_name": "DescriptionStyleModel",
          "state": {
            "_view_name": "StyleView",
            "_model_name": "DescriptionStyleModel",
            "description_width": "",
            "_view_module": "@jupyter-widgets/base",
            "_model_module_version": "1.5.0",
            "_view_count": null,
            "_view_module_version": "1.2.0",
            "_model_module": "@jupyter-widgets/controls"
          }
        },
        "6e840d5c786249afa56a1f027d271fd3": {
          "model_module": "@jupyter-widgets/base",
          "model_name": "LayoutModel",
          "state": {
            "_view_name": "LayoutView",
            "grid_template_rows": null,
            "right": null,
            "justify_content": null,
            "_view_module": "@jupyter-widgets/base",
            "overflow": null,
            "_model_module_version": "1.2.0",
            "_view_count": null,
            "flex_flow": null,
            "width": null,
            "min_width": null,
            "border": null,
            "align_items": null,
            "bottom": null,
            "_model_module": "@jupyter-widgets/base",
            "top": null,
            "grid_column": null,
            "overflow_y": null,
            "overflow_x": null,
            "grid_auto_flow": null,
            "grid_area": null,
            "grid_template_columns": null,
            "flex": null,
            "_model_name": "LayoutModel",
            "justify_items": null,
            "grid_row": null,
            "max_height": null,
            "align_content": null,
            "visibility": null,
            "align_self": null,
            "height": null,
            "min_height": null,
            "padding": null,
            "grid_auto_rows": null,
            "grid_gap": null,
            "max_width": null,
            "order": null,
            "_view_module_version": "1.2.0",
            "grid_template_areas": null,
            "object_position": null,
            "object_fit": null,
            "grid_auto_columns": null,
            "margin": null,
            "display": null,
            "left": null
          }
        },
        "967cb275c60a498f9eca6a0e6fc6bee5": {
          "model_module": "@jupyter-widgets/controls",
          "model_name": "HBoxModel",
          "state": {
            "_view_name": "HBoxView",
            "_dom_classes": [],
            "_model_name": "HBoxModel",
            "_view_module": "@jupyter-widgets/controls",
            "_model_module_version": "1.5.0",
            "_view_count": null,
            "_view_module_version": "1.5.0",
            "box_style": "",
            "layout": "IPY_MODEL_cb031a3f9d5d4764a70cf719809ee049",
            "_model_module": "@jupyter-widgets/controls",
            "children": [
              "IPY_MODEL_a84b8d6fe42d4b05a6b70d565ed2527c",
              "IPY_MODEL_226532d2cde14beab6ab32980780e80b"
            ]
          }
        },
        "cb031a3f9d5d4764a70cf719809ee049": {
          "model_module": "@jupyter-widgets/base",
          "model_name": "LayoutModel",
          "state": {
            "_view_name": "LayoutView",
            "grid_template_rows": null,
            "right": null,
            "justify_content": null,
            "_view_module": "@jupyter-widgets/base",
            "overflow": null,
            "_model_module_version": "1.2.0",
            "_view_count": null,
            "flex_flow": null,
            "width": null,
            "min_width": null,
            "border": null,
            "align_items": null,
            "bottom": null,
            "_model_module": "@jupyter-widgets/base",
            "top": null,
            "grid_column": null,
            "overflow_y": null,
            "overflow_x": null,
            "grid_auto_flow": null,
            "grid_area": null,
            "grid_template_columns": null,
            "flex": null,
            "_model_name": "LayoutModel",
            "justify_items": null,
            "grid_row": null,
            "max_height": null,
            "align_content": null,
            "visibility": null,
            "align_self": null,
            "height": null,
            "min_height": null,
            "padding": null,
            "grid_auto_rows": null,
            "grid_gap": null,
            "max_width": null,
            "order": null,
            "_view_module_version": "1.2.0",
            "grid_template_areas": null,
            "object_position": null,
            "object_fit": null,
            "grid_auto_columns": null,
            "margin": null,
            "display": null,
            "left": null
          }
        },
        "a84b8d6fe42d4b05a6b70d565ed2527c": {
          "model_module": "@jupyter-widgets/controls",
          "model_name": "IntProgressModel",
          "state": {
            "_view_name": "ProgressView",
            "style": "IPY_MODEL_7ecb679e85764b2c9a0d82f16a4da107",
            "_dom_classes": [],
            "description": " 27%",
            "_model_name": "IntProgressModel",
            "bar_style": "danger",
            "max": 25000,
            "_view_module": "@jupyter-widgets/controls",
            "_model_module_version": "1.5.0",
            "value": 6701,
            "_view_count": null,
            "_view_module_version": "1.5.0",
            "orientation": "horizontal",
            "min": 0,
            "description_tooltip": null,
            "_model_module": "@jupyter-widgets/controls",
            "layout": "IPY_MODEL_330318c6f67a4914aacd62f614b6b3fb"
          }
        },
        "226532d2cde14beab6ab32980780e80b": {
          "model_module": "@jupyter-widgets/controls",
          "model_name": "HTMLModel",
          "state": {
            "_view_name": "HTMLView",
            "style": "IPY_MODEL_870086c6ee184ac69b7b2e860ab0d100",
            "_dom_classes": [],
            "description": "",
            "_model_name": "HTMLModel",
            "placeholder": "​",
            "_view_module": "@jupyter-widgets/controls",
            "_model_module_version": "1.5.0",
            "value": " 6701/25000 [00:00&lt;00:00, 67009.58 examples/s]",
            "_view_count": null,
            "_view_module_version": "1.5.0",
            "description_tooltip": null,
            "_model_module": "@jupyter-widgets/controls",
            "layout": "IPY_MODEL_52d69cd2aa994a4ab84278fe2936fb85"
          }
        },
        "7ecb679e85764b2c9a0d82f16a4da107": {
          "model_module": "@jupyter-widgets/controls",
          "model_name": "ProgressStyleModel",
          "state": {
            "_view_name": "StyleView",
            "_model_name": "ProgressStyleModel",
            "description_width": "initial",
            "_view_module": "@jupyter-widgets/base",
            "_model_module_version": "1.5.0",
            "_view_count": null,
            "_view_module_version": "1.2.0",
            "bar_color": null,
            "_model_module": "@jupyter-widgets/controls"
          }
        },
        "330318c6f67a4914aacd62f614b6b3fb": {
          "model_module": "@jupyter-widgets/base",
          "model_name": "LayoutModel",
          "state": {
            "_view_name": "LayoutView",
            "grid_template_rows": null,
            "right": null,
            "justify_content": null,
            "_view_module": "@jupyter-widgets/base",
            "overflow": null,
            "_model_module_version": "1.2.0",
            "_view_count": null,
            "flex_flow": null,
            "width": null,
            "min_width": null,
            "border": null,
            "align_items": null,
            "bottom": null,
            "_model_module": "@jupyter-widgets/base",
            "top": null,
            "grid_column": null,
            "overflow_y": null,
            "overflow_x": null,
            "grid_auto_flow": null,
            "grid_area": null,
            "grid_template_columns": null,
            "flex": null,
            "_model_name": "LayoutModel",
            "justify_items": null,
            "grid_row": null,
            "max_height": null,
            "align_content": null,
            "visibility": null,
            "align_self": null,
            "height": null,
            "min_height": null,
            "padding": null,
            "grid_auto_rows": null,
            "grid_gap": null,
            "max_width": null,
            "order": null,
            "_view_module_version": "1.2.0",
            "grid_template_areas": null,
            "object_position": null,
            "object_fit": null,
            "grid_auto_columns": null,
            "margin": null,
            "display": null,
            "left": null
          }
        },
        "870086c6ee184ac69b7b2e860ab0d100": {
          "model_module": "@jupyter-widgets/controls",
          "model_name": "DescriptionStyleModel",
          "state": {
            "_view_name": "StyleView",
            "_model_name": "DescriptionStyleModel",
            "description_width": "",
            "_view_module": "@jupyter-widgets/base",
            "_model_module_version": "1.5.0",
            "_view_count": null,
            "_view_module_version": "1.2.0",
            "_model_module": "@jupyter-widgets/controls"
          }
        },
        "52d69cd2aa994a4ab84278fe2936fb85": {
          "model_module": "@jupyter-widgets/base",
          "model_name": "LayoutModel",
          "state": {
            "_view_name": "LayoutView",
            "grid_template_rows": null,
            "right": null,
            "justify_content": null,
            "_view_module": "@jupyter-widgets/base",
            "overflow": null,
            "_model_module_version": "1.2.0",
            "_view_count": null,
            "flex_flow": null,
            "width": null,
            "min_width": null,
            "border": null,
            "align_items": null,
            "bottom": null,
            "_model_module": "@jupyter-widgets/base",
            "top": null,
            "grid_column": null,
            "overflow_y": null,
            "overflow_x": null,
            "grid_auto_flow": null,
            "grid_area": null,
            "grid_template_columns": null,
            "flex": null,
            "_model_name": "LayoutModel",
            "justify_items": null,
            "grid_row": null,
            "max_height": null,
            "align_content": null,
            "visibility": null,
            "align_self": null,
            "height": null,
            "min_height": null,
            "padding": null,
            "grid_auto_rows": null,
            "grid_gap": null,
            "max_width": null,
            "order": null,
            "_view_module_version": "1.2.0",
            "grid_template_areas": null,
            "object_position": null,
            "object_fit": null,
            "grid_auto_columns": null,
            "margin": null,
            "display": null,
            "left": null
          }
        },
        "35899d068ce74aa29d8a95a5e44c7f21": {
          "model_module": "@jupyter-widgets/controls",
          "model_name": "HBoxModel",
          "state": {
            "_view_name": "HBoxView",
            "_dom_classes": [],
            "_model_name": "HBoxModel",
            "_view_module": "@jupyter-widgets/controls",
            "_model_module_version": "1.5.0",
            "_view_count": null,
            "_view_module_version": "1.5.0",
            "box_style": "",
            "layout": "IPY_MODEL_6bcddf33884c412d9d91373b2fd398ce",
            "_model_module": "@jupyter-widgets/controls",
            "children": [
              "IPY_MODEL_928d55c917314e6caf2f571102d1e90d",
              "IPY_MODEL_d1f80c27e290424982b91db2fc0fca33"
            ]
          }
        },
        "6bcddf33884c412d9d91373b2fd398ce": {
          "model_module": "@jupyter-widgets/base",
          "model_name": "LayoutModel",
          "state": {
            "_view_name": "LayoutView",
            "grid_template_rows": null,
            "right": null,
            "justify_content": null,
            "_view_module": "@jupyter-widgets/base",
            "overflow": null,
            "_model_module_version": "1.2.0",
            "_view_count": null,
            "flex_flow": null,
            "width": null,
            "min_width": null,
            "border": null,
            "align_items": null,
            "bottom": null,
            "_model_module": "@jupyter-widgets/base",
            "top": null,
            "grid_column": null,
            "overflow_y": null,
            "overflow_x": null,
            "grid_auto_flow": null,
            "grid_area": null,
            "grid_template_columns": null,
            "flex": null,
            "_model_name": "LayoutModel",
            "justify_items": null,
            "grid_row": null,
            "max_height": null,
            "align_content": null,
            "visibility": null,
            "align_self": null,
            "height": null,
            "min_height": null,
            "padding": null,
            "grid_auto_rows": null,
            "grid_gap": null,
            "max_width": null,
            "order": null,
            "_view_module_version": "1.2.0",
            "grid_template_areas": null,
            "object_position": null,
            "object_fit": null,
            "grid_auto_columns": null,
            "margin": null,
            "display": null,
            "left": null
          }
        },
        "928d55c917314e6caf2f571102d1e90d": {
          "model_module": "@jupyter-widgets/controls",
          "model_name": "IntProgressModel",
          "state": {
            "_view_name": "ProgressView",
            "style": "IPY_MODEL_8d96407e7cca45c1b8d56208c66879cb",
            "_dom_classes": [],
            "description": "",
            "_model_name": "IntProgressModel",
            "bar_style": "info",
            "max": 1,
            "_view_module": "@jupyter-widgets/controls",
            "_model_module_version": "1.5.0",
            "value": 1,
            "_view_count": null,
            "_view_module_version": "1.5.0",
            "orientation": "horizontal",
            "min": 0,
            "description_tooltip": null,
            "_model_module": "@jupyter-widgets/controls",
            "layout": "IPY_MODEL_cc7b7dc8521b4f498b5247881892d894"
          }
        },
        "d1f80c27e290424982b91db2fc0fca33": {
          "model_module": "@jupyter-widgets/controls",
          "model_name": "HTMLModel",
          "state": {
            "_view_name": "HTMLView",
            "style": "IPY_MODEL_34f0ca9e90054679b74bb6fcea0c750e",
            "_dom_classes": [],
            "description": "",
            "_model_name": "HTMLModel",
            "placeholder": "​",
            "_view_module": "@jupyter-widgets/controls",
            "_model_module_version": "1.5.0",
            "value": " 25000/0 [00:36&lt;00:00, 810.26 examples/s]",
            "_view_count": null,
            "_view_module_version": "1.5.0",
            "description_tooltip": null,
            "_model_module": "@jupyter-widgets/controls",
            "layout": "IPY_MODEL_a6898ae3d97d46c7899231a151b028d1"
          }
        },
        "8d96407e7cca45c1b8d56208c66879cb": {
          "model_module": "@jupyter-widgets/controls",
          "model_name": "ProgressStyleModel",
          "state": {
            "_view_name": "StyleView",
            "_model_name": "ProgressStyleModel",
            "description_width": "initial",
            "_view_module": "@jupyter-widgets/base",
            "_model_module_version": "1.5.0",
            "_view_count": null,
            "_view_module_version": "1.2.0",
            "bar_color": null,
            "_model_module": "@jupyter-widgets/controls"
          }
        },
        "cc7b7dc8521b4f498b5247881892d894": {
          "model_module": "@jupyter-widgets/base",
          "model_name": "LayoutModel",
          "state": {
            "_view_name": "LayoutView",
            "grid_template_rows": null,
            "right": null,
            "justify_content": null,
            "_view_module": "@jupyter-widgets/base",
            "overflow": null,
            "_model_module_version": "1.2.0",
            "_view_count": null,
            "flex_flow": null,
            "width": null,
            "min_width": null,
            "border": null,
            "align_items": null,
            "bottom": null,
            "_model_module": "@jupyter-widgets/base",
            "top": null,
            "grid_column": null,
            "overflow_y": null,
            "overflow_x": null,
            "grid_auto_flow": null,
            "grid_area": null,
            "grid_template_columns": null,
            "flex": null,
            "_model_name": "LayoutModel",
            "justify_items": null,
            "grid_row": null,
            "max_height": null,
            "align_content": null,
            "visibility": null,
            "align_self": null,
            "height": null,
            "min_height": null,
            "padding": null,
            "grid_auto_rows": null,
            "grid_gap": null,
            "max_width": null,
            "order": null,
            "_view_module_version": "1.2.0",
            "grid_template_areas": null,
            "object_position": null,
            "object_fit": null,
            "grid_auto_columns": null,
            "margin": null,
            "display": null,
            "left": null
          }
        },
        "34f0ca9e90054679b74bb6fcea0c750e": {
          "model_module": "@jupyter-widgets/controls",
          "model_name": "DescriptionStyleModel",
          "state": {
            "_view_name": "StyleView",
            "_model_name": "DescriptionStyleModel",
            "description_width": "",
            "_view_module": "@jupyter-widgets/base",
            "_model_module_version": "1.5.0",
            "_view_count": null,
            "_view_module_version": "1.2.0",
            "_model_module": "@jupyter-widgets/controls"
          }
        },
        "a6898ae3d97d46c7899231a151b028d1": {
          "model_module": "@jupyter-widgets/base",
          "model_name": "LayoutModel",
          "state": {
            "_view_name": "LayoutView",
            "grid_template_rows": null,
            "right": null,
            "justify_content": null,
            "_view_module": "@jupyter-widgets/base",
            "overflow": null,
            "_model_module_version": "1.2.0",
            "_view_count": null,
            "flex_flow": null,
            "width": null,
            "min_width": null,
            "border": null,
            "align_items": null,
            "bottom": null,
            "_model_module": "@jupyter-widgets/base",
            "top": null,
            "grid_column": null,
            "overflow_y": null,
            "overflow_x": null,
            "grid_auto_flow": null,
            "grid_area": null,
            "grid_template_columns": null,
            "flex": null,
            "_model_name": "LayoutModel",
            "justify_items": null,
            "grid_row": null,
            "max_height": null,
            "align_content": null,
            "visibility": null,
            "align_self": null,
            "height": null,
            "min_height": null,
            "padding": null,
            "grid_auto_rows": null,
            "grid_gap": null,
            "max_width": null,
            "order": null,
            "_view_module_version": "1.2.0",
            "grid_template_areas": null,
            "object_position": null,
            "object_fit": null,
            "grid_auto_columns": null,
            "margin": null,
            "display": null,
            "left": null
          }
        },
        "8a4fefac3fe842ad9bf8e25f5825590e": {
          "model_module": "@jupyter-widgets/controls",
          "model_name": "HBoxModel",
          "state": {
            "_view_name": "HBoxView",
            "_dom_classes": [],
            "_model_name": "HBoxModel",
            "_view_module": "@jupyter-widgets/controls",
            "_model_module_version": "1.5.0",
            "_view_count": null,
            "_view_module_version": "1.5.0",
            "box_style": "",
            "layout": "IPY_MODEL_6e5f359c7ce0423ba45a0fea591663c8",
            "_model_module": "@jupyter-widgets/controls",
            "children": [
              "IPY_MODEL_254c06c564df49218c2029c8ffd09b33",
              "IPY_MODEL_31930537b9764b6daf391e0029d8e85a"
            ]
          }
        },
        "6e5f359c7ce0423ba45a0fea591663c8": {
          "model_module": "@jupyter-widgets/base",
          "model_name": "LayoutModel",
          "state": {
            "_view_name": "LayoutView",
            "grid_template_rows": null,
            "right": null,
            "justify_content": null,
            "_view_module": "@jupyter-widgets/base",
            "overflow": null,
            "_model_module_version": "1.2.0",
            "_view_count": null,
            "flex_flow": null,
            "width": null,
            "min_width": null,
            "border": null,
            "align_items": null,
            "bottom": null,
            "_model_module": "@jupyter-widgets/base",
            "top": null,
            "grid_column": null,
            "overflow_y": null,
            "overflow_x": null,
            "grid_auto_flow": null,
            "grid_area": null,
            "grid_template_columns": null,
            "flex": null,
            "_model_name": "LayoutModel",
            "justify_items": null,
            "grid_row": null,
            "max_height": null,
            "align_content": null,
            "visibility": null,
            "align_self": null,
            "height": null,
            "min_height": null,
            "padding": null,
            "grid_auto_rows": null,
            "grid_gap": null,
            "max_width": null,
            "order": null,
            "_view_module_version": "1.2.0",
            "grid_template_areas": null,
            "object_position": null,
            "object_fit": null,
            "grid_auto_columns": null,
            "margin": null,
            "display": null,
            "left": null
          }
        },
        "254c06c564df49218c2029c8ffd09b33": {
          "model_module": "@jupyter-widgets/controls",
          "model_name": "IntProgressModel",
          "state": {
            "_view_name": "ProgressView",
            "style": "IPY_MODEL_865afe898eca45e58ecedea7bf3ed33f",
            "_dom_classes": [],
            "description": " 35%",
            "_model_name": "IntProgressModel",
            "bar_style": "danger",
            "max": 25000,
            "_view_module": "@jupyter-widgets/controls",
            "_model_module_version": "1.5.0",
            "value": 8648,
            "_view_count": null,
            "_view_module_version": "1.5.0",
            "orientation": "horizontal",
            "min": 0,
            "description_tooltip": null,
            "_model_module": "@jupyter-widgets/controls",
            "layout": "IPY_MODEL_47572abca5bb41bd9b1e6bc9f07b170b"
          }
        },
        "31930537b9764b6daf391e0029d8e85a": {
          "model_module": "@jupyter-widgets/controls",
          "model_name": "HTMLModel",
          "state": {
            "_view_name": "HTMLView",
            "style": "IPY_MODEL_800767c6ffd049519b007f2a365d30e8",
            "_dom_classes": [],
            "description": "",
            "_model_name": "HTMLModel",
            "placeholder": "​",
            "_view_module": "@jupyter-widgets/controls",
            "_model_module_version": "1.5.0",
            "value": " 8648/25000 [00:00&lt;00:00, 86459.06 examples/s]",
            "_view_count": null,
            "_view_module_version": "1.5.0",
            "description_tooltip": null,
            "_model_module": "@jupyter-widgets/controls",
            "layout": "IPY_MODEL_882051e0acf944fd84cc74818805275e"
          }
        },
        "865afe898eca45e58ecedea7bf3ed33f": {
          "model_module": "@jupyter-widgets/controls",
          "model_name": "ProgressStyleModel",
          "state": {
            "_view_name": "StyleView",
            "_model_name": "ProgressStyleModel",
            "description_width": "initial",
            "_view_module": "@jupyter-widgets/base",
            "_model_module_version": "1.5.0",
            "_view_count": null,
            "_view_module_version": "1.2.0",
            "bar_color": null,
            "_model_module": "@jupyter-widgets/controls"
          }
        },
        "47572abca5bb41bd9b1e6bc9f07b170b": {
          "model_module": "@jupyter-widgets/base",
          "model_name": "LayoutModel",
          "state": {
            "_view_name": "LayoutView",
            "grid_template_rows": null,
            "right": null,
            "justify_content": null,
            "_view_module": "@jupyter-widgets/base",
            "overflow": null,
            "_model_module_version": "1.2.0",
            "_view_count": null,
            "flex_flow": null,
            "width": null,
            "min_width": null,
            "border": null,
            "align_items": null,
            "bottom": null,
            "_model_module": "@jupyter-widgets/base",
            "top": null,
            "grid_column": null,
            "overflow_y": null,
            "overflow_x": null,
            "grid_auto_flow": null,
            "grid_area": null,
            "grid_template_columns": null,
            "flex": null,
            "_model_name": "LayoutModel",
            "justify_items": null,
            "grid_row": null,
            "max_height": null,
            "align_content": null,
            "visibility": null,
            "align_self": null,
            "height": null,
            "min_height": null,
            "padding": null,
            "grid_auto_rows": null,
            "grid_gap": null,
            "max_width": null,
            "order": null,
            "_view_module_version": "1.2.0",
            "grid_template_areas": null,
            "object_position": null,
            "object_fit": null,
            "grid_auto_columns": null,
            "margin": null,
            "display": null,
            "left": null
          }
        },
        "800767c6ffd049519b007f2a365d30e8": {
          "model_module": "@jupyter-widgets/controls",
          "model_name": "DescriptionStyleModel",
          "state": {
            "_view_name": "StyleView",
            "_model_name": "DescriptionStyleModel",
            "description_width": "",
            "_view_module": "@jupyter-widgets/base",
            "_model_module_version": "1.5.0",
            "_view_count": null,
            "_view_module_version": "1.2.0",
            "_model_module": "@jupyter-widgets/controls"
          }
        },
        "882051e0acf944fd84cc74818805275e": {
          "model_module": "@jupyter-widgets/base",
          "model_name": "LayoutModel",
          "state": {
            "_view_name": "LayoutView",
            "grid_template_rows": null,
            "right": null,
            "justify_content": null,
            "_view_module": "@jupyter-widgets/base",
            "overflow": null,
            "_model_module_version": "1.2.0",
            "_view_count": null,
            "flex_flow": null,
            "width": null,
            "min_width": null,
            "border": null,
            "align_items": null,
            "bottom": null,
            "_model_module": "@jupyter-widgets/base",
            "top": null,
            "grid_column": null,
            "overflow_y": null,
            "overflow_x": null,
            "grid_auto_flow": null,
            "grid_area": null,
            "grid_template_columns": null,
            "flex": null,
            "_model_name": "LayoutModel",
            "justify_items": null,
            "grid_row": null,
            "max_height": null,
            "align_content": null,
            "visibility": null,
            "align_self": null,
            "height": null,
            "min_height": null,
            "padding": null,
            "grid_auto_rows": null,
            "grid_gap": null,
            "max_width": null,
            "order": null,
            "_view_module_version": "1.2.0",
            "grid_template_areas": null,
            "object_position": null,
            "object_fit": null,
            "grid_auto_columns": null,
            "margin": null,
            "display": null,
            "left": null
          }
        },
        "111944cea075458dab8d15d87836ba0c": {
          "model_module": "@jupyter-widgets/controls",
          "model_name": "HBoxModel",
          "state": {
            "_view_name": "HBoxView",
            "_dom_classes": [],
            "_model_name": "HBoxModel",
            "_view_module": "@jupyter-widgets/controls",
            "_model_module_version": "1.5.0",
            "_view_count": null,
            "_view_module_version": "1.5.0",
            "box_style": "",
            "layout": "IPY_MODEL_6a43209e04134a5db168b53dbd6a316f",
            "_model_module": "@jupyter-widgets/controls",
            "children": [
              "IPY_MODEL_0e277c8eff1e4f8fa149ecea1028c30f",
              "IPY_MODEL_75ec563024aa40ce8c0208768ae3b380"
            ]
          }
        },
        "6a43209e04134a5db168b53dbd6a316f": {
          "model_module": "@jupyter-widgets/base",
          "model_name": "LayoutModel",
          "state": {
            "_view_name": "LayoutView",
            "grid_template_rows": null,
            "right": null,
            "justify_content": null,
            "_view_module": "@jupyter-widgets/base",
            "overflow": null,
            "_model_module_version": "1.2.0",
            "_view_count": null,
            "flex_flow": null,
            "width": null,
            "min_width": null,
            "border": null,
            "align_items": null,
            "bottom": null,
            "_model_module": "@jupyter-widgets/base",
            "top": null,
            "grid_column": null,
            "overflow_y": null,
            "overflow_x": null,
            "grid_auto_flow": null,
            "grid_area": null,
            "grid_template_columns": null,
            "flex": null,
            "_model_name": "LayoutModel",
            "justify_items": null,
            "grid_row": null,
            "max_height": null,
            "align_content": null,
            "visibility": null,
            "align_self": null,
            "height": null,
            "min_height": null,
            "padding": null,
            "grid_auto_rows": null,
            "grid_gap": null,
            "max_width": null,
            "order": null,
            "_view_module_version": "1.2.0",
            "grid_template_areas": null,
            "object_position": null,
            "object_fit": null,
            "grid_auto_columns": null,
            "margin": null,
            "display": null,
            "left": null
          }
        },
        "0e277c8eff1e4f8fa149ecea1028c30f": {
          "model_module": "@jupyter-widgets/controls",
          "model_name": "IntProgressModel",
          "state": {
            "_view_name": "ProgressView",
            "style": "IPY_MODEL_8bc1fea0455845d4b51efe0be0deb06e",
            "_dom_classes": [],
            "description": "",
            "_model_name": "IntProgressModel",
            "bar_style": "info",
            "max": 1,
            "_view_module": "@jupyter-widgets/controls",
            "_model_module_version": "1.5.0",
            "value": 1,
            "_view_count": null,
            "_view_module_version": "1.5.0",
            "orientation": "horizontal",
            "min": 0,
            "description_tooltip": null,
            "_model_module": "@jupyter-widgets/controls",
            "layout": "IPY_MODEL_c9629db326fd495c81b13648e75540a4"
          }
        },
        "75ec563024aa40ce8c0208768ae3b380": {
          "model_module": "@jupyter-widgets/controls",
          "model_name": "HTMLModel",
          "state": {
            "_view_name": "HTMLView",
            "style": "IPY_MODEL_d007630bfb9e4a5bbb773e15a21cc5b8",
            "_dom_classes": [],
            "description": "",
            "_model_name": "HTMLModel",
            "placeholder": "​",
            "_view_module": "@jupyter-widgets/controls",
            "_model_module_version": "1.5.0",
            "value": " 50000/0 [01:04&lt;00:00, 839.82 examples/s]",
            "_view_count": null,
            "_view_module_version": "1.5.0",
            "description_tooltip": null,
            "_model_module": "@jupyter-widgets/controls",
            "layout": "IPY_MODEL_0765778e75a545a283edad98f3523b2b"
          }
        },
        "8bc1fea0455845d4b51efe0be0deb06e": {
          "model_module": "@jupyter-widgets/controls",
          "model_name": "ProgressStyleModel",
          "state": {
            "_view_name": "StyleView",
            "_model_name": "ProgressStyleModel",
            "description_width": "initial",
            "_view_module": "@jupyter-widgets/base",
            "_model_module_version": "1.5.0",
            "_view_count": null,
            "_view_module_version": "1.2.0",
            "bar_color": null,
            "_model_module": "@jupyter-widgets/controls"
          }
        },
        "c9629db326fd495c81b13648e75540a4": {
          "model_module": "@jupyter-widgets/base",
          "model_name": "LayoutModel",
          "state": {
            "_view_name": "LayoutView",
            "grid_template_rows": null,
            "right": null,
            "justify_content": null,
            "_view_module": "@jupyter-widgets/base",
            "overflow": null,
            "_model_module_version": "1.2.0",
            "_view_count": null,
            "flex_flow": null,
            "width": null,
            "min_width": null,
            "border": null,
            "align_items": null,
            "bottom": null,
            "_model_module": "@jupyter-widgets/base",
            "top": null,
            "grid_column": null,
            "overflow_y": null,
            "overflow_x": null,
            "grid_auto_flow": null,
            "grid_area": null,
            "grid_template_columns": null,
            "flex": null,
            "_model_name": "LayoutModel",
            "justify_items": null,
            "grid_row": null,
            "max_height": null,
            "align_content": null,
            "visibility": null,
            "align_self": null,
            "height": null,
            "min_height": null,
            "padding": null,
            "grid_auto_rows": null,
            "grid_gap": null,
            "max_width": null,
            "order": null,
            "_view_module_version": "1.2.0",
            "grid_template_areas": null,
            "object_position": null,
            "object_fit": null,
            "grid_auto_columns": null,
            "margin": null,
            "display": null,
            "left": null
          }
        },
        "d007630bfb9e4a5bbb773e15a21cc5b8": {
          "model_module": "@jupyter-widgets/controls",
          "model_name": "DescriptionStyleModel",
          "state": {
            "_view_name": "StyleView",
            "_model_name": "DescriptionStyleModel",
            "description_width": "",
            "_view_module": "@jupyter-widgets/base",
            "_model_module_version": "1.5.0",
            "_view_count": null,
            "_view_module_version": "1.2.0",
            "_model_module": "@jupyter-widgets/controls"
          }
        },
        "0765778e75a545a283edad98f3523b2b": {
          "model_module": "@jupyter-widgets/base",
          "model_name": "LayoutModel",
          "state": {
            "_view_name": "LayoutView",
            "grid_template_rows": null,
            "right": null,
            "justify_content": null,
            "_view_module": "@jupyter-widgets/base",
            "overflow": null,
            "_model_module_version": "1.2.0",
            "_view_count": null,
            "flex_flow": null,
            "width": null,
            "min_width": null,
            "border": null,
            "align_items": null,
            "bottom": null,
            "_model_module": "@jupyter-widgets/base",
            "top": null,
            "grid_column": null,
            "overflow_y": null,
            "overflow_x": null,
            "grid_auto_flow": null,
            "grid_area": null,
            "grid_template_columns": null,
            "flex": null,
            "_model_name": "LayoutModel",
            "justify_items": null,
            "grid_row": null,
            "max_height": null,
            "align_content": null,
            "visibility": null,
            "align_self": null,
            "height": null,
            "min_height": null,
            "padding": null,
            "grid_auto_rows": null,
            "grid_gap": null,
            "max_width": null,
            "order": null,
            "_view_module_version": "1.2.0",
            "grid_template_areas": null,
            "object_position": null,
            "object_fit": null,
            "grid_auto_columns": null,
            "margin": null,
            "display": null,
            "left": null
          }
        },
        "1ae76ad7f9804cff89cb05c7819d8005": {
          "model_module": "@jupyter-widgets/controls",
          "model_name": "HBoxModel",
          "state": {
            "_view_name": "HBoxView",
            "_dom_classes": [],
            "_model_name": "HBoxModel",
            "_view_module": "@jupyter-widgets/controls",
            "_model_module_version": "1.5.0",
            "_view_count": null,
            "_view_module_version": "1.5.0",
            "box_style": "",
            "layout": "IPY_MODEL_bd32aab5c2514acc8ff98238559341a2",
            "_model_module": "@jupyter-widgets/controls",
            "children": [
              "IPY_MODEL_156e6924fc7241b2910b6ebbc9a03342",
              "IPY_MODEL_7c71b53a322b4887998cd10639e2fc42"
            ]
          }
        },
        "bd32aab5c2514acc8ff98238559341a2": {
          "model_module": "@jupyter-widgets/base",
          "model_name": "LayoutModel",
          "state": {
            "_view_name": "LayoutView",
            "grid_template_rows": null,
            "right": null,
            "justify_content": null,
            "_view_module": "@jupyter-widgets/base",
            "overflow": null,
            "_model_module_version": "1.2.0",
            "_view_count": null,
            "flex_flow": null,
            "width": null,
            "min_width": null,
            "border": null,
            "align_items": null,
            "bottom": null,
            "_model_module": "@jupyter-widgets/base",
            "top": null,
            "grid_column": null,
            "overflow_y": null,
            "overflow_x": null,
            "grid_auto_flow": null,
            "grid_area": null,
            "grid_template_columns": null,
            "flex": null,
            "_model_name": "LayoutModel",
            "justify_items": null,
            "grid_row": null,
            "max_height": null,
            "align_content": null,
            "visibility": null,
            "align_self": null,
            "height": null,
            "min_height": null,
            "padding": null,
            "grid_auto_rows": null,
            "grid_gap": null,
            "max_width": null,
            "order": null,
            "_view_module_version": "1.2.0",
            "grid_template_areas": null,
            "object_position": null,
            "object_fit": null,
            "grid_auto_columns": null,
            "margin": null,
            "display": null,
            "left": null
          }
        },
        "156e6924fc7241b2910b6ebbc9a03342": {
          "model_module": "@jupyter-widgets/controls",
          "model_name": "IntProgressModel",
          "state": {
            "_view_name": "ProgressView",
            "style": "IPY_MODEL_5eec0461fee2436ab49fccb8ea803b30",
            "_dom_classes": [],
            "description": " 62%",
            "_model_name": "IntProgressModel",
            "bar_style": "danger",
            "max": 50000,
            "_view_module": "@jupyter-widgets/controls",
            "_model_module_version": "1.5.0",
            "value": 31139,
            "_view_count": null,
            "_view_module_version": "1.5.0",
            "orientation": "horizontal",
            "min": 0,
            "description_tooltip": null,
            "_model_module": "@jupyter-widgets/controls",
            "layout": "IPY_MODEL_8cc543b84e1d4d12b43c901ce42a09bc"
          }
        },
        "7c71b53a322b4887998cd10639e2fc42": {
          "model_module": "@jupyter-widgets/controls",
          "model_name": "HTMLModel",
          "state": {
            "_view_name": "HTMLView",
            "style": "IPY_MODEL_572b1ff51aa34702ae0508c7dd921ef1",
            "_dom_classes": [],
            "description": "",
            "_model_name": "HTMLModel",
            "placeholder": "​",
            "_view_module": "@jupyter-widgets/controls",
            "_model_module_version": "1.5.0",
            "value": " 31139/50000 [00:08&lt;00:01, 9999.54 examples/s]",
            "_view_count": null,
            "_view_module_version": "1.5.0",
            "description_tooltip": null,
            "_model_module": "@jupyter-widgets/controls",
            "layout": "IPY_MODEL_f08e9f430e64443ab573a090766d5c10"
          }
        },
        "5eec0461fee2436ab49fccb8ea803b30": {
          "model_module": "@jupyter-widgets/controls",
          "model_name": "ProgressStyleModel",
          "state": {
            "_view_name": "StyleView",
            "_model_name": "ProgressStyleModel",
            "description_width": "initial",
            "_view_module": "@jupyter-widgets/base",
            "_model_module_version": "1.5.0",
            "_view_count": null,
            "_view_module_version": "1.2.0",
            "bar_color": null,
            "_model_module": "@jupyter-widgets/controls"
          }
        },
        "8cc543b84e1d4d12b43c901ce42a09bc": {
          "model_module": "@jupyter-widgets/base",
          "model_name": "LayoutModel",
          "state": {
            "_view_name": "LayoutView",
            "grid_template_rows": null,
            "right": null,
            "justify_content": null,
            "_view_module": "@jupyter-widgets/base",
            "overflow": null,
            "_model_module_version": "1.2.0",
            "_view_count": null,
            "flex_flow": null,
            "width": null,
            "min_width": null,
            "border": null,
            "align_items": null,
            "bottom": null,
            "_model_module": "@jupyter-widgets/base",
            "top": null,
            "grid_column": null,
            "overflow_y": null,
            "overflow_x": null,
            "grid_auto_flow": null,
            "grid_area": null,
            "grid_template_columns": null,
            "flex": null,
            "_model_name": "LayoutModel",
            "justify_items": null,
            "grid_row": null,
            "max_height": null,
            "align_content": null,
            "visibility": null,
            "align_self": null,
            "height": null,
            "min_height": null,
            "padding": null,
            "grid_auto_rows": null,
            "grid_gap": null,
            "max_width": null,
            "order": null,
            "_view_module_version": "1.2.0",
            "grid_template_areas": null,
            "object_position": null,
            "object_fit": null,
            "grid_auto_columns": null,
            "margin": null,
            "display": null,
            "left": null
          }
        },
        "572b1ff51aa34702ae0508c7dd921ef1": {
          "model_module": "@jupyter-widgets/controls",
          "model_name": "DescriptionStyleModel",
          "state": {
            "_view_name": "StyleView",
            "_model_name": "DescriptionStyleModel",
            "description_width": "",
            "_view_module": "@jupyter-widgets/base",
            "_model_module_version": "1.5.0",
            "_view_count": null,
            "_view_module_version": "1.2.0",
            "_model_module": "@jupyter-widgets/controls"
          }
        },
        "f08e9f430e64443ab573a090766d5c10": {
          "model_module": "@jupyter-widgets/base",
          "model_name": "LayoutModel",
          "state": {
            "_view_name": "LayoutView",
            "grid_template_rows": null,
            "right": null,
            "justify_content": null,
            "_view_module": "@jupyter-widgets/base",
            "overflow": null,
            "_model_module_version": "1.2.0",
            "_view_count": null,
            "flex_flow": null,
            "width": null,
            "min_width": null,
            "border": null,
            "align_items": null,
            "bottom": null,
            "_model_module": "@jupyter-widgets/base",
            "top": null,
            "grid_column": null,
            "overflow_y": null,
            "overflow_x": null,
            "grid_auto_flow": null,
            "grid_area": null,
            "grid_template_columns": null,
            "flex": null,
            "_model_name": "LayoutModel",
            "justify_items": null,
            "grid_row": null,
            "max_height": null,
            "align_content": null,
            "visibility": null,
            "align_self": null,
            "height": null,
            "min_height": null,
            "padding": null,
            "grid_auto_rows": null,
            "grid_gap": null,
            "max_width": null,
            "order": null,
            "_view_module_version": "1.2.0",
            "grid_template_areas": null,
            "object_position": null,
            "object_fit": null,
            "grid_auto_columns": null,
            "margin": null,
            "display": null,
            "left": null
          }
        }
      }
    }
  },
  "cells": [
    {
      "cell_type": "code",
      "metadata": {
        "id": "YVu7rW91tNUb",
        "colab_type": "code",
        "colab": {}
      },
      "source": [
        "%tensorflow_version 2.x\n",
        "import tensorflow as tf\n",
        "import tensorflow_datasets as tfds"
      ],
      "execution_count": 0,
      "outputs": []
    },
    {
      "cell_type": "code",
      "metadata": {
        "id": "8q-syIRXr9jc",
        "colab_type": "code",
        "colab": {}
      },
      "source": [
        "BATCH_SIZE=64"
      ],
      "execution_count": 0,
      "outputs": []
    },
    {
      "cell_type": "code",
      "metadata": {
        "id": "vLwyf6NBg-qF",
        "colab_type": "code",
        "outputId": "6f49fb91-cf44-45fc-929a-abce1e3476a5",
        "colab": {
          "base_uri": "https://localhost:8080/",
          "height": 330,
          "referenced_widgets": [
            "b2be013a89b049488cc219755a5fc2c8",
            "64f535c9d58a4512905a671e5483c685",
            "82c59660f5734d3b8f81f668d3291971",
            "4822dd7076db48049c2b1c26855c46cb",
            "82b4035e5bb4440493f8a19db7c3c7cc",
            "b9a9e059c6fb45f6b8cd4b038f04e0f8",
            "c35c71d4df9a4ac5a9faf274a61d6c55",
            "a0a25f7e7ad54168a4f54762d3dac945",
            "3cb54b6a9c9f4a2fbba6f690431487e6",
            "4ff5d8682c4044c595543ebab5f66040",
            "88b4ad6572bd4a9c956204e0e3ef5593",
            "64c55a8ec5d24c01b2d5b9547e188ec0",
            "d90f79067855445ca0fa520186f8c30a",
            "cee6e247d8ba43f5af0054fee0e888ab",
            "9b902a42f73346c58178265f77e520a0",
            "1210b87b45454f31a4a04c9ffdd44506",
            "e99ee2f39f0641649841174607ca5e3a",
            "a542ebe8970340c6b16f924656c610c7",
            "ce3e9c23c84a4315a01ea3897f0c2ab4",
            "3de6945d4e1e4cea876a820ea4aac931",
            "ad7cde8c1632483581cd749d25f80154",
            "62bca9d7fe53440da372a7c6a7c0b85c",
            "be2d200fea7244ec88f43f54f0d253c8",
            "6e840d5c786249afa56a1f027d271fd3",
            "967cb275c60a498f9eca6a0e6fc6bee5",
            "cb031a3f9d5d4764a70cf719809ee049",
            "a84b8d6fe42d4b05a6b70d565ed2527c",
            "226532d2cde14beab6ab32980780e80b",
            "7ecb679e85764b2c9a0d82f16a4da107",
            "330318c6f67a4914aacd62f614b6b3fb",
            "870086c6ee184ac69b7b2e860ab0d100",
            "52d69cd2aa994a4ab84278fe2936fb85",
            "35899d068ce74aa29d8a95a5e44c7f21",
            "6bcddf33884c412d9d91373b2fd398ce",
            "928d55c917314e6caf2f571102d1e90d",
            "d1f80c27e290424982b91db2fc0fca33",
            "8d96407e7cca45c1b8d56208c66879cb",
            "cc7b7dc8521b4f498b5247881892d894",
            "34f0ca9e90054679b74bb6fcea0c750e",
            "a6898ae3d97d46c7899231a151b028d1",
            "8a4fefac3fe842ad9bf8e25f5825590e",
            "6e5f359c7ce0423ba45a0fea591663c8",
            "254c06c564df49218c2029c8ffd09b33",
            "31930537b9764b6daf391e0029d8e85a",
            "865afe898eca45e58ecedea7bf3ed33f",
            "47572abca5bb41bd9b1e6bc9f07b170b",
            "800767c6ffd049519b007f2a365d30e8",
            "882051e0acf944fd84cc74818805275e",
            "111944cea075458dab8d15d87836ba0c",
            "6a43209e04134a5db168b53dbd6a316f",
            "0e277c8eff1e4f8fa149ecea1028c30f",
            "75ec563024aa40ce8c0208768ae3b380",
            "8bc1fea0455845d4b51efe0be0deb06e",
            "c9629db326fd495c81b13648e75540a4",
            "d007630bfb9e4a5bbb773e15a21cc5b8",
            "0765778e75a545a283edad98f3523b2b",
            "1ae76ad7f9804cff89cb05c7819d8005",
            "bd32aab5c2514acc8ff98238559341a2",
            "156e6924fc7241b2910b6ebbc9a03342",
            "7c71b53a322b4887998cd10639e2fc42",
            "5eec0461fee2436ab49fccb8ea803b30",
            "8cc543b84e1d4d12b43c901ce42a09bc",
            "572b1ff51aa34702ae0508c7dd921ef1",
            "f08e9f430e64443ab573a090766d5c10"
          ]
        }
      },
      "source": [
        "dataset, info = tfds.load('imdb_reviews/subwords8k', with_info=True,\n",
        "                          as_supervised=True)\n",
        "train_dataset, test_dataset = dataset['train'], dataset['test']\n",
        "encoder = info.features['text'].encoder"
      ],
      "execution_count": 3,
      "outputs": [
        {
          "output_type": "stream",
          "text": [
            "\u001b[1mDownloading and preparing dataset imdb_reviews/subwords8k/1.0.0 (download: 80.23 MiB, generated: Unknown size, total: 80.23 MiB) to /root/tensorflow_datasets/imdb_reviews/subwords8k/1.0.0...\u001b[0m\n"
          ],
          "name": "stdout"
        },
        {
          "output_type": "display_data",
          "data": {
            "application/vnd.jupyter.widget-view+json": {
              "model_id": "b2be013a89b049488cc219755a5fc2c8",
              "version_minor": 0,
              "version_major": 2
            },
            "text/plain": [
              "HBox(children=(IntProgress(value=1, bar_style='info', description='Dl Completed...', max=1, style=ProgressStyl…"
            ]
          },
          "metadata": {
            "tags": []
          }
        },
        {
          "output_type": "display_data",
          "data": {
            "application/vnd.jupyter.widget-view+json": {
              "model_id": "3cb54b6a9c9f4a2fbba6f690431487e6",
              "version_minor": 0,
              "version_major": 2
            },
            "text/plain": [
              "HBox(children=(IntProgress(value=1, bar_style='info', description='Dl Size...', max=1, style=ProgressStyle(des…"
            ]
          },
          "metadata": {
            "tags": []
          }
        },
        {
          "output_type": "stream",
          "text": [
            "\n",
            "\n",
            "\n",
            "\n"
          ],
          "name": "stdout"
        },
        {
          "output_type": "display_data",
          "data": {
            "application/vnd.jupyter.widget-view+json": {
              "model_id": "e99ee2f39f0641649841174607ca5e3a",
              "version_minor": 0,
              "version_major": 2
            },
            "text/plain": [
              "HBox(children=(IntProgress(value=1, bar_style='info', max=1), HTML(value='')))"
            ]
          },
          "metadata": {
            "tags": []
          }
        },
        {
          "output_type": "stream",
          "text": [
            "\rShuffling and writing examples to /root/tensorflow_datasets/imdb_reviews/subwords8k/1.0.0.incompleteXO5EDW/imdb_reviews-train.tfrecord\n"
          ],
          "name": "stdout"
        },
        {
          "output_type": "display_data",
          "data": {
            "application/vnd.jupyter.widget-view+json": {
              "model_id": "967cb275c60a498f9eca6a0e6fc6bee5",
              "version_minor": 0,
              "version_major": 2
            },
            "text/plain": [
              "HBox(children=(IntProgress(value=0, max=25000), HTML(value='')))"
            ]
          },
          "metadata": {
            "tags": []
          }
        },
        {
          "output_type": "stream",
          "text": [
            "\r"
          ],
          "name": "stdout"
        },
        {
          "output_type": "display_data",
          "data": {
            "application/vnd.jupyter.widget-view+json": {
              "model_id": "35899d068ce74aa29d8a95a5e44c7f21",
              "version_minor": 0,
              "version_major": 2
            },
            "text/plain": [
              "HBox(children=(IntProgress(value=1, bar_style='info', max=1), HTML(value='')))"
            ]
          },
          "metadata": {
            "tags": []
          }
        },
        {
          "output_type": "stream",
          "text": [
            "\rShuffling and writing examples to /root/tensorflow_datasets/imdb_reviews/subwords8k/1.0.0.incompleteXO5EDW/imdb_reviews-test.tfrecord\n"
          ],
          "name": "stdout"
        },
        {
          "output_type": "display_data",
          "data": {
            "application/vnd.jupyter.widget-view+json": {
              "model_id": "8a4fefac3fe842ad9bf8e25f5825590e",
              "version_minor": 0,
              "version_major": 2
            },
            "text/plain": [
              "HBox(children=(IntProgress(value=0, max=25000), HTML(value='')))"
            ]
          },
          "metadata": {
            "tags": []
          }
        },
        {
          "output_type": "stream",
          "text": [
            "\r"
          ],
          "name": "stdout"
        },
        {
          "output_type": "display_data",
          "data": {
            "application/vnd.jupyter.widget-view+json": {
              "model_id": "111944cea075458dab8d15d87836ba0c",
              "version_minor": 0,
              "version_major": 2
            },
            "text/plain": [
              "HBox(children=(IntProgress(value=1, bar_style='info', max=1), HTML(value='')))"
            ]
          },
          "metadata": {
            "tags": []
          }
        },
        {
          "output_type": "stream",
          "text": [
            "\rShuffling and writing examples to /root/tensorflow_datasets/imdb_reviews/subwords8k/1.0.0.incompleteXO5EDW/imdb_reviews-unsupervised.tfrecord\n"
          ],
          "name": "stdout"
        },
        {
          "output_type": "display_data",
          "data": {
            "application/vnd.jupyter.widget-view+json": {
              "model_id": "1ae76ad7f9804cff89cb05c7819d8005",
              "version_minor": 0,
              "version_major": 2
            },
            "text/plain": [
              "HBox(children=(IntProgress(value=0, max=50000), HTML(value='')))"
            ]
          },
          "metadata": {
            "tags": []
          }
        },
        {
          "output_type": "stream",
          "text": [
            "\u001b[1mDataset imdb_reviews downloaded and prepared to /root/tensorflow_datasets/imdb_reviews/subwords8k/1.0.0. Subsequent calls will reuse this data.\u001b[0m\n"
          ],
          "name": "stdout"
        }
      ]
    },
    {
      "cell_type": "code",
      "metadata": {
        "id": "CevQlSw5vJtN",
        "colab_type": "code",
        "colab": {}
      },
      "source": [
        "train_dataset = train_dataset.shuffle(1000).padded_batch(BATCH_SIZE, padded_shapes=((None,), ()))\n",
        "test_dataset = test_dataset.padded_batch(BATCH_SIZE, padded_shapes=((None,), ()))"
      ],
      "execution_count": 0,
      "outputs": []
    },
    {
      "cell_type": "code",
      "metadata": {
        "id": "jVEV_2XFt9p6",
        "colab_type": "code",
        "colab": {}
      },
      "source": [
        "model_1 = tf.keras.Sequential([\n",
        "    tf.keras.layers.Embedding(encoder.vocab_size, 100),\n",
        "    tf.keras.layers.Bidirectional(tf.keras.layers.LSTM(64)),\n",
        "    tf.keras.layers.Dense(1,activation='sigmoid')\n",
        "])\n",
        "\n",
        "model_2 = tf.keras.Sequential([\n",
        "    tf.keras.layers.Embedding(encoder.vocab_size, 100),\n",
        "    tf.keras.layers.Bidirectional(tf.keras.layers.LSTM(64,return_sequences=True)),\n",
        "    tf.keras.layers.Bidirectional(tf.keras.layers.LSTM(32)),\n",
        "    tf.keras.layers.Dense(64, activation='relu'),\n",
        "    tf.keras.layers.Dropout(0.5),\n",
        "    tf.keras.layers.Dense(1,activation='sigmoid')\n",
        "])"
      ],
      "execution_count": 0,
      "outputs": []
    },
    {
      "cell_type": "code",
      "metadata": {
        "id": "BvuJxRRmubck",
        "colab_type": "code",
        "colab": {}
      },
      "source": [
        "model_1.compile(optimizer='adam',\n",
        "    loss='binary_crossentropy',\n",
        "    metrics=['accuracy'])\n",
        "\n",
        "model_2.compile(optimizer='adam',\n",
        "    loss='binary_crossentropy',\n",
        "    metrics=['accuracy'])"
      ],
      "execution_count": 0,
      "outputs": []
    },
    {
      "cell_type": "code",
      "metadata": {
        "id": "jDOLa5aJhiRW",
        "colab_type": "code",
        "colab": {}
      },
      "source": [
        "model_1_cp_callback = tf.keras.callbacks.ModelCheckpoint(\n",
        "    filepath=\"/content/drive/My Drive/Colab Notebooks/lab7_results/model_1.ckpt\",\n",
        "    save_weights_only=True,\n",
        "    verbose=1\n",
        "    )"
      ],
      "execution_count": 0,
      "outputs": []
    },
    {
      "cell_type": "code",
      "metadata": {
        "id": "O6XlHi3PvbYs",
        "colab_type": "code",
        "outputId": "1e527d22-73e1-40fd-f33d-1c1ab8a8f407",
        "colab": {
          "base_uri": "https://localhost:8080/",
          "height": 1000
        }
      },
      "source": [
        "model_1.fit(train_dataset, \n",
        "    epochs=20,\n",
        "    validation_data=test_dataset,\n",
        "    validation_steps=30,\n",
        "    callbacks=[model_1_cp_callback])"
      ],
      "execution_count": 0,
      "outputs": [
        {
          "output_type": "stream",
          "text": [
            "Epoch 1/20\n",
            "391/391 [==============================] - ETA: 0s - loss: 0.5885 - accuracy: 0.6755\n",
            "Epoch 00001: saving model to /content/drive/My Drive/Colab Notebooks/lab7_results/model_1.ckpt\n",
            "391/391 [==============================] - 51s 129ms/step - loss: 0.5885 - accuracy: 0.6755 - val_loss: 0.5437 - val_accuracy: 0.7292\n",
            "Epoch 2/20\n",
            "391/391 [==============================] - ETA: 0s - loss: 0.4053 - accuracy: 0.8288\n",
            "Epoch 00002: saving model to /content/drive/My Drive/Colab Notebooks/lab7_results/model_1.ckpt\n",
            "391/391 [==============================] - 49s 127ms/step - loss: 0.4053 - accuracy: 0.8288 - val_loss: 0.4479 - val_accuracy: 0.8036\n",
            "Epoch 3/20\n",
            "391/391 [==============================] - ETA: 0s - loss: 0.3849 - accuracy: 0.8308\n",
            "Epoch 00003: saving model to /content/drive/My Drive/Colab Notebooks/lab7_results/model_1.ckpt\n",
            "391/391 [==============================] - 50s 127ms/step - loss: 0.3849 - accuracy: 0.8308 - val_loss: 0.5026 - val_accuracy: 0.7682\n",
            "Epoch 4/20\n",
            "391/391 [==============================] - ETA: 0s - loss: 0.3974 - accuracy: 0.8266\n",
            "Epoch 00004: saving model to /content/drive/My Drive/Colab Notebooks/lab7_results/model_1.ckpt\n",
            "391/391 [==============================] - 50s 128ms/step - loss: 0.3974 - accuracy: 0.8266 - val_loss: 0.4214 - val_accuracy: 0.8323\n",
            "Epoch 5/20\n",
            "391/391 [==============================] - ETA: 0s - loss: 0.5497 - accuracy: 0.7241\n",
            "Epoch 00005: saving model to /content/drive/My Drive/Colab Notebooks/lab7_results/model_1.ckpt\n",
            "391/391 [==============================] - 50s 128ms/step - loss: 0.5497 - accuracy: 0.7241 - val_loss: 0.6652 - val_accuracy: 0.5807\n",
            "Epoch 6/20\n",
            "391/391 [==============================] - ETA: 0s - loss: 0.5104 - accuracy: 0.7485\n",
            "Epoch 00006: saving model to /content/drive/My Drive/Colab Notebooks/lab7_results/model_1.ckpt\n",
            "391/391 [==============================] - 50s 128ms/step - loss: 0.5104 - accuracy: 0.7485 - val_loss: 0.4824 - val_accuracy: 0.7854\n",
            "Epoch 7/20\n",
            "391/391 [==============================] - ETA: 0s - loss: 0.5494 - accuracy: 0.7192\n",
            "Epoch 00007: saving model to /content/drive/My Drive/Colab Notebooks/lab7_results/model_1.ckpt\n",
            "391/391 [==============================] - 50s 128ms/step - loss: 0.5494 - accuracy: 0.7192 - val_loss: 0.6190 - val_accuracy: 0.6724\n",
            "Epoch 8/20\n",
            "391/391 [==============================] - ETA: 0s - loss: 0.3756 - accuracy: 0.8648\n",
            "Epoch 00008: saving model to /content/drive/My Drive/Colab Notebooks/lab7_results/model_1.ckpt\n",
            "391/391 [==============================] - 50s 129ms/step - loss: 0.3756 - accuracy: 0.8648 - val_loss: 0.3955 - val_accuracy: 0.8385\n",
            "Epoch 9/20\n",
            "391/391 [==============================] - ETA: 0s - loss: 0.2610 - accuracy: 0.9058\n",
            "Epoch 00009: saving model to /content/drive/My Drive/Colab Notebooks/lab7_results/model_1.ckpt\n",
            "391/391 [==============================] - 50s 129ms/step - loss: 0.2610 - accuracy: 0.9058 - val_loss: 0.3556 - val_accuracy: 0.8562\n",
            "Epoch 10/20\n",
            "391/391 [==============================] - ETA: 0s - loss: 0.2024 - accuracy: 0.9306\n",
            "Epoch 00010: saving model to /content/drive/My Drive/Colab Notebooks/lab7_results/model_1.ckpt\n",
            "391/391 [==============================] - 50s 128ms/step - loss: 0.2024 - accuracy: 0.9306 - val_loss: 0.3811 - val_accuracy: 0.8521\n",
            "Epoch 11/20\n",
            "391/391 [==============================] - ETA: 0s - loss: 0.1652 - accuracy: 0.9468\n",
            "Epoch 00011: saving model to /content/drive/My Drive/Colab Notebooks/lab7_results/model_1.ckpt\n",
            "391/391 [==============================] - 51s 130ms/step - loss: 0.1652 - accuracy: 0.9468 - val_loss: 0.3864 - val_accuracy: 0.8589\n",
            "Epoch 12/20\n",
            "391/391 [==============================] - ETA: 0s - loss: 0.1351 - accuracy: 0.9586\n",
            "Epoch 00012: saving model to /content/drive/My Drive/Colab Notebooks/lab7_results/model_1.ckpt\n",
            "391/391 [==============================] - 51s 129ms/step - loss: 0.1351 - accuracy: 0.9586 - val_loss: 0.4304 - val_accuracy: 0.8609\n",
            "Epoch 13/20\n",
            "391/391 [==============================] - ETA: 0s - loss: 0.1083 - accuracy: 0.9691\n",
            "Epoch 00013: saving model to /content/drive/My Drive/Colab Notebooks/lab7_results/model_1.ckpt\n",
            "391/391 [==============================] - 50s 128ms/step - loss: 0.1083 - accuracy: 0.9691 - val_loss: 0.4644 - val_accuracy: 0.8562\n",
            "Epoch 14/20\n",
            "391/391 [==============================] - ETA: 0s - loss: 0.0863 - accuracy: 0.9774\n",
            "Epoch 00014: saving model to /content/drive/My Drive/Colab Notebooks/lab7_results/model_1.ckpt\n",
            "391/391 [==============================] - 50s 129ms/step - loss: 0.0863 - accuracy: 0.9774 - val_loss: 0.5101 - val_accuracy: 0.8552\n",
            "Epoch 15/20\n",
            "391/391 [==============================] - ETA: 0s - loss: 0.0713 - accuracy: 0.9825\n",
            "Epoch 00015: saving model to /content/drive/My Drive/Colab Notebooks/lab7_results/model_1.ckpt\n",
            "391/391 [==============================] - 50s 129ms/step - loss: 0.0713 - accuracy: 0.9825 - val_loss: 0.5446 - val_accuracy: 0.8521\n",
            "Epoch 16/20\n",
            "391/391 [==============================] - ETA: 0s - loss: 0.0620 - accuracy: 0.9848\n",
            "Epoch 00016: saving model to /content/drive/My Drive/Colab Notebooks/lab7_results/model_1.ckpt\n",
            "391/391 [==============================] - 50s 128ms/step - loss: 0.0620 - accuracy: 0.9848 - val_loss: 0.5919 - val_accuracy: 0.8495\n",
            "Epoch 17/20\n",
            "391/391 [==============================] - ETA: 0s - loss: 0.0519 - accuracy: 0.9884\n",
            "Epoch 00017: saving model to /content/drive/My Drive/Colab Notebooks/lab7_results/model_1.ckpt\n",
            "391/391 [==============================] - 50s 128ms/step - loss: 0.0519 - accuracy: 0.9884 - val_loss: 0.6036 - val_accuracy: 0.8562\n",
            "Epoch 18/20\n",
            "391/391 [==============================] - ETA: 0s - loss: 0.0450 - accuracy: 0.9899\n",
            "Epoch 00018: saving model to /content/drive/My Drive/Colab Notebooks/lab7_results/model_1.ckpt\n",
            "391/391 [==============================] - 50s 128ms/step - loss: 0.0450 - accuracy: 0.9899 - val_loss: 0.5985 - val_accuracy: 0.8516\n",
            "Epoch 19/20\n",
            "391/391 [==============================] - ETA: 0s - loss: 0.0461 - accuracy: 0.9890\n",
            "Epoch 00019: saving model to /content/drive/My Drive/Colab Notebooks/lab7_results/model_1.ckpt\n",
            "391/391 [==============================] - 50s 127ms/step - loss: 0.0461 - accuracy: 0.9890 - val_loss: 0.6236 - val_accuracy: 0.8484\n",
            "Epoch 20/20\n",
            "391/391 [==============================] - ETA: 0s - loss: 0.0434 - accuracy: 0.9898\n",
            "Epoch 00020: saving model to /content/drive/My Drive/Colab Notebooks/lab7_results/model_1.ckpt\n",
            "391/391 [==============================] - 50s 127ms/step - loss: 0.0434 - accuracy: 0.9898 - val_loss: 0.6539 - val_accuracy: 0.8453\n"
          ],
          "name": "stdout"
        },
        {
          "output_type": "execute_result",
          "data": {
            "text/plain": [
              "<tensorflow.python.keras.callbacks.History at 0x7ff072020b00>"
            ]
          },
          "metadata": {
            "tags": []
          },
          "execution_count": 8
        }
      ]
    },
    {
      "cell_type": "code",
      "metadata": {
        "id": "NydoDtHuh1O7",
        "colab_type": "code",
        "colab": {}
      },
      "source": [
        "model_2_cp_callback = tf.keras.callbacks.ModelCheckpoint(\n",
        "    filepath=\"/content/drive/My Drive/Colab Notebooks/lab7_results/model_2.ckpt\",\n",
        "    save_weights_only=True,\n",
        "    verbose=1\n",
        "    )"
      ],
      "execution_count": 0,
      "outputs": []
    },
    {
      "cell_type": "code",
      "metadata": {
        "id": "Jm6YCqrVE_NK",
        "colab_type": "code",
        "outputId": "e4f75c95-9f22-4172-f2ef-4976e32633d1",
        "colab": {
          "base_uri": "https://localhost:8080/",
          "height": 1000
        }
      },
      "source": [
        "model_2.fit(train_dataset, \n",
        "    epochs=30,\n",
        "    validation_data=test_dataset,\n",
        "    validation_steps=30,\n",
        "    callbacks=[model_2_cp_callback])"
      ],
      "execution_count": 0,
      "outputs": [
        {
          "output_type": "stream",
          "text": [
            "Epoch 1/30\n",
            "391/391 [==============================] - ETA: 0s - loss: 0.0193 - accuracy: 0.9950\n",
            "Epoch 00001: saving model to /content/drive/My Drive/Colab Notebooks/lab7_results/model_2.ckpt\n",
            "391/391 [==============================] - 81s 207ms/step - loss: 0.0193 - accuracy: 0.9950 - val_loss: 0.7731 - val_accuracy: 0.8651\n",
            "Epoch 2/30\n",
            "391/391 [==============================] - ETA: 0s - loss: 0.0116 - accuracy: 0.9973\n",
            "Epoch 00002: saving model to /content/drive/My Drive/Colab Notebooks/lab7_results/model_2.ckpt\n",
            "391/391 [==============================] - 81s 208ms/step - loss: 0.0116 - accuracy: 0.9973 - val_loss: 0.9489 - val_accuracy: 0.8604\n",
            "Epoch 3/30\n",
            "391/391 [==============================] - ETA: 0s - loss: 0.0166 - accuracy: 0.9954\n",
            "Epoch 00003: saving model to /content/drive/My Drive/Colab Notebooks/lab7_results/model_2.ckpt\n",
            "391/391 [==============================] - 80s 205ms/step - loss: 0.0166 - accuracy: 0.9954 - val_loss: 0.7234 - val_accuracy: 0.8604\n",
            "Epoch 4/30\n",
            "391/391 [==============================] - ETA: 0s - loss: 0.0121 - accuracy: 0.9969\n",
            "Epoch 00004: saving model to /content/drive/My Drive/Colab Notebooks/lab7_results/model_2.ckpt\n",
            "391/391 [==============================] - 80s 205ms/step - loss: 0.0121 - accuracy: 0.9969 - val_loss: 0.8067 - val_accuracy: 0.8615\n",
            "Epoch 5/30\n",
            "391/391 [==============================] - ETA: 0s - loss: 0.0123 - accuracy: 0.9970\n",
            "Epoch 00005: saving model to /content/drive/My Drive/Colab Notebooks/lab7_results/model_2.ckpt\n",
            "391/391 [==============================] - 81s 208ms/step - loss: 0.0123 - accuracy: 0.9970 - val_loss: 0.7945 - val_accuracy: 0.8667\n",
            "Epoch 6/30\n",
            "391/391 [==============================] - ETA: 0s - loss: 0.0121 - accuracy: 0.9973\n",
            "Epoch 00006: saving model to /content/drive/My Drive/Colab Notebooks/lab7_results/model_2.ckpt\n",
            "391/391 [==============================] - 81s 208ms/step - loss: 0.0121 - accuracy: 0.9973 - val_loss: 0.8594 - val_accuracy: 0.8667\n",
            "Epoch 7/30\n",
            "391/391 [==============================] - ETA: 0s - loss: 0.0166 - accuracy: 0.9953\n",
            "Epoch 00007: saving model to /content/drive/My Drive/Colab Notebooks/lab7_results/model_2.ckpt\n",
            "391/391 [==============================] - 82s 211ms/step - loss: 0.0166 - accuracy: 0.9953 - val_loss: 0.7732 - val_accuracy: 0.8646\n",
            "Epoch 8/30\n",
            "391/391 [==============================] - ETA: 0s - loss: 0.0109 - accuracy: 0.9972\n",
            "Epoch 00008: saving model to /content/drive/My Drive/Colab Notebooks/lab7_results/model_2.ckpt\n",
            "391/391 [==============================] - 82s 210ms/step - loss: 0.0109 - accuracy: 0.9972 - val_loss: 0.6988 - val_accuracy: 0.8667\n",
            "Epoch 9/30\n",
            "391/391 [==============================] - ETA: 0s - loss: 0.0123 - accuracy: 0.9971\n",
            "Epoch 00009: saving model to /content/drive/My Drive/Colab Notebooks/lab7_results/model_2.ckpt\n",
            "391/391 [==============================] - 83s 212ms/step - loss: 0.0123 - accuracy: 0.9971 - val_loss: 0.8574 - val_accuracy: 0.8661\n",
            "Epoch 10/30\n",
            "391/391 [==============================] - ETA: 0s - loss: 0.0062 - accuracy: 0.9988\n",
            "Epoch 00010: saving model to /content/drive/My Drive/Colab Notebooks/lab7_results/model_2.ckpt\n",
            "391/391 [==============================] - 83s 212ms/step - loss: 0.0062 - accuracy: 0.9988 - val_loss: 0.9161 - val_accuracy: 0.8620\n",
            "Epoch 11/30\n",
            "391/391 [==============================] - ETA: 0s - loss: 0.0089 - accuracy: 0.9980\n",
            "Epoch 00011: saving model to /content/drive/My Drive/Colab Notebooks/lab7_results/model_2.ckpt\n",
            "391/391 [==============================] - 83s 212ms/step - loss: 0.0089 - accuracy: 0.9980 - val_loss: 0.9975 - val_accuracy: 0.8641\n",
            "Epoch 12/30\n",
            "391/391 [==============================] - ETA: 0s - loss: 0.0105 - accuracy: 0.9974\n",
            "Epoch 00012: saving model to /content/drive/My Drive/Colab Notebooks/lab7_results/model_2.ckpt\n",
            "391/391 [==============================] - 83s 213ms/step - loss: 0.0105 - accuracy: 0.9974 - val_loss: 0.8926 - val_accuracy: 0.8719\n",
            "Epoch 13/30\n",
            "391/391 [==============================] - ETA: 0s - loss: 0.0103 - accuracy: 0.9976\n",
            "Epoch 00013: saving model to /content/drive/My Drive/Colab Notebooks/lab7_results/model_2.ckpt\n",
            "391/391 [==============================] - 82s 210ms/step - loss: 0.0103 - accuracy: 0.9976 - val_loss: 0.8082 - val_accuracy: 0.8672\n",
            "Epoch 14/30\n",
            "391/391 [==============================] - ETA: 0s - loss: 0.0088 - accuracy: 0.9977\n",
            "Epoch 00014: saving model to /content/drive/My Drive/Colab Notebooks/lab7_results/model_2.ckpt\n",
            "391/391 [==============================] - 82s 210ms/step - loss: 0.0088 - accuracy: 0.9977 - val_loss: 0.8794 - val_accuracy: 0.8625\n",
            "Epoch 15/30\n",
            "391/391 [==============================] - ETA: 0s - loss: 0.0099 - accuracy: 0.9976\n",
            "Epoch 00015: saving model to /content/drive/My Drive/Colab Notebooks/lab7_results/model_2.ckpt\n",
            "391/391 [==============================] - 81s 208ms/step - loss: 0.0099 - accuracy: 0.9976 - val_loss: 0.8181 - val_accuracy: 0.8568\n",
            "Epoch 16/30\n",
            "391/391 [==============================] - ETA: 0s - loss: 0.0094 - accuracy: 0.9980\n",
            "Epoch 00016: saving model to /content/drive/My Drive/Colab Notebooks/lab7_results/model_2.ckpt\n",
            "391/391 [==============================] - 82s 210ms/step - loss: 0.0094 - accuracy: 0.9980 - val_loss: 0.9254 - val_accuracy: 0.8620\n",
            "Epoch 17/30\n",
            "391/391 [==============================] - ETA: 0s - loss: 0.0083 - accuracy: 0.9982\n",
            "Epoch 00017: saving model to /content/drive/My Drive/Colab Notebooks/lab7_results/model_2.ckpt\n",
            "391/391 [==============================] - 81s 208ms/step - loss: 0.0083 - accuracy: 0.9982 - val_loss: 0.9681 - val_accuracy: 0.8609\n",
            "Epoch 18/30\n",
            "391/391 [==============================] - ETA: 0s - loss: 0.0089 - accuracy: 0.9978\n",
            "Epoch 00018: saving model to /content/drive/My Drive/Colab Notebooks/lab7_results/model_2.ckpt\n",
            "391/391 [==============================] - 82s 209ms/step - loss: 0.0089 - accuracy: 0.9978 - val_loss: 0.8812 - val_accuracy: 0.8625\n",
            "Epoch 19/30\n",
            "391/391 [==============================] - ETA: 0s - loss: 0.0076 - accuracy: 0.9984\n",
            "Epoch 00019: saving model to /content/drive/My Drive/Colab Notebooks/lab7_results/model_2.ckpt\n",
            "391/391 [==============================] - 82s 209ms/step - loss: 0.0076 - accuracy: 0.9984 - val_loss: 0.8061 - val_accuracy: 0.8583\n",
            "Epoch 20/30\n",
            "391/391 [==============================] - ETA: 0s - loss: 0.0076 - accuracy: 0.9983\n",
            "Epoch 00020: saving model to /content/drive/My Drive/Colab Notebooks/lab7_results/model_2.ckpt\n",
            "391/391 [==============================] - 82s 209ms/step - loss: 0.0076 - accuracy: 0.9983 - val_loss: 1.0390 - val_accuracy: 0.8547\n",
            "Epoch 21/30\n",
            "391/391 [==============================] - ETA: 0s - loss: 0.0048 - accuracy: 0.9988\n",
            "Epoch 00021: saving model to /content/drive/My Drive/Colab Notebooks/lab7_results/model_2.ckpt\n",
            "391/391 [==============================] - 82s 209ms/step - loss: 0.0048 - accuracy: 0.9988 - val_loss: 1.1837 - val_accuracy: 0.8615\n",
            "Epoch 22/30\n",
            "391/391 [==============================] - ETA: 0s - loss: 0.0054 - accuracy: 0.9984\n",
            "Epoch 00022: saving model to /content/drive/My Drive/Colab Notebooks/lab7_results/model_2.ckpt\n",
            "391/391 [==============================] - 79s 202ms/step - loss: 0.0054 - accuracy: 0.9984 - val_loss: 1.0827 - val_accuracy: 0.8609\n",
            "Epoch 23/30\n",
            "391/391 [==============================] - ETA: 0s - loss: 0.0081 - accuracy: 0.9978\n",
            "Epoch 00023: saving model to /content/drive/My Drive/Colab Notebooks/lab7_results/model_2.ckpt\n",
            "391/391 [==============================] - 80s 204ms/step - loss: 0.0081 - accuracy: 0.9978 - val_loss: 0.7736 - val_accuracy: 0.8573\n",
            "Epoch 24/30\n",
            "391/391 [==============================] - ETA: 0s - loss: 0.0067 - accuracy: 0.9980\n",
            "Epoch 00024: saving model to /content/drive/My Drive/Colab Notebooks/lab7_results/model_2.ckpt\n",
            "391/391 [==============================] - 79s 202ms/step - loss: 0.0067 - accuracy: 0.9980 - val_loss: 0.9094 - val_accuracy: 0.8589\n",
            "Epoch 25/30\n",
            "391/391 [==============================] - ETA: 0s - loss: 0.0049 - accuracy: 0.9986\n",
            "Epoch 00025: saving model to /content/drive/My Drive/Colab Notebooks/lab7_results/model_2.ckpt\n",
            "391/391 [==============================] - 79s 201ms/step - loss: 0.0049 - accuracy: 0.9986 - val_loss: 0.9263 - val_accuracy: 0.8594\n",
            "Epoch 26/30\n",
            "391/391 [==============================] - ETA: 0s - loss: 0.0044 - accuracy: 0.9987\n",
            "Epoch 00026: saving model to /content/drive/My Drive/Colab Notebooks/lab7_results/model_2.ckpt\n",
            "391/391 [==============================] - 78s 200ms/step - loss: 0.0044 - accuracy: 0.9987 - val_loss: 1.1261 - val_accuracy: 0.8604\n",
            "Epoch 27/30\n",
            "391/391 [==============================] - ETA: 0s - loss: 0.0025 - accuracy: 0.9993\n",
            "Epoch 00027: saving model to /content/drive/My Drive/Colab Notebooks/lab7_results/model_2.ckpt\n",
            "391/391 [==============================] - 78s 200ms/step - loss: 0.0025 - accuracy: 0.9993 - val_loss: 1.2486 - val_accuracy: 0.8615\n",
            "Epoch 28/30\n",
            "391/391 [==============================] - ETA: 0s - loss: 0.0016 - accuracy: 0.9994\n",
            "Epoch 00028: saving model to /content/drive/My Drive/Colab Notebooks/lab7_results/model_2.ckpt\n",
            "391/391 [==============================] - 78s 198ms/step - loss: 0.0016 - accuracy: 0.9994 - val_loss: 1.3394 - val_accuracy: 0.8552\n",
            "Epoch 29/30\n",
            "391/391 [==============================] - ETA: 0s - loss: 0.0089 - accuracy: 0.9972\n",
            "Epoch 00029: saving model to /content/drive/My Drive/Colab Notebooks/lab7_results/model_2.ckpt\n",
            "391/391 [==============================] - 78s 200ms/step - loss: 0.0089 - accuracy: 0.9972 - val_loss: 0.8616 - val_accuracy: 0.8557\n",
            "Epoch 30/30\n",
            "391/391 [==============================] - ETA: 0s - loss: 0.0050 - accuracy: 0.9983\n",
            "Epoch 00030: saving model to /content/drive/My Drive/Colab Notebooks/lab7_results/model_2.ckpt\n",
            "391/391 [==============================] - 78s 199ms/step - loss: 0.0050 - accuracy: 0.9983 - val_loss: 1.1191 - val_accuracy: 0.8604\n"
          ],
          "name": "stdout"
        },
        {
          "output_type": "execute_result",
          "data": {
            "text/plain": [
              "<tensorflow.python.keras.callbacks.History at 0x7ff06a5a5320>"
            ]
          },
          "metadata": {
            "tags": []
          },
          "execution_count": 13
        }
      ]
    },
    {
      "cell_type": "code",
      "metadata": {
        "id": "f_lJhgRJyeu0",
        "colab_type": "code",
        "outputId": "2d0b8268-fca5-4946-dca1-d7eb08705174",
        "colab": {
          "base_uri": "https://localhost:8080/",
          "height": 51
        }
      },
      "source": [
        "model_1.evaluate(test_dataset)"
      ],
      "execution_count": 0,
      "outputs": [
        {
          "output_type": "stream",
          "text": [
            "391/391 [==============================] - 20s 52ms/step - loss: 0.6690 - accuracy: 0.8403\n"
          ],
          "name": "stdout"
        },
        {
          "output_type": "execute_result",
          "data": {
            "text/plain": [
              "[0.6690437197685242, 0.8403199911117554]"
            ]
          },
          "metadata": {
            "tags": []
          },
          "execution_count": 11
        }
      ]
    },
    {
      "cell_type": "code",
      "metadata": {
        "id": "2HKIIisMFHHo",
        "colab_type": "code",
        "outputId": "adffe25a-85bd-43e1-9d11-817f1e2c9ec1",
        "colab": {
          "base_uri": "https://localhost:8080/",
          "height": 51
        }
      },
      "source": [
        "model_2.evaluate(test_dataset)"
      ],
      "execution_count": 0,
      "outputs": [
        {
          "output_type": "stream",
          "text": [
            "391/391 [==============================] - 34s 88ms/step - loss: 1.0427 - accuracy: 0.8676\n"
          ],
          "name": "stdout"
        },
        {
          "output_type": "execute_result",
          "data": {
            "text/plain": [
              "[1.0427048206329346, 0.8676400184631348]"
            ]
          },
          "metadata": {
            "tags": []
          },
          "execution_count": 14
        }
      ]
    },
    {
      "cell_type": "code",
      "metadata": {
        "id": "H8MtGF44CZbx",
        "colab_type": "code",
        "outputId": "e9139575-5edb-40ad-a62a-95cbf035d7ed",
        "colab": {
          "base_uri": "https://localhost:8080/",
          "height": 357
        }
      },
      "source": [
        "\n",
        "!wget http://nlp.stanford.edu/data/glove.840B.300d.zip"
      ],
      "execution_count": 5,
      "outputs": [
        {
          "output_type": "stream",
          "text": [
            "--2020-05-06 07:10:00--  http://nlp.stanford.edu/data/glove.840B.300d.zip\n",
            "Resolving nlp.stanford.edu (nlp.stanford.edu)... 171.64.67.140\n",
            "Connecting to nlp.stanford.edu (nlp.stanford.edu)|171.64.67.140|:80... connected.\n",
            "HTTP request sent, awaiting response... 302 Found\n",
            "Location: https://nlp.stanford.edu/data/glove.840B.300d.zip [following]\n",
            "--2020-05-06 07:10:00--  https://nlp.stanford.edu/data/glove.840B.300d.zip\n",
            "Connecting to nlp.stanford.edu (nlp.stanford.edu)|171.64.67.140|:443... connected.\n",
            "HTTP request sent, awaiting response... 301 Moved Permanently\n",
            "Location: http://downloads.cs.stanford.edu/nlp/data/glove.840B.300d.zip [following]\n",
            "--2020-05-06 07:10:00--  http://downloads.cs.stanford.edu/nlp/data/glove.840B.300d.zip\n",
            "Resolving downloads.cs.stanford.edu (downloads.cs.stanford.edu)... 171.64.64.22\n",
            "Connecting to downloads.cs.stanford.edu (downloads.cs.stanford.edu)|171.64.64.22|:80... connected.\n",
            "HTTP request sent, awaiting response... 200 OK\n",
            "Length: 2176768927 (2.0G) [application/zip]\n",
            "Saving to: ‘glove.840B.300d.zip’\n",
            "\n",
            "glove.840B.300d.zip 100%[===================>]   2.03G  1.94MB/s    in 16m 54s \n",
            "\n",
            "2020-05-06 07:26:54 (2.05 MB/s) - ‘glove.840B.300d.zip’ saved [2176768927/2176768927]\n",
            "\n"
          ],
          "name": "stdout"
        }
      ]
    },
    {
      "cell_type": "code",
      "metadata": {
        "id": "yAKHc0USCbER",
        "colab_type": "code",
        "outputId": "e86a5653-3443-470f-b947-fe2816ccd881",
        "colab": {
          "base_uri": "https://localhost:8080/",
          "height": 51
        }
      },
      "source": [
        "\n",
        "!unzip glove.840B.300d.zip"
      ],
      "execution_count": 6,
      "outputs": [
        {
          "output_type": "stream",
          "text": [
            "Archive:  glove.840B.300d.zip\n",
            "  inflating: glove.840B.300d.txt     \n"
          ],
          "name": "stdout"
        }
      ]
    },
    {
      "cell_type": "code",
      "metadata": {
        "id": "sechAWSzCdLO",
        "colab_type": "code",
        "colab": {}
      },
      "source": [
        "embeddings_index = {}\n",
        "with open(\"glove.840B.300d.txt\", \"r\") as in_file:\n",
        "    for line in in_file:\n",
        "        values = line.split()\n",
        "       \n",
        "        try:\n",
        "            word = values[0]\n",
        "            embeddings_index[word] = np.asarray(values[1:], dtype=np.float32)\n",
        "        except:\n",
        "            pass"
      ],
      "execution_count": 0,
      "outputs": []
    },
    {
      "cell_type": "code",
      "metadata": {
        "id": "SWgeO4RgCeO6",
        "colab_type": "code",
        "outputId": "edf697b5-f13f-48a5-cce4-52a6a47a3b92",
        "colab": {
          "base_uri": "https://localhost:8080/",
          "height": 34
        }
      },
      "source": [
        "len(embeddings_index)"
      ],
      "execution_count": 14,
      "outputs": [
        {
          "output_type": "execute_result",
          "data": {
            "text/plain": [
              "2195884"
            ]
          },
          "metadata": {
            "tags": []
          },
          "execution_count": 14
        }
      ]
    },
    {
      "cell_type": "code",
      "metadata": {
        "id": "N-nyBc_SHO8X",
        "colab_type": "code",
        "colab": {}
      },
      "source": [
        "\n",
        "import matplotlib.pyplot as plt\n",
        "%matplotlib inline\n",
        "\n",
        "import numpy as np"
      ],
      "execution_count": 0,
      "outputs": []
    },
    {
      "cell_type": "code",
      "metadata": {
        "id": "B0o3uAP_Cf1F",
        "colab_type": "code",
        "colab": {}
      },
      "source": [
        "embedding_matrix = np.zeros((encoder.vocab_size, 300))\n",
        "\n",
        "# 0 is used for padding in Keras\n",
        "for index, word in enumerate(encoder.subwords, 1):\n",
        "    word = word.lower()\n",
        "    \n",
        "    # lives_ ==> lives\n",
        "    if word.endswith(\"_\"):\n",
        "        word = word[:-1]\n",
        "\n",
        "    embedding_vector = embeddings_index.get(word)\n",
        "    if embedding_vector is not None:\n",
        "        embedding_matrix[index] = embedding_vector"
      ],
      "execution_count": 0,
      "outputs": []
    },
    {
      "cell_type": "code",
      "metadata": {
        "id": "BqPiM7wiChwM",
        "colab_type": "code",
        "colab": {}
      },
      "source": [
        "model = tf.keras.Sequential([\n",
        "    tf.keras.layers.Embedding(encoder.vocab_size, 300, weights=[embedding_matrix], trainable=False),\n",
        "    tf.keras.layers.Bidirectional(tf.keras.layers.GRU(64,  return_sequences=True), merge_mode='concat'),\n",
        "    tf.keras.layers.Bidirectional(tf.keras.layers.GRU(64), merge_mode='concat'),\n",
        "    tf.keras.layers.Dense(64, activation='elu'),\n",
        "    tf.keras.layers.Dropout(0.5),\n",
        "    tf.keras.layers.Dense(1)\n",
        "])"
      ],
      "execution_count": 0,
      "outputs": []
    },
    {
      "cell_type": "code",
      "metadata": {
        "id": "elEiw5nBCjYW",
        "colab_type": "code",
        "outputId": "6084db83-f399-4c0c-c22e-fd9d20a6986a",
        "colab": {
          "base_uri": "https://localhost:8080/",
          "height": 595
        }
      },
      "source": [
        "model.compile(optimizer='adam', loss='binary_crossentropy', metrics=['accuracy'])\n",
        "\n",
        "history = model.fit(\n",
        "    train_dataset,\n",
        "    epochs=30,\n",
        "    validation_steps=30,\n",
        "    validation_data=test_dataset,\n",
        "    callbacks=[tf.keras.callbacks.EarlyStopping(patience=5)]\n",
        ")"
      ],
      "execution_count": 18,
      "outputs": [
        {
          "output_type": "stream",
          "text": [
            "Epoch 1/30\n",
            "391/391 [==============================] - 102s 260ms/step - loss: 0.8900 - accuracy: 0.5340 - val_loss: 0.6765 - val_accuracy: 0.5844\n",
            "Epoch 2/30\n",
            "391/391 [==============================] - 101s 258ms/step - loss: 0.7523 - accuracy: 0.5728 - val_loss: 0.7505 - val_accuracy: 0.5073\n",
            "Epoch 3/30\n",
            "391/391 [==============================] - 100s 255ms/step - loss: 0.7611 - accuracy: 0.5497 - val_loss: 0.6669 - val_accuracy: 0.5974\n",
            "Epoch 4/30\n",
            "391/391 [==============================] - 99s 254ms/step - loss: 0.6757 - accuracy: 0.6037 - val_loss: 0.6617 - val_accuracy: 0.6589\n",
            "Epoch 5/30\n",
            "391/391 [==============================] - 100s 257ms/step - loss: 0.6088 - accuracy: 0.6932 - val_loss: 0.5497 - val_accuracy: 0.7401\n",
            "Epoch 6/30\n",
            "391/391 [==============================] - 100s 256ms/step - loss: 0.5913 - accuracy: 0.7589 - val_loss: 0.5061 - val_accuracy: 0.7865\n",
            "Epoch 7/30\n",
            "391/391 [==============================] - 100s 256ms/step - loss: 0.5951 - accuracy: 0.7216 - val_loss: 0.4396 - val_accuracy: 0.8073\n",
            "Epoch 8/30\n",
            "391/391 [==============================] - 101s 259ms/step - loss: 0.6328 - accuracy: 0.6802 - val_loss: 0.6915 - val_accuracy: 0.5214\n",
            "Epoch 9/30\n",
            "391/391 [==============================] - 100s 256ms/step - loss: 0.6872 - accuracy: 0.5490 - val_loss: 0.6369 - val_accuracy: 0.6932\n",
            "Epoch 10/30\n",
            "391/391 [==============================] - 100s 255ms/step - loss: 0.5704 - accuracy: 0.7277 - val_loss: 0.4836 - val_accuracy: 0.8281\n",
            "Epoch 11/30\n",
            "391/391 [==============================] - 100s 256ms/step - loss: 0.5116 - accuracy: 0.8012 - val_loss: 0.4172 - val_accuracy: 0.8323\n",
            "Epoch 12/30\n",
            "391/391 [==============================] - 98s 252ms/step - loss: 0.5105 - accuracy: 0.7900 - val_loss: 0.4122 - val_accuracy: 0.8417\n",
            "Epoch 13/30\n",
            "391/391 [==============================] - 100s 256ms/step - loss: 0.5056 - accuracy: 0.7854 - val_loss: 0.4146 - val_accuracy: 0.8245\n",
            "Epoch 14/30\n",
            "391/391 [==============================] - 100s 256ms/step - loss: 0.4584 - accuracy: 0.8324 - val_loss: 0.5251 - val_accuracy: 0.7464\n",
            "Epoch 15/30\n",
            "391/391 [==============================] - 99s 253ms/step - loss: 0.4079 - accuracy: 0.8487 - val_loss: 0.4354 - val_accuracy: 0.8568\n",
            "Epoch 16/30\n",
            "391/391 [==============================] - 99s 253ms/step - loss: 0.5749 - accuracy: 0.7940 - val_loss: 0.4497 - val_accuracy: 0.8547\n",
            "Epoch 17/30\n",
            "391/391 [==============================] - 101s 257ms/step - loss: 0.4079 - accuracy: 0.8528 - val_loss: 0.4242 - val_accuracy: 0.8646\n"
          ],
          "name": "stdout"
        }
      ]
    },
    {
      "cell_type": "code",
      "metadata": {
        "id": "ibl2zA1HClmC",
        "colab_type": "code",
        "outputId": "5923833e-d6b4-44f4-fc6d-ee1c1f2553f6",
        "colab": {
          "base_uri": "https://localhost:8080/",
          "height": 700
        }
      },
      "source": [
        "fig, (ax1, ax2) = plt.subplots(2, 1, figsize=(12, 12))\n",
        "ax1.plot(history.history['loss'], color='b', label=\"Training loss\")\n",
        "ax1.plot(history.history['val_loss'], color='r', label=\"validation loss\")\n",
        "\n",
        "ax2.plot(history.history['accuracy'], color='b', label=\"Training accuracy\")\n",
        "ax2.plot(history.history['val_accuracy'], color='r',label=\"Validation accuracy\")\n",
        "\n",
        "plt.legend()\n",
        "plt.show()"
      ],
      "execution_count": 19,
      "outputs": [
        {
          "output_type": "display_data",
          "data": {
            "image/png": "[encoded data removed]",
            "text/plain": [
              "<Figure size 864x864 with 2 Axes>"
            ]
          },
          "metadata": {
            "tags": [],
            "needs_background": "light"
          }
        }
      ]
    }
  ]
}